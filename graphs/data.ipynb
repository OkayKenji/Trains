{
 "cells": [
  {
   "cell_type": "markdown",
   "metadata": {},
   "source": [
    "# GTFS Data Analysis"
   ]
  },
  {
   "cell_type": "code",
   "execution_count": 1,
   "metadata": {},
   "outputs": [],
   "source": [
    "# Necessary imports\n",
    "import pandas as pd\n",
    "import plotly.express as px\n",
    "import plotly.graph_objects as go\n",
    "import numpy as np\n",
    "import json\n",
    "import datetime\n",
    "import re\n",
    "import math\n",
    "import plotly.io as pio\n"
   ]
  },
  {
   "cell_type": "markdown",
   "metadata": {},
   "source": [
    "Select a railroad:"
   ]
  },
  {
   "cell_type": "code",
   "execution_count": 2,
   "metadata": {},
   "outputs": [],
   "source": [
    "railroad = \"mnrr\""
   ]
  },
  {
   "cell_type": "markdown",
   "metadata": {},
   "source": [
    "Gather data"
   ]
  },
  {
   "cell_type": "code",
   "execution_count": 3,
   "metadata": {},
   "outputs": [],
   "source": [
    "df = pd.read_csv(f'../gtfs_data/{railroad}/stops.txt')\n",
    "df = df[['stop_name','stop_lat','stop_lon']]\n",
    "\n",
    "df_ref = pd.read_csv(f'../data/csv/{railroad}.csv')\n",
    "row_stop_counts = df_ref.drop(columns=[\"stop_name\",\"Unnamed: 0\"]).notna().sum(axis=1)\n",
    "df['counts'] = row_stop_counts\n",
    "df = df.sort_values(by='counts',ascending=False).reset_index(drop=True)"
   ]
  },
  {
   "cell_type": "markdown",
   "metadata": {},
   "source": [
    "Draw stop frequency map (all day)"
   ]
  },
  {
   "cell_type": "code",
   "execution_count": 4,
   "metadata": {},
   "outputs": [
    {
     "data": {
      "application/vnd.plotly.v1+json": {
       "config": {
        "plotlyServerURL": "https://plot.ly"
       },
       "data": [
        {
         "hovertemplate": "<b>%{hovertext}</b><br><br>stop_lat=%{lat}<br>stop_lon=%{lon}<br>counts=%{marker.color}<extra></extra>",
         "hovertext": [
          "Grand Central",
          "Harlem-125 St",
          "Stamford",
          "Fordham",
          "White Plains",
          "North White Plains",
          "Croton-Harmon",
          "Greenwich",
          "Bridgeport",
          "Tarrytown",
          "Ossining",
          "South Norwalk",
          "Stratford",
          "Southeast",
          "Rye",
          "New Rochelle",
          "Port Chester",
          "Harrison",
          "Scarsdale",
          "New Haven",
          "Hartsdale",
          "Yonkers",
          "Mt Vernon East ",
          "Mamaroneck",
          "Larchmont",
          "Old Greenwich",
          "Riverside",
          "Mt Vernon West",
          "Cos Cob",
          "Crestwood",
          "Pelham",
          "West Haven",
          "Fairfield",
          "Fairfield-Black Rock",
          "Milford",
          "Tuckahoe",
          "Bronxville",
          "Fleetwood",
          "Westport",
          "Mt Kisco",
          "Hastings-on-Hudson",
          "Chappaqua",
          "Irvington",
          "Dobbs Ferry",
          "Brewster",
          "Marble Hill",
          "Scarborough",
          "Darien",
          "Goldens Bridge",
          "Philipse Manor",
          "Riverdale",
          "Woodlawn",
          "Spuyten Duyvil",
          "Williams Bridge",
          "Pleasantville",
          "Croton Falls",
          "Katonah",
          "Hawthorne",
          "Purdy's",
          "Ardsley-on-Hudson",
          "Wakefield",
          "Botanical Garden",
          "Bedford Hills",
          "Greystone",
          "Beacon",
          "Valhalla",
          "New Hamburg",
          "Poughkeepsie",
          "Melrose",
          "Tremont",
          "Yankees-E 153 St",
          "Noroton Heights",
          "Glenwood",
          "Ludlow",
          "University Heights",
          "Morris Heights",
          "East Norwalk",
          "Peekskill",
          "Southport",
          "Green's Farms",
          "Garrison",
          "Cortlandt",
          "Cold Spring",
          "Rowayton",
          "Highbridge Yard",
          "Talmadge Hill",
          "Glenbrook",
          "Springdale",
          "New Canaan",
          "Patterson",
          "Harlem Valley-Wingdale",
          "Dover Plains",
          "Pawling",
          "Branchville",
          "Bethel",
          "Wilton",
          "Tenmile River",
          "Wassaic",
          "Cannondale",
          "Redding",
          "Merritt 7",
          "Danbury",
          "Waterbury",
          "Naugatuck",
          "Ansonia",
          "Derby-Shelton",
          "Beacon Falls",
          "Seymour",
          "New Haven-State St",
          "Manitou",
          "Mt Pleasant",
          "Springdale MW Facility",
          "Breakneck Ridge",
          "Appalachian Trail"
         ],
         "lat": [
          40.752998,
          40.805157,
          41.046611,
          40.8615,
          41.032589,
          41.049806,
          41.189903,
          41.021277,
          41.178677,
          41.076473,
          41.157663,
          41.09673,
          41.194255,
          41.413203,
          40.985922,
          40.911605,
          41.000732,
          40.969432,
          40.989168,
          41.296501,
          41.010333,
          40.935795,
          40.912161,
          40.954061,
          40.933394,
          41.033817,
          41.031682,
          40.912142,
          41.030171,
          40.958997,
          40.910321,
          41.27142,
          41.143077,
          41.161,
          41.223231,
          40.949393,
          40.93978,
          40.92699,
          41.118928,
          41.208242,
          40.994109,
          41.158015,
          41.039993,
          41.012459,
          41.39447,
          40.874333,
          41.135763,
          41.076913,
          41.294338,
          41.09492,
          40.903981,
          40.895361,
          40.878245,
          40.878569,
          41.135222,
          41.347722,
          41.259552,
          41.108581,
          41.325775,
          41.026198,
          40.905936,
          40.866555,
          41.237316,
          40.972705,
          41.504007,
          41.072819,
          41.587448,
          41.705839,
          40.825761,
          40.847301,
          40.8253,
          41.069041,
          40.950496,
          40.924972,
          40.862248,
          40.854252,
          41.103996,
          41.285962,
          41.134844,
          41.122265,
          41.38178,
          41.246259,
          41.415283,
          41.077456,
          40.8359,
          41.116012,
          41.070547,
          41.08876,
          41.146305,
          41.511827,
          41.637525,
          41.740401,
          41.564205,
          41.26763,
          41.376225,
          41.196202,
          41.779938,
          41.814722,
          41.21662,
          41.325684,
          41.146618,
          41.396146,
          41.552728,
          41.494204,
          41.344156,
          41.319718,
          41.441752,
          41.395139,
          41.304979,
          41.332601,
          41.095877,
          41.082147,
          41.450181,
          41.592871
         ],
         "legendgroup": "",
         "lon": [
          -73.977056,
          -73.939149,
          -73.542846,
          -73.89058,
          -73.775208,
          -73.773142,
          -73.882394,
          -73.624621,
          -73.187076,
          -73.864563,
          -73.869281,
          -73.421132,
          -73.131532,
          -73.623787,
          -73.682553,
          -73.783807,
          -73.6647,
          -73.712964,
          -73.808634,
          -72.92829,
          -73.796407,
          -73.902668,
          -73.832185,
          -73.736125,
          -73.759792,
          -73.565859,
          -73.588173,
          -73.851129,
          -73.598306,
          -73.820564,
          -73.810242,
          -72.963488,
          -73.257742,
          -73.234336,
          -73.057647,
          -73.830166,
          -73.835208,
          -73.83948,
          -73.371413,
          -73.729778,
          -73.884512,
          -73.774885,
          -73.873083,
          -73.87949,
          -73.619802,
          -73.910941,
          -73.866163,
          -73.472966,
          -73.677655,
          -73.869755,
          -73.914126,
          -73.862916,
          -73.921455,
          -73.871064,
          -73.792661,
          -73.662269,
          -73.684155,
          -73.79625,
          -73.659061,
          -73.876543,
          -73.85568,
          -73.883109,
          -73.699936,
          -73.889069,
          -73.984528,
          -73.772599,
          -73.947226,
          -73.937946,
          -73.915231,
          -73.89955,
          -73.9299,
          -73.49788,
          -73.899062,
          -73.904612,
          -73.91312,
          -73.919583,
          -73.404588,
          -73.93042,
          -73.28897,
          -73.315408,
          -73.947202,
          -73.921884,
          -73.95809,
          -73.445527,
          -73.9315,
          -73.498149,
          -73.520021,
          -73.517828,
          -73.495626,
          -73.604584,
          -73.57145,
          -73.576502,
          -73.600524,
          -73.441421,
          -73.418171,
          -73.432434,
          -73.558204,
          -73.562197,
          -73.426703,
          -73.4338,
          -73.427859,
          -73.44879,
          -73.046126,
          -73.052655,
          -73.079892,
          -73.083548,
          -73.06359,
          -73.072499,
          -72.921747,
          -73.970426,
          -73.793822,
          -73.519675,
          -73.982449,
          -73.588032
         ],
         "marker": {
          "color": [
           569,
           526,
           225,
           178,
           168,
           157,
           141,
           121,
           121,
           109,
           109,
           108,
           107,
           99,
           98,
           97,
           97,
           96,
           93,
           93,
           93,
           92,
           92,
           89,
           89,
           88,
           88,
           88,
           88,
           87,
           86,
           86,
           85,
           85,
           85,
           83,
           83,
           83,
           81,
           81,
           80,
           80,
           80,
           80,
           78,
           78,
           77,
           77,
           76,
           72,
           71,
           71,
           71,
           70,
           70,
           70,
           70,
           70,
           70,
           69,
           67,
           65,
           64,
           64,
           64,
           64,
           63,
           63,
           63,
           63,
           61,
           61,
           61,
           61,
           60,
           60,
           60,
           60,
           58,
           58,
           57,
           57,
           57,
           55,
           45,
           39,
           39,
           39,
           39,
           27,
           27,
           27,
           27,
           26,
           26,
           26,
           26,
           26,
           26,
           26,
           26,
           26,
           24,
           24,
           24,
           24,
           24,
           24,
           13,
           2,
           2,
           1,
           0,
           0
          ],
          "coloraxis": "coloraxis"
         },
         "mode": "markers",
         "name": "",
         "showlegend": false,
         "subplot": "map",
         "type": "scattermap"
        }
       ],
       "layout": {
        "coloraxis": {
         "cmax": 569,
         "cmin": 0,
         "colorbar": {
          "title": {
           "text": "counts"
          }
         },
         "colorscale": [
          [
           0,
           "#440154"
          ],
          [
           0.1111111111111111,
           "#482878"
          ],
          [
           0.2222222222222222,
           "#3e4989"
          ],
          [
           0.3333333333333333,
           "#31688e"
          ],
          [
           0.4444444444444444,
           "#26828e"
          ],
          [
           0.5555555555555556,
           "#1f9e89"
          ],
          [
           0.6666666666666666,
           "#35b779"
          ],
          [
           0.7777777777777778,
           "#6ece58"
          ],
          [
           0.8888888888888888,
           "#b5de2b"
          ],
          [
           1,
           "#fde725"
          ]
         ]
        },
        "geo": {
         "fitbounds": "locations"
        },
        "legend": {
         "tracegroupgap": 0
        },
        "map": {
         "center": {
          "lat": 41.14778172807017,
          "lon": -73.64943086842105
         },
         "domain": {
          "x": [
           0,
           1
          ],
          "y": [
           0,
           1
          ]
         },
         "style": "carto-darkmatter-nolabels",
         "zoom": 8
        },
        "mapbox": {
         "center": {
          "lat": 41.14778172807017,
          "lon": -73.64943086842105
         },
         "zoom": 8
        },
        "margin": {
         "b": 0,
         "l": 0,
         "r": 0,
         "t": 0
        },
        "template": {
         "data": {
          "bar": [
           {
            "error_x": {
             "color": "#2a3f5f"
            },
            "error_y": {
             "color": "#2a3f5f"
            },
            "marker": {
             "line": {
              "color": "#E5ECF6",
              "width": 0.5
             },
             "pattern": {
              "fillmode": "overlay",
              "size": 10,
              "solidity": 0.2
             }
            },
            "type": "bar"
           }
          ],
          "barpolar": [
           {
            "marker": {
             "line": {
              "color": "#E5ECF6",
              "width": 0.5
             },
             "pattern": {
              "fillmode": "overlay",
              "size": 10,
              "solidity": 0.2
             }
            },
            "type": "barpolar"
           }
          ],
          "carpet": [
           {
            "aaxis": {
             "endlinecolor": "#2a3f5f",
             "gridcolor": "white",
             "linecolor": "white",
             "minorgridcolor": "white",
             "startlinecolor": "#2a3f5f"
            },
            "baxis": {
             "endlinecolor": "#2a3f5f",
             "gridcolor": "white",
             "linecolor": "white",
             "minorgridcolor": "white",
             "startlinecolor": "#2a3f5f"
            },
            "type": "carpet"
           }
          ],
          "choropleth": [
           {
            "colorbar": {
             "outlinewidth": 0,
             "ticks": ""
            },
            "type": "choropleth"
           }
          ],
          "contour": [
           {
            "colorbar": {
             "outlinewidth": 0,
             "ticks": ""
            },
            "colorscale": [
             [
              0,
              "#0d0887"
             ],
             [
              0.1111111111111111,
              "#46039f"
             ],
             [
              0.2222222222222222,
              "#7201a8"
             ],
             [
              0.3333333333333333,
              "#9c179e"
             ],
             [
              0.4444444444444444,
              "#bd3786"
             ],
             [
              0.5555555555555556,
              "#d8576b"
             ],
             [
              0.6666666666666666,
              "#ed7953"
             ],
             [
              0.7777777777777778,
              "#fb9f3a"
             ],
             [
              0.8888888888888888,
              "#fdca26"
             ],
             [
              1,
              "#f0f921"
             ]
            ],
            "type": "contour"
           }
          ],
          "contourcarpet": [
           {
            "colorbar": {
             "outlinewidth": 0,
             "ticks": ""
            },
            "type": "contourcarpet"
           }
          ],
          "heatmap": [
           {
            "colorbar": {
             "outlinewidth": 0,
             "ticks": ""
            },
            "colorscale": [
             [
              0,
              "#0d0887"
             ],
             [
              0.1111111111111111,
              "#46039f"
             ],
             [
              0.2222222222222222,
              "#7201a8"
             ],
             [
              0.3333333333333333,
              "#9c179e"
             ],
             [
              0.4444444444444444,
              "#bd3786"
             ],
             [
              0.5555555555555556,
              "#d8576b"
             ],
             [
              0.6666666666666666,
              "#ed7953"
             ],
             [
              0.7777777777777778,
              "#fb9f3a"
             ],
             [
              0.8888888888888888,
              "#fdca26"
             ],
             [
              1,
              "#f0f921"
             ]
            ],
            "type": "heatmap"
           }
          ],
          "heatmapgl": [
           {
            "colorbar": {
             "outlinewidth": 0,
             "ticks": ""
            },
            "colorscale": [
             [
              0,
              "#0d0887"
             ],
             [
              0.1111111111111111,
              "#46039f"
             ],
             [
              0.2222222222222222,
              "#7201a8"
             ],
             [
              0.3333333333333333,
              "#9c179e"
             ],
             [
              0.4444444444444444,
              "#bd3786"
             ],
             [
              0.5555555555555556,
              "#d8576b"
             ],
             [
              0.6666666666666666,
              "#ed7953"
             ],
             [
              0.7777777777777778,
              "#fb9f3a"
             ],
             [
              0.8888888888888888,
              "#fdca26"
             ],
             [
              1,
              "#f0f921"
             ]
            ],
            "type": "heatmapgl"
           }
          ],
          "histogram": [
           {
            "marker": {
             "pattern": {
              "fillmode": "overlay",
              "size": 10,
              "solidity": 0.2
             }
            },
            "type": "histogram"
           }
          ],
          "histogram2d": [
           {
            "colorbar": {
             "outlinewidth": 0,
             "ticks": ""
            },
            "colorscale": [
             [
              0,
              "#0d0887"
             ],
             [
              0.1111111111111111,
              "#46039f"
             ],
             [
              0.2222222222222222,
              "#7201a8"
             ],
             [
              0.3333333333333333,
              "#9c179e"
             ],
             [
              0.4444444444444444,
              "#bd3786"
             ],
             [
              0.5555555555555556,
              "#d8576b"
             ],
             [
              0.6666666666666666,
              "#ed7953"
             ],
             [
              0.7777777777777778,
              "#fb9f3a"
             ],
             [
              0.8888888888888888,
              "#fdca26"
             ],
             [
              1,
              "#f0f921"
             ]
            ],
            "type": "histogram2d"
           }
          ],
          "histogram2dcontour": [
           {
            "colorbar": {
             "outlinewidth": 0,
             "ticks": ""
            },
            "colorscale": [
             [
              0,
              "#0d0887"
             ],
             [
              0.1111111111111111,
              "#46039f"
             ],
             [
              0.2222222222222222,
              "#7201a8"
             ],
             [
              0.3333333333333333,
              "#9c179e"
             ],
             [
              0.4444444444444444,
              "#bd3786"
             ],
             [
              0.5555555555555556,
              "#d8576b"
             ],
             [
              0.6666666666666666,
              "#ed7953"
             ],
             [
              0.7777777777777778,
              "#fb9f3a"
             ],
             [
              0.8888888888888888,
              "#fdca26"
             ],
             [
              1,
              "#f0f921"
             ]
            ],
            "type": "histogram2dcontour"
           }
          ],
          "mesh3d": [
           {
            "colorbar": {
             "outlinewidth": 0,
             "ticks": ""
            },
            "type": "mesh3d"
           }
          ],
          "parcoords": [
           {
            "line": {
             "colorbar": {
              "outlinewidth": 0,
              "ticks": ""
             }
            },
            "type": "parcoords"
           }
          ],
          "pie": [
           {
            "automargin": true,
            "type": "pie"
           }
          ],
          "scatter": [
           {
            "fillpattern": {
             "fillmode": "overlay",
             "size": 10,
             "solidity": 0.2
            },
            "type": "scatter"
           }
          ],
          "scatter3d": [
           {
            "line": {
             "colorbar": {
              "outlinewidth": 0,
              "ticks": ""
             }
            },
            "marker": {
             "colorbar": {
              "outlinewidth": 0,
              "ticks": ""
             }
            },
            "type": "scatter3d"
           }
          ],
          "scattercarpet": [
           {
            "marker": {
             "colorbar": {
              "outlinewidth": 0,
              "ticks": ""
             }
            },
            "type": "scattercarpet"
           }
          ],
          "scattergeo": [
           {
            "marker": {
             "colorbar": {
              "outlinewidth": 0,
              "ticks": ""
             }
            },
            "type": "scattergeo"
           }
          ],
          "scattergl": [
           {
            "marker": {
             "colorbar": {
              "outlinewidth": 0,
              "ticks": ""
             }
            },
            "type": "scattergl"
           }
          ],
          "scattermapbox": [
           {
            "marker": {
             "colorbar": {
              "outlinewidth": 0,
              "ticks": ""
             }
            },
            "type": "scattermapbox"
           }
          ],
          "scatterpolar": [
           {
            "marker": {
             "colorbar": {
              "outlinewidth": 0,
              "ticks": ""
             }
            },
            "type": "scatterpolar"
           }
          ],
          "scatterpolargl": [
           {
            "marker": {
             "colorbar": {
              "outlinewidth": 0,
              "ticks": ""
             }
            },
            "type": "scatterpolargl"
           }
          ],
          "scatterternary": [
           {
            "marker": {
             "colorbar": {
              "outlinewidth": 0,
              "ticks": ""
             }
            },
            "type": "scatterternary"
           }
          ],
          "surface": [
           {
            "colorbar": {
             "outlinewidth": 0,
             "ticks": ""
            },
            "colorscale": [
             [
              0,
              "#0d0887"
             ],
             [
              0.1111111111111111,
              "#46039f"
             ],
             [
              0.2222222222222222,
              "#7201a8"
             ],
             [
              0.3333333333333333,
              "#9c179e"
             ],
             [
              0.4444444444444444,
              "#bd3786"
             ],
             [
              0.5555555555555556,
              "#d8576b"
             ],
             [
              0.6666666666666666,
              "#ed7953"
             ],
             [
              0.7777777777777778,
              "#fb9f3a"
             ],
             [
              0.8888888888888888,
              "#fdca26"
             ],
             [
              1,
              "#f0f921"
             ]
            ],
            "type": "surface"
           }
          ],
          "table": [
           {
            "cells": {
             "fill": {
              "color": "#EBF0F8"
             },
             "line": {
              "color": "white"
             }
            },
            "header": {
             "fill": {
              "color": "#C8D4E3"
             },
             "line": {
              "color": "white"
             }
            },
            "type": "table"
           }
          ]
         },
         "layout": {
          "annotationdefaults": {
           "arrowcolor": "#2a3f5f",
           "arrowhead": 0,
           "arrowwidth": 1
          },
          "autotypenumbers": "strict",
          "coloraxis": {
           "colorbar": {
            "outlinewidth": 0,
            "ticks": ""
           }
          },
          "colorscale": {
           "diverging": [
            [
             0,
             "#8e0152"
            ],
            [
             0.1,
             "#c51b7d"
            ],
            [
             0.2,
             "#de77ae"
            ],
            [
             0.3,
             "#f1b6da"
            ],
            [
             0.4,
             "#fde0ef"
            ],
            [
             0.5,
             "#f7f7f7"
            ],
            [
             0.6,
             "#e6f5d0"
            ],
            [
             0.7,
             "#b8e186"
            ],
            [
             0.8,
             "#7fbc41"
            ],
            [
             0.9,
             "#4d9221"
            ],
            [
             1,
             "#276419"
            ]
           ],
           "sequential": [
            [
             0,
             "#0d0887"
            ],
            [
             0.1111111111111111,
             "#46039f"
            ],
            [
             0.2222222222222222,
             "#7201a8"
            ],
            [
             0.3333333333333333,
             "#9c179e"
            ],
            [
             0.4444444444444444,
             "#bd3786"
            ],
            [
             0.5555555555555556,
             "#d8576b"
            ],
            [
             0.6666666666666666,
             "#ed7953"
            ],
            [
             0.7777777777777778,
             "#fb9f3a"
            ],
            [
             0.8888888888888888,
             "#fdca26"
            ],
            [
             1,
             "#f0f921"
            ]
           ],
           "sequentialminus": [
            [
             0,
             "#0d0887"
            ],
            [
             0.1111111111111111,
             "#46039f"
            ],
            [
             0.2222222222222222,
             "#7201a8"
            ],
            [
             0.3333333333333333,
             "#9c179e"
            ],
            [
             0.4444444444444444,
             "#bd3786"
            ],
            [
             0.5555555555555556,
             "#d8576b"
            ],
            [
             0.6666666666666666,
             "#ed7953"
            ],
            [
             0.7777777777777778,
             "#fb9f3a"
            ],
            [
             0.8888888888888888,
             "#fdca26"
            ],
            [
             1,
             "#f0f921"
            ]
           ]
          },
          "colorway": [
           "#636efa",
           "#EF553B",
           "#00cc96",
           "#ab63fa",
           "#FFA15A",
           "#19d3f3",
           "#FF6692",
           "#B6E880",
           "#FF97FF",
           "#FECB52"
          ],
          "font": {
           "color": "#2a3f5f"
          },
          "geo": {
           "bgcolor": "white",
           "lakecolor": "white",
           "landcolor": "#E5ECF6",
           "showlakes": true,
           "showland": true,
           "subunitcolor": "white"
          },
          "hoverlabel": {
           "align": "left"
          },
          "hovermode": "closest",
          "mapbox": {
           "style": "light"
          },
          "paper_bgcolor": "white",
          "plot_bgcolor": "#E5ECF6",
          "polar": {
           "angularaxis": {
            "gridcolor": "white",
            "linecolor": "white",
            "ticks": ""
           },
           "bgcolor": "#E5ECF6",
           "radialaxis": {
            "gridcolor": "white",
            "linecolor": "white",
            "ticks": ""
           }
          },
          "scene": {
           "xaxis": {
            "backgroundcolor": "#E5ECF6",
            "gridcolor": "white",
            "gridwidth": 2,
            "linecolor": "white",
            "showbackground": true,
            "ticks": "",
            "zerolinecolor": "white"
           },
           "yaxis": {
            "backgroundcolor": "#E5ECF6",
            "gridcolor": "white",
            "gridwidth": 2,
            "linecolor": "white",
            "showbackground": true,
            "ticks": "",
            "zerolinecolor": "white"
           },
           "zaxis": {
            "backgroundcolor": "#E5ECF6",
            "gridcolor": "white",
            "gridwidth": 2,
            "linecolor": "white",
            "showbackground": true,
            "ticks": "",
            "zerolinecolor": "white"
           }
          },
          "shapedefaults": {
           "line": {
            "color": "#2a3f5f"
           }
          },
          "ternary": {
           "aaxis": {
            "gridcolor": "white",
            "linecolor": "white",
            "ticks": ""
           },
           "baxis": {
            "gridcolor": "white",
            "linecolor": "white",
            "ticks": ""
           },
           "bgcolor": "#E5ECF6",
           "caxis": {
            "gridcolor": "white",
            "linecolor": "white",
            "ticks": ""
           }
          },
          "title": {
           "x": 0.05
          },
          "xaxis": {
           "automargin": true,
           "gridcolor": "white",
           "linecolor": "white",
           "ticks": "",
           "title": {
            "standoff": 15
           },
           "zerolinecolor": "white",
           "zerolinewidth": 2
          },
          "yaxis": {
           "automargin": true,
           "gridcolor": "white",
           "linecolor": "white",
           "ticks": "",
           "title": {
            "standoff": 15
           },
           "zerolinecolor": "white",
           "zerolinewidth": 2
          }
         }
        }
       }
      }
     },
     "metadata": {},
     "output_type": "display_data"
    }
   ],
   "source": [
    "fig = px.scatter_map(df,\n",
    "                    lat=df.stop_lat,\n",
    "                    lon=df.stop_lon,\n",
    "                    hover_name=\"stop_name\",\n",
    "                    color=\"counts\", \n",
    "                    color_continuous_scale=\"Viridis\",\n",
    "                    range_color=[0, df[\"counts\"].max()]\n",
    "                   )\n",
    "fig.update_geos(fitbounds=\"locations\")\n",
    "fig.update_layout(map_style=\"carto-darkmatter-nolabels\")\n",
    "fig.update_layout(margin={\"r\":0,\"t\":0,\"l\":0,\"b\":0})\n",
    "\n",
    "fig.show()"
   ]
  },
  {
   "cell_type": "code",
   "execution_count": 5,
   "metadata": {},
   "outputs": [],
   "source": [
    "with open(f'../data/json/data{railroad}.json', 'r') as file:\n",
    "    train_list = json.load(file)\n",
    "    if (len(train_list) <= 0):\n",
    "        print(f\"\\tWarning! Empty List.\")\n",
    "        print(f\"\\tNumber of trains: 0\")"
   ]
  },
  {
   "cell_type": "code",
   "execution_count": 6,
   "metadata": {},
   "outputs": [
    {
     "data": {
      "application/vnd.plotly.v1+json": {
       "config": {
        "plotlyServerURL": "https://plot.ly"
       },
       "data": [
        {
         "domain": {
          "x": [
           0,
           1
          ],
          "y": [
           0,
           1
          ]
         },
         "hovertemplate": "train_line=%{label}<br>value=%{value}<extra></extra>",
         "labels": [
          "Danbury",
          "Harlem",
          "Hudson",
          "New Canaan",
          "New Haven",
          "Waterbury"
         ],
         "legendgroup": "",
         "name": "",
         "showlegend": true,
         "type": "pie",
         "values": [
          26,
          208,
          156,
          39,
          211,
          24
         ]
        }
       ],
       "layout": {
        "legend": {
         "tracegroupgap": 0
        },
        "template": {
         "data": {
          "bar": [
           {
            "error_x": {
             "color": "#2a3f5f"
            },
            "error_y": {
             "color": "#2a3f5f"
            },
            "marker": {
             "line": {
              "color": "#E5ECF6",
              "width": 0.5
             },
             "pattern": {
              "fillmode": "overlay",
              "size": 10,
              "solidity": 0.2
             }
            },
            "type": "bar"
           }
          ],
          "barpolar": [
           {
            "marker": {
             "line": {
              "color": "#E5ECF6",
              "width": 0.5
             },
             "pattern": {
              "fillmode": "overlay",
              "size": 10,
              "solidity": 0.2
             }
            },
            "type": "barpolar"
           }
          ],
          "carpet": [
           {
            "aaxis": {
             "endlinecolor": "#2a3f5f",
             "gridcolor": "white",
             "linecolor": "white",
             "minorgridcolor": "white",
             "startlinecolor": "#2a3f5f"
            },
            "baxis": {
             "endlinecolor": "#2a3f5f",
             "gridcolor": "white",
             "linecolor": "white",
             "minorgridcolor": "white",
             "startlinecolor": "#2a3f5f"
            },
            "type": "carpet"
           }
          ],
          "choropleth": [
           {
            "colorbar": {
             "outlinewidth": 0,
             "ticks": ""
            },
            "type": "choropleth"
           }
          ],
          "contour": [
           {
            "colorbar": {
             "outlinewidth": 0,
             "ticks": ""
            },
            "colorscale": [
             [
              0,
              "#0d0887"
             ],
             [
              0.1111111111111111,
              "#46039f"
             ],
             [
              0.2222222222222222,
              "#7201a8"
             ],
             [
              0.3333333333333333,
              "#9c179e"
             ],
             [
              0.4444444444444444,
              "#bd3786"
             ],
             [
              0.5555555555555556,
              "#d8576b"
             ],
             [
              0.6666666666666666,
              "#ed7953"
             ],
             [
              0.7777777777777778,
              "#fb9f3a"
             ],
             [
              0.8888888888888888,
              "#fdca26"
             ],
             [
              1,
              "#f0f921"
             ]
            ],
            "type": "contour"
           }
          ],
          "contourcarpet": [
           {
            "colorbar": {
             "outlinewidth": 0,
             "ticks": ""
            },
            "type": "contourcarpet"
           }
          ],
          "heatmap": [
           {
            "colorbar": {
             "outlinewidth": 0,
             "ticks": ""
            },
            "colorscale": [
             [
              0,
              "#0d0887"
             ],
             [
              0.1111111111111111,
              "#46039f"
             ],
             [
              0.2222222222222222,
              "#7201a8"
             ],
             [
              0.3333333333333333,
              "#9c179e"
             ],
             [
              0.4444444444444444,
              "#bd3786"
             ],
             [
              0.5555555555555556,
              "#d8576b"
             ],
             [
              0.6666666666666666,
              "#ed7953"
             ],
             [
              0.7777777777777778,
              "#fb9f3a"
             ],
             [
              0.8888888888888888,
              "#fdca26"
             ],
             [
              1,
              "#f0f921"
             ]
            ],
            "type": "heatmap"
           }
          ],
          "heatmapgl": [
           {
            "colorbar": {
             "outlinewidth": 0,
             "ticks": ""
            },
            "colorscale": [
             [
              0,
              "#0d0887"
             ],
             [
              0.1111111111111111,
              "#46039f"
             ],
             [
              0.2222222222222222,
              "#7201a8"
             ],
             [
              0.3333333333333333,
              "#9c179e"
             ],
             [
              0.4444444444444444,
              "#bd3786"
             ],
             [
              0.5555555555555556,
              "#d8576b"
             ],
             [
              0.6666666666666666,
              "#ed7953"
             ],
             [
              0.7777777777777778,
              "#fb9f3a"
             ],
             [
              0.8888888888888888,
              "#fdca26"
             ],
             [
              1,
              "#f0f921"
             ]
            ],
            "type": "heatmapgl"
           }
          ],
          "histogram": [
           {
            "marker": {
             "pattern": {
              "fillmode": "overlay",
              "size": 10,
              "solidity": 0.2
             }
            },
            "type": "histogram"
           }
          ],
          "histogram2d": [
           {
            "colorbar": {
             "outlinewidth": 0,
             "ticks": ""
            },
            "colorscale": [
             [
              0,
              "#0d0887"
             ],
             [
              0.1111111111111111,
              "#46039f"
             ],
             [
              0.2222222222222222,
              "#7201a8"
             ],
             [
              0.3333333333333333,
              "#9c179e"
             ],
             [
              0.4444444444444444,
              "#bd3786"
             ],
             [
              0.5555555555555556,
              "#d8576b"
             ],
             [
              0.6666666666666666,
              "#ed7953"
             ],
             [
              0.7777777777777778,
              "#fb9f3a"
             ],
             [
              0.8888888888888888,
              "#fdca26"
             ],
             [
              1,
              "#f0f921"
             ]
            ],
            "type": "histogram2d"
           }
          ],
          "histogram2dcontour": [
           {
            "colorbar": {
             "outlinewidth": 0,
             "ticks": ""
            },
            "colorscale": [
             [
              0,
              "#0d0887"
             ],
             [
              0.1111111111111111,
              "#46039f"
             ],
             [
              0.2222222222222222,
              "#7201a8"
             ],
             [
              0.3333333333333333,
              "#9c179e"
             ],
             [
              0.4444444444444444,
              "#bd3786"
             ],
             [
              0.5555555555555556,
              "#d8576b"
             ],
             [
              0.6666666666666666,
              "#ed7953"
             ],
             [
              0.7777777777777778,
              "#fb9f3a"
             ],
             [
              0.8888888888888888,
              "#fdca26"
             ],
             [
              1,
              "#f0f921"
             ]
            ],
            "type": "histogram2dcontour"
           }
          ],
          "mesh3d": [
           {
            "colorbar": {
             "outlinewidth": 0,
             "ticks": ""
            },
            "type": "mesh3d"
           }
          ],
          "parcoords": [
           {
            "line": {
             "colorbar": {
              "outlinewidth": 0,
              "ticks": ""
             }
            },
            "type": "parcoords"
           }
          ],
          "pie": [
           {
            "automargin": true,
            "type": "pie"
           }
          ],
          "scatter": [
           {
            "fillpattern": {
             "fillmode": "overlay",
             "size": 10,
             "solidity": 0.2
            },
            "type": "scatter"
           }
          ],
          "scatter3d": [
           {
            "line": {
             "colorbar": {
              "outlinewidth": 0,
              "ticks": ""
             }
            },
            "marker": {
             "colorbar": {
              "outlinewidth": 0,
              "ticks": ""
             }
            },
            "type": "scatter3d"
           }
          ],
          "scattercarpet": [
           {
            "marker": {
             "colorbar": {
              "outlinewidth": 0,
              "ticks": ""
             }
            },
            "type": "scattercarpet"
           }
          ],
          "scattergeo": [
           {
            "marker": {
             "colorbar": {
              "outlinewidth": 0,
              "ticks": ""
             }
            },
            "type": "scattergeo"
           }
          ],
          "scattergl": [
           {
            "marker": {
             "colorbar": {
              "outlinewidth": 0,
              "ticks": ""
             }
            },
            "type": "scattergl"
           }
          ],
          "scattermapbox": [
           {
            "marker": {
             "colorbar": {
              "outlinewidth": 0,
              "ticks": ""
             }
            },
            "type": "scattermapbox"
           }
          ],
          "scatterpolar": [
           {
            "marker": {
             "colorbar": {
              "outlinewidth": 0,
              "ticks": ""
             }
            },
            "type": "scatterpolar"
           }
          ],
          "scatterpolargl": [
           {
            "marker": {
             "colorbar": {
              "outlinewidth": 0,
              "ticks": ""
             }
            },
            "type": "scatterpolargl"
           }
          ],
          "scatterternary": [
           {
            "marker": {
             "colorbar": {
              "outlinewidth": 0,
              "ticks": ""
             }
            },
            "type": "scatterternary"
           }
          ],
          "surface": [
           {
            "colorbar": {
             "outlinewidth": 0,
             "ticks": ""
            },
            "colorscale": [
             [
              0,
              "#0d0887"
             ],
             [
              0.1111111111111111,
              "#46039f"
             ],
             [
              0.2222222222222222,
              "#7201a8"
             ],
             [
              0.3333333333333333,
              "#9c179e"
             ],
             [
              0.4444444444444444,
              "#bd3786"
             ],
             [
              0.5555555555555556,
              "#d8576b"
             ],
             [
              0.6666666666666666,
              "#ed7953"
             ],
             [
              0.7777777777777778,
              "#fb9f3a"
             ],
             [
              0.8888888888888888,
              "#fdca26"
             ],
             [
              1,
              "#f0f921"
             ]
            ],
            "type": "surface"
           }
          ],
          "table": [
           {
            "cells": {
             "fill": {
              "color": "#EBF0F8"
             },
             "line": {
              "color": "white"
             }
            },
            "header": {
             "fill": {
              "color": "#C8D4E3"
             },
             "line": {
              "color": "white"
             }
            },
            "type": "table"
           }
          ]
         },
         "layout": {
          "annotationdefaults": {
           "arrowcolor": "#2a3f5f",
           "arrowhead": 0,
           "arrowwidth": 1
          },
          "autotypenumbers": "strict",
          "coloraxis": {
           "colorbar": {
            "outlinewidth": 0,
            "ticks": ""
           }
          },
          "colorscale": {
           "diverging": [
            [
             0,
             "#8e0152"
            ],
            [
             0.1,
             "#c51b7d"
            ],
            [
             0.2,
             "#de77ae"
            ],
            [
             0.3,
             "#f1b6da"
            ],
            [
             0.4,
             "#fde0ef"
            ],
            [
             0.5,
             "#f7f7f7"
            ],
            [
             0.6,
             "#e6f5d0"
            ],
            [
             0.7,
             "#b8e186"
            ],
            [
             0.8,
             "#7fbc41"
            ],
            [
             0.9,
             "#4d9221"
            ],
            [
             1,
             "#276419"
            ]
           ],
           "sequential": [
            [
             0,
             "#0d0887"
            ],
            [
             0.1111111111111111,
             "#46039f"
            ],
            [
             0.2222222222222222,
             "#7201a8"
            ],
            [
             0.3333333333333333,
             "#9c179e"
            ],
            [
             0.4444444444444444,
             "#bd3786"
            ],
            [
             0.5555555555555556,
             "#d8576b"
            ],
            [
             0.6666666666666666,
             "#ed7953"
            ],
            [
             0.7777777777777778,
             "#fb9f3a"
            ],
            [
             0.8888888888888888,
             "#fdca26"
            ],
            [
             1,
             "#f0f921"
            ]
           ],
           "sequentialminus": [
            [
             0,
             "#0d0887"
            ],
            [
             0.1111111111111111,
             "#46039f"
            ],
            [
             0.2222222222222222,
             "#7201a8"
            ],
            [
             0.3333333333333333,
             "#9c179e"
            ],
            [
             0.4444444444444444,
             "#bd3786"
            ],
            [
             0.5555555555555556,
             "#d8576b"
            ],
            [
             0.6666666666666666,
             "#ed7953"
            ],
            [
             0.7777777777777778,
             "#fb9f3a"
            ],
            [
             0.8888888888888888,
             "#fdca26"
            ],
            [
             1,
             "#f0f921"
            ]
           ]
          },
          "colorway": [
           "#636efa",
           "#EF553B",
           "#00cc96",
           "#ab63fa",
           "#FFA15A",
           "#19d3f3",
           "#FF6692",
           "#B6E880",
           "#FF97FF",
           "#FECB52"
          ],
          "font": {
           "color": "#2a3f5f"
          },
          "geo": {
           "bgcolor": "white",
           "lakecolor": "white",
           "landcolor": "#E5ECF6",
           "showlakes": true,
           "showland": true,
           "subunitcolor": "white"
          },
          "hoverlabel": {
           "align": "left"
          },
          "hovermode": "closest",
          "mapbox": {
           "style": "light"
          },
          "paper_bgcolor": "white",
          "plot_bgcolor": "#E5ECF6",
          "polar": {
           "angularaxis": {
            "gridcolor": "white",
            "linecolor": "white",
            "ticks": ""
           },
           "bgcolor": "#E5ECF6",
           "radialaxis": {
            "gridcolor": "white",
            "linecolor": "white",
            "ticks": ""
           }
          },
          "scene": {
           "xaxis": {
            "backgroundcolor": "#E5ECF6",
            "gridcolor": "white",
            "gridwidth": 2,
            "linecolor": "white",
            "showbackground": true,
            "ticks": "",
            "zerolinecolor": "white"
           },
           "yaxis": {
            "backgroundcolor": "#E5ECF6",
            "gridcolor": "white",
            "gridwidth": 2,
            "linecolor": "white",
            "showbackground": true,
            "ticks": "",
            "zerolinecolor": "white"
           },
           "zaxis": {
            "backgroundcolor": "#E5ECF6",
            "gridcolor": "white",
            "gridwidth": 2,
            "linecolor": "white",
            "showbackground": true,
            "ticks": "",
            "zerolinecolor": "white"
           }
          },
          "shapedefaults": {
           "line": {
            "color": "#2a3f5f"
           }
          },
          "ternary": {
           "aaxis": {
            "gridcolor": "white",
            "linecolor": "white",
            "ticks": ""
           },
           "baxis": {
            "gridcolor": "white",
            "linecolor": "white",
            "ticks": ""
           },
           "bgcolor": "#E5ECF6",
           "caxis": {
            "gridcolor": "white",
            "linecolor": "white",
            "ticks": ""
           }
          },
          "title": {
           "x": 0.05
          },
          "xaxis": {
           "automargin": true,
           "gridcolor": "white",
           "linecolor": "white",
           "ticks": "",
           "title": {
            "standoff": 15
           },
           "zerolinecolor": "white",
           "zerolinewidth": 2
          },
          "yaxis": {
           "automargin": true,
           "gridcolor": "white",
           "linecolor": "white",
           "ticks": "",
           "title": {
            "standoff": 15
           },
           "zerolinecolor": "white",
           "zerolinewidth": 2
          }
         }
        },
        "title": {
         "text": "Rides by Line"
        }
       }
      }
     },
     "metadata": {},
     "output_type": "display_data"
    }
   ],
   "source": [
    "train_lines = sorted(list({train[\"train_line\"] for train in train_list}))\n",
    "graph_for_lines = {}\n",
    "for train_line in train_lines:\n",
    "    total_train_in_route = sum(1 for train in train_list if train[\"train_line\"] == train_line)\n",
    "    graph_for_lines[train_line] = total_train_in_route\n",
    "\n",
    "graph_for_lines = pd.DataFrame(list(graph_for_lines.items()), columns=[\"train_line\", \"value\"])\n",
    "\n",
    "# Create the pie chart\n",
    "fig = px.pie(graph_for_lines, names=\"train_line\", values=\"value\", title=\"Rides by Line\")\n",
    "fig.show()"
   ]
  },
  {
   "cell_type": "code",
   "execution_count": 7,
   "metadata": {},
   "outputs": [],
   "source": [
    "num_stops = []\n",
    "binned_times = {\n",
    "    \"4-10\" : 0,\n",
    "    \"10-16\" : 0,\n",
    "    \"16-22\" : 0,\n",
    "    \"22-4\": 0\n",
    "}\n",
    "hourly_times = {}\n",
    "hourly_times_arriving = {}\n",
    "for train in train_list:\n",
    "    df = pd.DataFrame(train['stops']).transpose()\n",
    "    df_cleaned = df[df['departure_time'] != 'n/a']\n",
    "    df_cleaned.loc[:, 'stop_index'] = df_cleaned['stop_index'].astype(int)\n",
    "    df_cleaned = df_cleaned.sort_values(by='stop_index')\n",
    "\n",
    "    timeA = df_cleaned.iloc[0].departure_time\n",
    "    timeB = df_cleaned.iloc[len(df_cleaned)-1].departure_time\n",
    "\n",
    "    timeA = f'1900-01-{1+(int(timeA[:timeA.find(\":\")])//24)} {int(timeA[:timeA.find(\":\")])%24}:{timeA[timeA.find(\":\")+1:]}' if re.match(r\"^([2-9][4-9]|[3-9]\\d|\\d{3,}):.*\",timeA) else f'1900-01-01 {timeA}'\n",
    "    timeB = f'1900-01-{1+(int(timeB[:timeB.find(\":\")])//24)} {int(timeB[:timeB.find(\":\")])%24}:{timeB[timeB.find(\":\")+1:]}' if re.match(r\"^([2-9][4-9]|[3-9]\\d|\\d{3,}):.*\",timeB) else f'1900-01-01 {timeB}'\n",
    "    timeA = datetime.datetime.strptime(timeA, '%Y-%m-%d %H:%M:%S')\n",
    "    timeB = datetime.datetime.strptime(timeB, '%Y-%m-%d %H:%M:%S')\n",
    "    \n",
    "    binned_times[list(binned_times.keys())[math.floor((timeA.hour-4)/6)]] = binned_times[list(binned_times.keys())[math.floor((timeA.hour-4)/6)]] + 1\n",
    "    \n",
    "    if f'{timeA.hour}' in hourly_times:\n",
    "        hourly_times[f'{timeA.hour}'][int(train['direction_id'])] = hourly_times[f'{timeA.hour}'][int(train['direction_id'])] + 1\n",
    "    else:\n",
    "        arr = [0, 0]\n",
    "        arr[int(train['direction_id'])] = 1\n",
    "        hourly_times[f'{timeA.hour}'] = arr\n",
    "\n",
    "    if f'{timeB.hour}' in hourly_times_arriving:\n",
    "        hourly_times_arriving[f'{timeB.hour}'][int(train['direction_id'])] = hourly_times_arriving[f'{timeB.hour}'][int(train['direction_id'])] + 1\n",
    "    else:\n",
    "        arr = [0, 0]\n",
    "        arr[int(train['direction_id'])] = 1\n",
    "        hourly_times_arriving[f'{timeB.hour}'] = arr\n",
    "\n",
    "    # print(\n",
    "    #     df_cleaned.iloc[len(df_cleaned)-1].name , train[\"direction_id\"] , df_cleaned.iloc[0].name,\n",
    "    #     df_cleaned.iloc[len(df_cleaned)-1].name if train[\"direction_id\"] == \"0\" else df_cleaned.iloc[0].name\n",
    "    #     )\n",
    "    \n",
    "    \n",
    "    num_stops.append({\n",
    "        'train_id' : train['train_number'],\n",
    "        'number_of_stops': len(df_cleaned),\n",
    "        'first_stop_time' : df_cleaned.iloc[0].departure_time,\n",
    "        'last_stop_time' : df_cleaned.iloc[len(df_cleaned)-1].departure_time,\n",
    "        'travel_time': int((timeB-timeA).total_seconds()),\n",
    "        'distance' : train['distance'],\n",
    "        'train_line': f'{ train[\"train_line\"]}',\n",
    "        'train_label': f'{ train[\"train_number\"]} {train[\"train_line\"]} ({df_cleaned.iloc[len(df_cleaned)-1].name if train[\"direction_id\"] == \"0\" else df_cleaned.iloc[0].name})'\n",
    "    })"
   ]
  },
  {
   "cell_type": "code",
   "execution_count": 8,
   "metadata": {},
   "outputs": [
    {
     "name": "stdout",
     "output_type": "stream",
     "text": [
      "\n",
      "\tShortest Trip (stop # wise): 4 stops on 507\n",
      "\tLongest Trip (stop # wise): 30 stops on 699\n",
      "\tOn average trains make: 13 stops\n",
      "\tMedian # of train: 13 stops\n"
     ]
    }
   ],
   "source": [
    "min_by_stops = min(num_stops, key=lambda x: x[\"number_of_stops\"])\n",
    "max_by_stops = max(num_stops, key=lambda x: x[\"number_of_stops\"])\n",
    "trip_durations = [trip['number_of_stops'] for trip in num_stops]\n",
    "avg_stops = np.mean(trip_durations)\n",
    "median_stops = np.median(trip_durations)\n",
    "print(f'\\n\\tShortest Trip (stop # wise): {min_by_stops[\"number_of_stops\"]} stops on {min_by_stops[\"train_id\"]}')\n",
    "print(f'\\tLongest Trip (stop # wise): {max_by_stops[\"number_of_stops\"]} stops on {max_by_stops[\"train_id\"]}')\n",
    "print(f'\\tOn average trains make: {avg_stops:.0f} stops')\n",
    "print(f'\\tMedian # of train: {median_stops:.0f} stops')\n",
    "# maybe some sort of normal graph"
   ]
  },
  {
   "cell_type": "code",
   "execution_count": 9,
   "metadata": {},
   "outputs": [
    {
     "name": "stdout",
     "output_type": "stream",
     "text": [
      "\n",
      "\tShortest Trip (distance wise): 7.3 miles on 1716\n",
      "\tLongest Trip (distance wise): 82.0 miles on 916\n",
      "\tOn average trains travels: 41.7 miles\n",
      "\tMedian travel distance: 33.0 miles\n"
     ]
    }
   ],
   "source": [
    "if (railroad != \"metrolink\" and railroad != \"sle\"):\n",
    "    cleaned_data = [item for item in num_stops if item[\"distance\"] != \"NA\"]\n",
    "    min_by_distance = min(cleaned_data, key=lambda x: x[\"distance\"])\n",
    "    max_by_distance = max(cleaned_data, key=lambda x: x[\"distance\"])\n",
    "    trip_durations = [trip['distance'] for trip in cleaned_data]\n",
    "    # graphs(trip_durations)\n",
    "    avg_distance = np.mean(trip_durations)\n",
    "    median_distance = np.median(trip_durations)\n",
    "    print(f'\\n\\tShortest Trip (distance wise): {min_by_distance[\"distance\"]:.1f} miles on {min_by_distance[\"train_id\"]}')\n",
    "    print(f'\\tLongest Trip (distance wise): {max_by_distance[\"distance\"]:.1f} miles on {max_by_distance[\"train_id\"]}')\n",
    "    print(f'\\tOn average trains travels: {avg_distance:.1f} miles')\n",
    "    print(f'\\tMedian travel distance: {median_distance:.1f} miles')\n",
    "    # maybe some sort of normal graph\n"
   ]
  },
  {
   "cell_type": "code",
   "execution_count": 10,
   "metadata": {},
   "outputs": [
    {
     "name": "stdout",
     "output_type": "stream",
     "text": [
      "\n",
      "\tShortest Trip (time wise): 17.0 minutes on 1751\n",
      "\tLongest Trip (time wise): 139.0 minutes on 1575\n",
      "\tOn average trains take: 77.1 minutes\n",
      "\tMedian time of trips: 71.0 minutes\n"
     ]
    }
   ],
   "source": [
    "\n",
    "min_by_time = min(num_stops, key=lambda x: x[\"travel_time\"])\n",
    "max_by_time = max(num_stops, key=lambda x: x[\"travel_time\"])\n",
    "trip_durations = [trip['travel_time'] for trip in num_stops]\n",
    "avg_time = np.mean(trip_durations)\n",
    "median_time = np.median(trip_durations)\n",
    "print(f'\\n\\tShortest Trip (time wise): {min_by_time[\"travel_time\"]/60:.1f} minutes on {min_by_time[\"train_id\"]}')\n",
    "print(f'\\tLongest Trip (time wise): {max_by_time[\"travel_time\"]/60:.1f} minutes on {max_by_time[\"train_id\"]}')\n",
    "print(f'\\tOn average trains take: {avg_time/60:.1f} minutes')\n",
    "print(f'\\tMedian time of trips: {median_time/60:.1f} minutes')\n",
    "# maybe some sort of normal graph\n"
   ]
  },
  {
   "cell_type": "code",
   "execution_count": 11,
   "metadata": {},
   "outputs": [
    {
     "name": "stdout",
     "output_type": "stream",
     "text": [
      "\n",
      "\tTop three stations: \n",
      "\t\t1. Grand Central (569 trains)\n",
      "\t\t2. Harlem-125 St (526 trains)\n",
      "\t\t3. Stamford (225 trains)\n"
     ]
    }
   ],
   "source": [
    "\n",
    "if (railroad != \"rtd\"):\n",
    "    # Get stops and their info\n",
    "    df = pd.read_csv(f'../data/csv/{railroad}.csv') # assuming running form root\n",
    "    df_ref = pd.read_csv(f'../gtfs_data/{railroad}/stops.txt')\n",
    "    # df_ace = pd.read_csv(f'./gtfs_data/{ele}/shapes.txt')\n",
    "\n",
    "    # Clean and calculate max trains per stop\n",
    "    df.drop('Unnamed: 0', axis=1, inplace=True)\n",
    "    row_stop_counts = df.drop(columns=[\"stop_name\"]).notna().sum(axis=1)\n",
    "    df_ref['counts'] = row_stop_counts\n",
    "    df_ref = df_ref[['stop_name','counts']]\n",
    "    df_ref = df_ref.sort_values(by='counts',ascending=False).iloc[0:3].reset_index(drop=True)\n",
    "    print(\"\\n\\tTop three stations: \")\n",
    "    for index,row in df_ref.iterrows():\n",
    "        print(f'\\t\\t{index+1}. {row[\"stop_name\"]} ({row[\"counts\"]} trains)')\n",
    "# graph already above\n"
   ]
  },
  {
   "cell_type": "code",
   "execution_count": 12,
   "metadata": {},
   "outputs": [
    {
     "name": "stdout",
     "output_type": "stream",
     "text": [
      "\n",
      "\tTime frequency (leaving times): \n",
      "\t4 am to 10 am: 222\n",
      "\t10 am to 4 pm: 153\n",
      "\t4 pm to 10 pm: 229\n",
      "\t10pm to 4 am: 60\n",
      "\n",
      "\n"
     ]
    }
   ],
   "source": [
    "print(\"\\n\\tTime frequency (leaving times): \")\n",
    "print(f'\\t4 am to 10 am: {binned_times[\"4-10\"]}')\n",
    "print(f'\\t10 am to 4 pm: {binned_times[\"10-16\"]}')\n",
    "print(f'\\t4 pm to 10 pm: {binned_times[\"16-22\"]}')\n",
    "print(f'\\t10pm to 4 am: {binned_times[\"22-4\"]}')\n",
    "print(f'\\n')"
   ]
  },
  {
   "cell_type": "code",
   "execution_count": 13,
   "metadata": {},
   "outputs": [
    {
     "data": {
      "application/vnd.plotly.v1+json": {
       "config": {
        "plotlyServerURL": "https://plot.ly"
       },
       "data": [
        {
         "alignmentgroup": "True",
         "hovertemplate": "variable=total<br>hour=%{x}<br>value=%{y}<extra></extra>",
         "legendgroup": "total",
         "marker": {
          "color": "#636efa",
          "pattern": {
           "shape": ""
          }
         },
         "name": "total",
         "offsetgroup": "total",
         "orientation": "v",
         "showlegend": true,
         "textposition": "auto",
         "texttemplate": "%{y}",
         "type": "bar",
         "x": [
          0,
          1,
          2,
          3,
          4,
          5,
          6,
          7,
          8,
          9,
          10,
          11,
          12,
          13,
          14,
          15,
          16,
          17,
          18,
          19,
          20,
          21,
          22,
          23
         ],
         "xaxis": "x",
         "y": [
          12,
          12,
          0,
          2,
          10,
          31,
          52,
          52,
          47,
          30,
          24,
          19,
          21,
          22,
          31,
          36,
          45,
          58,
          46,
          30,
          24,
          26,
          19,
          15
         ],
         "yaxis": "y"
        }
       ],
       "layout": {
        "barmode": "group",
        "legend": {
         "title": {
          "text": "variable"
         },
         "tracegroupgap": 0
        },
        "template": {
         "data": {
          "bar": [
           {
            "error_x": {
             "color": "#2a3f5f"
            },
            "error_y": {
             "color": "#2a3f5f"
            },
            "marker": {
             "line": {
              "color": "#E5ECF6",
              "width": 0.5
             },
             "pattern": {
              "fillmode": "overlay",
              "size": 10,
              "solidity": 0.2
             }
            },
            "type": "bar"
           }
          ],
          "barpolar": [
           {
            "marker": {
             "line": {
              "color": "#E5ECF6",
              "width": 0.5
             },
             "pattern": {
              "fillmode": "overlay",
              "size": 10,
              "solidity": 0.2
             }
            },
            "type": "barpolar"
           }
          ],
          "carpet": [
           {
            "aaxis": {
             "endlinecolor": "#2a3f5f",
             "gridcolor": "white",
             "linecolor": "white",
             "minorgridcolor": "white",
             "startlinecolor": "#2a3f5f"
            },
            "baxis": {
             "endlinecolor": "#2a3f5f",
             "gridcolor": "white",
             "linecolor": "white",
             "minorgridcolor": "white",
             "startlinecolor": "#2a3f5f"
            },
            "type": "carpet"
           }
          ],
          "choropleth": [
           {
            "colorbar": {
             "outlinewidth": 0,
             "ticks": ""
            },
            "type": "choropleth"
           }
          ],
          "contour": [
           {
            "colorbar": {
             "outlinewidth": 0,
             "ticks": ""
            },
            "colorscale": [
             [
              0,
              "#0d0887"
             ],
             [
              0.1111111111111111,
              "#46039f"
             ],
             [
              0.2222222222222222,
              "#7201a8"
             ],
             [
              0.3333333333333333,
              "#9c179e"
             ],
             [
              0.4444444444444444,
              "#bd3786"
             ],
             [
              0.5555555555555556,
              "#d8576b"
             ],
             [
              0.6666666666666666,
              "#ed7953"
             ],
             [
              0.7777777777777778,
              "#fb9f3a"
             ],
             [
              0.8888888888888888,
              "#fdca26"
             ],
             [
              1,
              "#f0f921"
             ]
            ],
            "type": "contour"
           }
          ],
          "contourcarpet": [
           {
            "colorbar": {
             "outlinewidth": 0,
             "ticks": ""
            },
            "type": "contourcarpet"
           }
          ],
          "heatmap": [
           {
            "colorbar": {
             "outlinewidth": 0,
             "ticks": ""
            },
            "colorscale": [
             [
              0,
              "#0d0887"
             ],
             [
              0.1111111111111111,
              "#46039f"
             ],
             [
              0.2222222222222222,
              "#7201a8"
             ],
             [
              0.3333333333333333,
              "#9c179e"
             ],
             [
              0.4444444444444444,
              "#bd3786"
             ],
             [
              0.5555555555555556,
              "#d8576b"
             ],
             [
              0.6666666666666666,
              "#ed7953"
             ],
             [
              0.7777777777777778,
              "#fb9f3a"
             ],
             [
              0.8888888888888888,
              "#fdca26"
             ],
             [
              1,
              "#f0f921"
             ]
            ],
            "type": "heatmap"
           }
          ],
          "heatmapgl": [
           {
            "colorbar": {
             "outlinewidth": 0,
             "ticks": ""
            },
            "colorscale": [
             [
              0,
              "#0d0887"
             ],
             [
              0.1111111111111111,
              "#46039f"
             ],
             [
              0.2222222222222222,
              "#7201a8"
             ],
             [
              0.3333333333333333,
              "#9c179e"
             ],
             [
              0.4444444444444444,
              "#bd3786"
             ],
             [
              0.5555555555555556,
              "#d8576b"
             ],
             [
              0.6666666666666666,
              "#ed7953"
             ],
             [
              0.7777777777777778,
              "#fb9f3a"
             ],
             [
              0.8888888888888888,
              "#fdca26"
             ],
             [
              1,
              "#f0f921"
             ]
            ],
            "type": "heatmapgl"
           }
          ],
          "histogram": [
           {
            "marker": {
             "pattern": {
              "fillmode": "overlay",
              "size": 10,
              "solidity": 0.2
             }
            },
            "type": "histogram"
           }
          ],
          "histogram2d": [
           {
            "colorbar": {
             "outlinewidth": 0,
             "ticks": ""
            },
            "colorscale": [
             [
              0,
              "#0d0887"
             ],
             [
              0.1111111111111111,
              "#46039f"
             ],
             [
              0.2222222222222222,
              "#7201a8"
             ],
             [
              0.3333333333333333,
              "#9c179e"
             ],
             [
              0.4444444444444444,
              "#bd3786"
             ],
             [
              0.5555555555555556,
              "#d8576b"
             ],
             [
              0.6666666666666666,
              "#ed7953"
             ],
             [
              0.7777777777777778,
              "#fb9f3a"
             ],
             [
              0.8888888888888888,
              "#fdca26"
             ],
             [
              1,
              "#f0f921"
             ]
            ],
            "type": "histogram2d"
           }
          ],
          "histogram2dcontour": [
           {
            "colorbar": {
             "outlinewidth": 0,
             "ticks": ""
            },
            "colorscale": [
             [
              0,
              "#0d0887"
             ],
             [
              0.1111111111111111,
              "#46039f"
             ],
             [
              0.2222222222222222,
              "#7201a8"
             ],
             [
              0.3333333333333333,
              "#9c179e"
             ],
             [
              0.4444444444444444,
              "#bd3786"
             ],
             [
              0.5555555555555556,
              "#d8576b"
             ],
             [
              0.6666666666666666,
              "#ed7953"
             ],
             [
              0.7777777777777778,
              "#fb9f3a"
             ],
             [
              0.8888888888888888,
              "#fdca26"
             ],
             [
              1,
              "#f0f921"
             ]
            ],
            "type": "histogram2dcontour"
           }
          ],
          "mesh3d": [
           {
            "colorbar": {
             "outlinewidth": 0,
             "ticks": ""
            },
            "type": "mesh3d"
           }
          ],
          "parcoords": [
           {
            "line": {
             "colorbar": {
              "outlinewidth": 0,
              "ticks": ""
             }
            },
            "type": "parcoords"
           }
          ],
          "pie": [
           {
            "automargin": true,
            "type": "pie"
           }
          ],
          "scatter": [
           {
            "fillpattern": {
             "fillmode": "overlay",
             "size": 10,
             "solidity": 0.2
            },
            "type": "scatter"
           }
          ],
          "scatter3d": [
           {
            "line": {
             "colorbar": {
              "outlinewidth": 0,
              "ticks": ""
             }
            },
            "marker": {
             "colorbar": {
              "outlinewidth": 0,
              "ticks": ""
             }
            },
            "type": "scatter3d"
           }
          ],
          "scattercarpet": [
           {
            "marker": {
             "colorbar": {
              "outlinewidth": 0,
              "ticks": ""
             }
            },
            "type": "scattercarpet"
           }
          ],
          "scattergeo": [
           {
            "marker": {
             "colorbar": {
              "outlinewidth": 0,
              "ticks": ""
             }
            },
            "type": "scattergeo"
           }
          ],
          "scattergl": [
           {
            "marker": {
             "colorbar": {
              "outlinewidth": 0,
              "ticks": ""
             }
            },
            "type": "scattergl"
           }
          ],
          "scattermapbox": [
           {
            "marker": {
             "colorbar": {
              "outlinewidth": 0,
              "ticks": ""
             }
            },
            "type": "scattermapbox"
           }
          ],
          "scatterpolar": [
           {
            "marker": {
             "colorbar": {
              "outlinewidth": 0,
              "ticks": ""
             }
            },
            "type": "scatterpolar"
           }
          ],
          "scatterpolargl": [
           {
            "marker": {
             "colorbar": {
              "outlinewidth": 0,
              "ticks": ""
             }
            },
            "type": "scatterpolargl"
           }
          ],
          "scatterternary": [
           {
            "marker": {
             "colorbar": {
              "outlinewidth": 0,
              "ticks": ""
             }
            },
            "type": "scatterternary"
           }
          ],
          "surface": [
           {
            "colorbar": {
             "outlinewidth": 0,
             "ticks": ""
            },
            "colorscale": [
             [
              0,
              "#0d0887"
             ],
             [
              0.1111111111111111,
              "#46039f"
             ],
             [
              0.2222222222222222,
              "#7201a8"
             ],
             [
              0.3333333333333333,
              "#9c179e"
             ],
             [
              0.4444444444444444,
              "#bd3786"
             ],
             [
              0.5555555555555556,
              "#d8576b"
             ],
             [
              0.6666666666666666,
              "#ed7953"
             ],
             [
              0.7777777777777778,
              "#fb9f3a"
             ],
             [
              0.8888888888888888,
              "#fdca26"
             ],
             [
              1,
              "#f0f921"
             ]
            ],
            "type": "surface"
           }
          ],
          "table": [
           {
            "cells": {
             "fill": {
              "color": "#EBF0F8"
             },
             "line": {
              "color": "white"
             }
            },
            "header": {
             "fill": {
              "color": "#C8D4E3"
             },
             "line": {
              "color": "white"
             }
            },
            "type": "table"
           }
          ]
         },
         "layout": {
          "annotationdefaults": {
           "arrowcolor": "#2a3f5f",
           "arrowhead": 0,
           "arrowwidth": 1
          },
          "autotypenumbers": "strict",
          "coloraxis": {
           "colorbar": {
            "outlinewidth": 0,
            "ticks": ""
           }
          },
          "colorscale": {
           "diverging": [
            [
             0,
             "#8e0152"
            ],
            [
             0.1,
             "#c51b7d"
            ],
            [
             0.2,
             "#de77ae"
            ],
            [
             0.3,
             "#f1b6da"
            ],
            [
             0.4,
             "#fde0ef"
            ],
            [
             0.5,
             "#f7f7f7"
            ],
            [
             0.6,
             "#e6f5d0"
            ],
            [
             0.7,
             "#b8e186"
            ],
            [
             0.8,
             "#7fbc41"
            ],
            [
             0.9,
             "#4d9221"
            ],
            [
             1,
             "#276419"
            ]
           ],
           "sequential": [
            [
             0,
             "#0d0887"
            ],
            [
             0.1111111111111111,
             "#46039f"
            ],
            [
             0.2222222222222222,
             "#7201a8"
            ],
            [
             0.3333333333333333,
             "#9c179e"
            ],
            [
             0.4444444444444444,
             "#bd3786"
            ],
            [
             0.5555555555555556,
             "#d8576b"
            ],
            [
             0.6666666666666666,
             "#ed7953"
            ],
            [
             0.7777777777777778,
             "#fb9f3a"
            ],
            [
             0.8888888888888888,
             "#fdca26"
            ],
            [
             1,
             "#f0f921"
            ]
           ],
           "sequentialminus": [
            [
             0,
             "#0d0887"
            ],
            [
             0.1111111111111111,
             "#46039f"
            ],
            [
             0.2222222222222222,
             "#7201a8"
            ],
            [
             0.3333333333333333,
             "#9c179e"
            ],
            [
             0.4444444444444444,
             "#bd3786"
            ],
            [
             0.5555555555555556,
             "#d8576b"
            ],
            [
             0.6666666666666666,
             "#ed7953"
            ],
            [
             0.7777777777777778,
             "#fb9f3a"
            ],
            [
             0.8888888888888888,
             "#fdca26"
            ],
            [
             1,
             "#f0f921"
            ]
           ]
          },
          "colorway": [
           "#636efa",
           "#EF553B",
           "#00cc96",
           "#ab63fa",
           "#FFA15A",
           "#19d3f3",
           "#FF6692",
           "#B6E880",
           "#FF97FF",
           "#FECB52"
          ],
          "font": {
           "color": "#2a3f5f"
          },
          "geo": {
           "bgcolor": "white",
           "lakecolor": "white",
           "landcolor": "#E5ECF6",
           "showlakes": true,
           "showland": true,
           "subunitcolor": "white"
          },
          "hoverlabel": {
           "align": "left"
          },
          "hovermode": "closest",
          "mapbox": {
           "style": "light"
          },
          "paper_bgcolor": "white",
          "plot_bgcolor": "#E5ECF6",
          "polar": {
           "angularaxis": {
            "gridcolor": "white",
            "linecolor": "white",
            "ticks": ""
           },
           "bgcolor": "#E5ECF6",
           "radialaxis": {
            "gridcolor": "white",
            "linecolor": "white",
            "ticks": ""
           }
          },
          "scene": {
           "xaxis": {
            "backgroundcolor": "#E5ECF6",
            "gridcolor": "white",
            "gridwidth": 2,
            "linecolor": "white",
            "showbackground": true,
            "ticks": "",
            "zerolinecolor": "white"
           },
           "yaxis": {
            "backgroundcolor": "#E5ECF6",
            "gridcolor": "white",
            "gridwidth": 2,
            "linecolor": "white",
            "showbackground": true,
            "ticks": "",
            "zerolinecolor": "white"
           },
           "zaxis": {
            "backgroundcolor": "#E5ECF6",
            "gridcolor": "white",
            "gridwidth": 2,
            "linecolor": "white",
            "showbackground": true,
            "ticks": "",
            "zerolinecolor": "white"
           }
          },
          "shapedefaults": {
           "line": {
            "color": "#2a3f5f"
           }
          },
          "ternary": {
           "aaxis": {
            "gridcolor": "white",
            "linecolor": "white",
            "ticks": ""
           },
           "baxis": {
            "gridcolor": "white",
            "linecolor": "white",
            "ticks": ""
           },
           "bgcolor": "#E5ECF6",
           "caxis": {
            "gridcolor": "white",
            "linecolor": "white",
            "ticks": ""
           }
          },
          "title": {
           "x": 0.05
          },
          "xaxis": {
           "automargin": true,
           "gridcolor": "white",
           "linecolor": "white",
           "ticks": "",
           "title": {
            "standoff": 15
           },
           "zerolinecolor": "white",
           "zerolinewidth": 2
          },
          "yaxis": {
           "automargin": true,
           "gridcolor": "white",
           "linecolor": "white",
           "ticks": "",
           "title": {
            "standoff": 15
           },
           "zerolinecolor": "white",
           "zerolinewidth": 2
          }
         }
        },
        "title": {
         "text": "Bar Graph of Hourly Values"
        },
        "xaxis": {
         "anchor": "y",
         "domain": [
          0,
          1
         ],
         "title": {
          "text": "hour"
         }
        },
        "yaxis": {
         "anchor": "x",
         "domain": [
          0,
          1
         ],
         "title": {
          "text": "value"
         }
        }
       }
      }
     },
     "metadata": {},
     "output_type": "display_data"
    }
   ],
   "source": [
    "hourly_times\n",
    "#  hourly_times[f'{timeA.hour}_{train[\"direction_id\"]}']\n",
    "hourly_times_df = pd.DataFrame(list(hourly_times.items()), columns=[\"hour\", \"value\"])\n",
    "\n",
    "\n",
    "# Split the lists in the 'value' column into separate columns\n",
    "df_split = hourly_times_df[\"value\"].apply(pd.Series)\n",
    "\n",
    "# Rename the new columns\n",
    "df_split.columns = [\"value_0\", \"value_1\"]\n",
    "\n",
    "# Concatenate the new columns back with the 'hour' column\n",
    "hourly_times_df = pd.concat([hourly_times_df[\"hour\"], df_split], axis=1)\n",
    "\n",
    "\n",
    "hourly_times_df[\"hour\"] = hourly_times_df[\"hour\"].astype(int)\n",
    "hourly_times_df['total'] = hourly_times_df['value_0'] +  hourly_times_df['value_1']\n",
    "hourly_times_df.sort_values(by='hour')\n",
    "hourly_times_df = hourly_times_df.set_index(\"hour\").reindex(range(24), fill_value=0).reset_index()\n",
    "fig = px.bar(hourly_times_df, \n",
    "             x=\"hour\", \n",
    "             y=[\"total\"],\n",
    "              title=\"Bar Graph of Hourly Values\",\n",
    "              text_auto=True,\n",
    "              barmode=\"group\")\n",
    "\n",
    "# # Show the figure\n",
    "fig.show()\n"
   ]
  },
  {
   "cell_type": "code",
   "execution_count": 14,
   "metadata": {},
   "outputs": [
    {
     "data": {
      "application/vnd.plotly.v1+json": {
       "config": {
        "plotlyServerURL": "https://plot.ly"
       },
       "data": [
        {
         "alignmentgroup": "True",
         "hovertemplate": "variable=value_0<br>hour=%{x}<br>value=%{y}<extra></extra>",
         "legendgroup": "value_0",
         "marker": {
          "color": "#636efa",
          "pattern": {
           "shape": ""
          }
         },
         "name": "value_0",
         "offsetgroup": "value_0",
         "orientation": "v",
         "showlegend": true,
         "textposition": "auto",
         "texttemplate": "%{y}",
         "type": "bar",
         "x": [
          0,
          1,
          2,
          3,
          4,
          5,
          6,
          7,
          8,
          9,
          10,
          11,
          12,
          13,
          14,
          15,
          16,
          17,
          18,
          19,
          20,
          21,
          22,
          23
         ],
         "xaxis": "x",
         "y": [
          8,
          11,
          0,
          1,
          0,
          5,
          16,
          16,
          13,
          13,
          12,
          10,
          10,
          10,
          17,
          20,
          30,
          42,
          33,
          19,
          14,
          16,
          10,
          8
         ],
         "yaxis": "y"
        },
        {
         "alignmentgroup": "True",
         "hovertemplate": "variable=value_1<br>hour=%{x}<br>value=%{y}<extra></extra>",
         "legendgroup": "value_1",
         "marker": {
          "color": "#EF553B",
          "pattern": {
           "shape": ""
          }
         },
         "name": "value_1",
         "offsetgroup": "value_1",
         "orientation": "v",
         "showlegend": true,
         "textposition": "auto",
         "texttemplate": "%{y}",
         "type": "bar",
         "x": [
          0,
          1,
          2,
          3,
          4,
          5,
          6,
          7,
          8,
          9,
          10,
          11,
          12,
          13,
          14,
          15,
          16,
          17,
          18,
          19,
          20,
          21,
          22,
          23
         ],
         "xaxis": "x",
         "y": [
          4,
          1,
          0,
          1,
          10,
          26,
          36,
          36,
          34,
          17,
          12,
          9,
          11,
          12,
          14,
          16,
          15,
          16,
          13,
          11,
          10,
          10,
          9,
          7
         ],
         "yaxis": "y"
        }
       ],
       "layout": {
        "barmode": "group",
        "legend": {
         "title": {
          "text": "variable"
         },
         "tracegroupgap": 0
        },
        "template": {
         "data": {
          "bar": [
           {
            "error_x": {
             "color": "#2a3f5f"
            },
            "error_y": {
             "color": "#2a3f5f"
            },
            "marker": {
             "line": {
              "color": "#E5ECF6",
              "width": 0.5
             },
             "pattern": {
              "fillmode": "overlay",
              "size": 10,
              "solidity": 0.2
             }
            },
            "type": "bar"
           }
          ],
          "barpolar": [
           {
            "marker": {
             "line": {
              "color": "#E5ECF6",
              "width": 0.5
             },
             "pattern": {
              "fillmode": "overlay",
              "size": 10,
              "solidity": 0.2
             }
            },
            "type": "barpolar"
           }
          ],
          "carpet": [
           {
            "aaxis": {
             "endlinecolor": "#2a3f5f",
             "gridcolor": "white",
             "linecolor": "white",
             "minorgridcolor": "white",
             "startlinecolor": "#2a3f5f"
            },
            "baxis": {
             "endlinecolor": "#2a3f5f",
             "gridcolor": "white",
             "linecolor": "white",
             "minorgridcolor": "white",
             "startlinecolor": "#2a3f5f"
            },
            "type": "carpet"
           }
          ],
          "choropleth": [
           {
            "colorbar": {
             "outlinewidth": 0,
             "ticks": ""
            },
            "type": "choropleth"
           }
          ],
          "contour": [
           {
            "colorbar": {
             "outlinewidth": 0,
             "ticks": ""
            },
            "colorscale": [
             [
              0,
              "#0d0887"
             ],
             [
              0.1111111111111111,
              "#46039f"
             ],
             [
              0.2222222222222222,
              "#7201a8"
             ],
             [
              0.3333333333333333,
              "#9c179e"
             ],
             [
              0.4444444444444444,
              "#bd3786"
             ],
             [
              0.5555555555555556,
              "#d8576b"
             ],
             [
              0.6666666666666666,
              "#ed7953"
             ],
             [
              0.7777777777777778,
              "#fb9f3a"
             ],
             [
              0.8888888888888888,
              "#fdca26"
             ],
             [
              1,
              "#f0f921"
             ]
            ],
            "type": "contour"
           }
          ],
          "contourcarpet": [
           {
            "colorbar": {
             "outlinewidth": 0,
             "ticks": ""
            },
            "type": "contourcarpet"
           }
          ],
          "heatmap": [
           {
            "colorbar": {
             "outlinewidth": 0,
             "ticks": ""
            },
            "colorscale": [
             [
              0,
              "#0d0887"
             ],
             [
              0.1111111111111111,
              "#46039f"
             ],
             [
              0.2222222222222222,
              "#7201a8"
             ],
             [
              0.3333333333333333,
              "#9c179e"
             ],
             [
              0.4444444444444444,
              "#bd3786"
             ],
             [
              0.5555555555555556,
              "#d8576b"
             ],
             [
              0.6666666666666666,
              "#ed7953"
             ],
             [
              0.7777777777777778,
              "#fb9f3a"
             ],
             [
              0.8888888888888888,
              "#fdca26"
             ],
             [
              1,
              "#f0f921"
             ]
            ],
            "type": "heatmap"
           }
          ],
          "heatmapgl": [
           {
            "colorbar": {
             "outlinewidth": 0,
             "ticks": ""
            },
            "colorscale": [
             [
              0,
              "#0d0887"
             ],
             [
              0.1111111111111111,
              "#46039f"
             ],
             [
              0.2222222222222222,
              "#7201a8"
             ],
             [
              0.3333333333333333,
              "#9c179e"
             ],
             [
              0.4444444444444444,
              "#bd3786"
             ],
             [
              0.5555555555555556,
              "#d8576b"
             ],
             [
              0.6666666666666666,
              "#ed7953"
             ],
             [
              0.7777777777777778,
              "#fb9f3a"
             ],
             [
              0.8888888888888888,
              "#fdca26"
             ],
             [
              1,
              "#f0f921"
             ]
            ],
            "type": "heatmapgl"
           }
          ],
          "histogram": [
           {
            "marker": {
             "pattern": {
              "fillmode": "overlay",
              "size": 10,
              "solidity": 0.2
             }
            },
            "type": "histogram"
           }
          ],
          "histogram2d": [
           {
            "colorbar": {
             "outlinewidth": 0,
             "ticks": ""
            },
            "colorscale": [
             [
              0,
              "#0d0887"
             ],
             [
              0.1111111111111111,
              "#46039f"
             ],
             [
              0.2222222222222222,
              "#7201a8"
             ],
             [
              0.3333333333333333,
              "#9c179e"
             ],
             [
              0.4444444444444444,
              "#bd3786"
             ],
             [
              0.5555555555555556,
              "#d8576b"
             ],
             [
              0.6666666666666666,
              "#ed7953"
             ],
             [
              0.7777777777777778,
              "#fb9f3a"
             ],
             [
              0.8888888888888888,
              "#fdca26"
             ],
             [
              1,
              "#f0f921"
             ]
            ],
            "type": "histogram2d"
           }
          ],
          "histogram2dcontour": [
           {
            "colorbar": {
             "outlinewidth": 0,
             "ticks": ""
            },
            "colorscale": [
             [
              0,
              "#0d0887"
             ],
             [
              0.1111111111111111,
              "#46039f"
             ],
             [
              0.2222222222222222,
              "#7201a8"
             ],
             [
              0.3333333333333333,
              "#9c179e"
             ],
             [
              0.4444444444444444,
              "#bd3786"
             ],
             [
              0.5555555555555556,
              "#d8576b"
             ],
             [
              0.6666666666666666,
              "#ed7953"
             ],
             [
              0.7777777777777778,
              "#fb9f3a"
             ],
             [
              0.8888888888888888,
              "#fdca26"
             ],
             [
              1,
              "#f0f921"
             ]
            ],
            "type": "histogram2dcontour"
           }
          ],
          "mesh3d": [
           {
            "colorbar": {
             "outlinewidth": 0,
             "ticks": ""
            },
            "type": "mesh3d"
           }
          ],
          "parcoords": [
           {
            "line": {
             "colorbar": {
              "outlinewidth": 0,
              "ticks": ""
             }
            },
            "type": "parcoords"
           }
          ],
          "pie": [
           {
            "automargin": true,
            "type": "pie"
           }
          ],
          "scatter": [
           {
            "fillpattern": {
             "fillmode": "overlay",
             "size": 10,
             "solidity": 0.2
            },
            "type": "scatter"
           }
          ],
          "scatter3d": [
           {
            "line": {
             "colorbar": {
              "outlinewidth": 0,
              "ticks": ""
             }
            },
            "marker": {
             "colorbar": {
              "outlinewidth": 0,
              "ticks": ""
             }
            },
            "type": "scatter3d"
           }
          ],
          "scattercarpet": [
           {
            "marker": {
             "colorbar": {
              "outlinewidth": 0,
              "ticks": ""
             }
            },
            "type": "scattercarpet"
           }
          ],
          "scattergeo": [
           {
            "marker": {
             "colorbar": {
              "outlinewidth": 0,
              "ticks": ""
             }
            },
            "type": "scattergeo"
           }
          ],
          "scattergl": [
           {
            "marker": {
             "colorbar": {
              "outlinewidth": 0,
              "ticks": ""
             }
            },
            "type": "scattergl"
           }
          ],
          "scattermapbox": [
           {
            "marker": {
             "colorbar": {
              "outlinewidth": 0,
              "ticks": ""
             }
            },
            "type": "scattermapbox"
           }
          ],
          "scatterpolar": [
           {
            "marker": {
             "colorbar": {
              "outlinewidth": 0,
              "ticks": ""
             }
            },
            "type": "scatterpolar"
           }
          ],
          "scatterpolargl": [
           {
            "marker": {
             "colorbar": {
              "outlinewidth": 0,
              "ticks": ""
             }
            },
            "type": "scatterpolargl"
           }
          ],
          "scatterternary": [
           {
            "marker": {
             "colorbar": {
              "outlinewidth": 0,
              "ticks": ""
             }
            },
            "type": "scatterternary"
           }
          ],
          "surface": [
           {
            "colorbar": {
             "outlinewidth": 0,
             "ticks": ""
            },
            "colorscale": [
             [
              0,
              "#0d0887"
             ],
             [
              0.1111111111111111,
              "#46039f"
             ],
             [
              0.2222222222222222,
              "#7201a8"
             ],
             [
              0.3333333333333333,
              "#9c179e"
             ],
             [
              0.4444444444444444,
              "#bd3786"
             ],
             [
              0.5555555555555556,
              "#d8576b"
             ],
             [
              0.6666666666666666,
              "#ed7953"
             ],
             [
              0.7777777777777778,
              "#fb9f3a"
             ],
             [
              0.8888888888888888,
              "#fdca26"
             ],
             [
              1,
              "#f0f921"
             ]
            ],
            "type": "surface"
           }
          ],
          "table": [
           {
            "cells": {
             "fill": {
              "color": "#EBF0F8"
             },
             "line": {
              "color": "white"
             }
            },
            "header": {
             "fill": {
              "color": "#C8D4E3"
             },
             "line": {
              "color": "white"
             }
            },
            "type": "table"
           }
          ]
         },
         "layout": {
          "annotationdefaults": {
           "arrowcolor": "#2a3f5f",
           "arrowhead": 0,
           "arrowwidth": 1
          },
          "autotypenumbers": "strict",
          "coloraxis": {
           "colorbar": {
            "outlinewidth": 0,
            "ticks": ""
           }
          },
          "colorscale": {
           "diverging": [
            [
             0,
             "#8e0152"
            ],
            [
             0.1,
             "#c51b7d"
            ],
            [
             0.2,
             "#de77ae"
            ],
            [
             0.3,
             "#f1b6da"
            ],
            [
             0.4,
             "#fde0ef"
            ],
            [
             0.5,
             "#f7f7f7"
            ],
            [
             0.6,
             "#e6f5d0"
            ],
            [
             0.7,
             "#b8e186"
            ],
            [
             0.8,
             "#7fbc41"
            ],
            [
             0.9,
             "#4d9221"
            ],
            [
             1,
             "#276419"
            ]
           ],
           "sequential": [
            [
             0,
             "#0d0887"
            ],
            [
             0.1111111111111111,
             "#46039f"
            ],
            [
             0.2222222222222222,
             "#7201a8"
            ],
            [
             0.3333333333333333,
             "#9c179e"
            ],
            [
             0.4444444444444444,
             "#bd3786"
            ],
            [
             0.5555555555555556,
             "#d8576b"
            ],
            [
             0.6666666666666666,
             "#ed7953"
            ],
            [
             0.7777777777777778,
             "#fb9f3a"
            ],
            [
             0.8888888888888888,
             "#fdca26"
            ],
            [
             1,
             "#f0f921"
            ]
           ],
           "sequentialminus": [
            [
             0,
             "#0d0887"
            ],
            [
             0.1111111111111111,
             "#46039f"
            ],
            [
             0.2222222222222222,
             "#7201a8"
            ],
            [
             0.3333333333333333,
             "#9c179e"
            ],
            [
             0.4444444444444444,
             "#bd3786"
            ],
            [
             0.5555555555555556,
             "#d8576b"
            ],
            [
             0.6666666666666666,
             "#ed7953"
            ],
            [
             0.7777777777777778,
             "#fb9f3a"
            ],
            [
             0.8888888888888888,
             "#fdca26"
            ],
            [
             1,
             "#f0f921"
            ]
           ]
          },
          "colorway": [
           "#636efa",
           "#EF553B",
           "#00cc96",
           "#ab63fa",
           "#FFA15A",
           "#19d3f3",
           "#FF6692",
           "#B6E880",
           "#FF97FF",
           "#FECB52"
          ],
          "font": {
           "color": "#2a3f5f"
          },
          "geo": {
           "bgcolor": "white",
           "lakecolor": "white",
           "landcolor": "#E5ECF6",
           "showlakes": true,
           "showland": true,
           "subunitcolor": "white"
          },
          "hoverlabel": {
           "align": "left"
          },
          "hovermode": "closest",
          "mapbox": {
           "style": "light"
          },
          "paper_bgcolor": "white",
          "plot_bgcolor": "#E5ECF6",
          "polar": {
           "angularaxis": {
            "gridcolor": "white",
            "linecolor": "white",
            "ticks": ""
           },
           "bgcolor": "#E5ECF6",
           "radialaxis": {
            "gridcolor": "white",
            "linecolor": "white",
            "ticks": ""
           }
          },
          "scene": {
           "xaxis": {
            "backgroundcolor": "#E5ECF6",
            "gridcolor": "white",
            "gridwidth": 2,
            "linecolor": "white",
            "showbackground": true,
            "ticks": "",
            "zerolinecolor": "white"
           },
           "yaxis": {
            "backgroundcolor": "#E5ECF6",
            "gridcolor": "white",
            "gridwidth": 2,
            "linecolor": "white",
            "showbackground": true,
            "ticks": "",
            "zerolinecolor": "white"
           },
           "zaxis": {
            "backgroundcolor": "#E5ECF6",
            "gridcolor": "white",
            "gridwidth": 2,
            "linecolor": "white",
            "showbackground": true,
            "ticks": "",
            "zerolinecolor": "white"
           }
          },
          "shapedefaults": {
           "line": {
            "color": "#2a3f5f"
           }
          },
          "ternary": {
           "aaxis": {
            "gridcolor": "white",
            "linecolor": "white",
            "ticks": ""
           },
           "baxis": {
            "gridcolor": "white",
            "linecolor": "white",
            "ticks": ""
           },
           "bgcolor": "#E5ECF6",
           "caxis": {
            "gridcolor": "white",
            "linecolor": "white",
            "ticks": ""
           }
          },
          "title": {
           "x": 0.05
          },
          "xaxis": {
           "automargin": true,
           "gridcolor": "white",
           "linecolor": "white",
           "ticks": "",
           "title": {
            "standoff": 15
           },
           "zerolinecolor": "white",
           "zerolinewidth": 2
          },
          "yaxis": {
           "automargin": true,
           "gridcolor": "white",
           "linecolor": "white",
           "ticks": "",
           "title": {
            "standoff": 15
           },
           "zerolinecolor": "white",
           "zerolinewidth": 2
          }
         }
        },
        "title": {
         "text": "Bar Graph of Hourly Values"
        },
        "xaxis": {
         "anchor": "y",
         "domain": [
          0,
          1
         ],
         "title": {
          "text": "hour"
         }
        },
        "yaxis": {
         "anchor": "x",
         "domain": [
          0,
          1
         ],
         "title": {
          "text": "value"
         }
        }
       }
      }
     },
     "metadata": {},
     "output_type": "display_data"
    }
   ],
   "source": [
    "hourly_times\n",
    "#  hourly_times[f'{timeA.hour}_{train[\"direction_id\"]}']\n",
    "hourly_times_df = pd.DataFrame(list(hourly_times.items()), columns=[\"hour\", \"value\"])\n",
    "\n",
    "\n",
    "# Split the lists in the 'value' column into separate columns\n",
    "df_split = hourly_times_df[\"value\"].apply(pd.Series)\n",
    "\n",
    "# Rename the new columns\n",
    "df_split.columns = [\"value_0\", \"value_1\"]\n",
    "\n",
    "# Concatenate the new columns back with the 'hour' column\n",
    "hourly_times_df = pd.concat([hourly_times_df[\"hour\"], df_split], axis=1)\n",
    "\n",
    "\n",
    "hourly_times_df[\"hour\"] = hourly_times_df[\"hour\"].astype(int)\n",
    "hourly_times_df.sort_values(by='hour')\n",
    "hourly_times_df = hourly_times_df.set_index(\"hour\").reindex(range(24), fill_value=0).reset_index()\n",
    "fig = px.bar(hourly_times_df, \n",
    "             x=\"hour\", \n",
    "             y=[\"value_0\", \"value_1\"],\n",
    "              title=\"Bar Graph of Hourly Values\",\n",
    "              text_auto=True,\n",
    "              barmode=\"group\")\n",
    "\n",
    "# # Show the figure\n",
    "fig.show()\n"
   ]
  },
  {
   "cell_type": "code",
   "execution_count": 15,
   "metadata": {},
   "outputs": [
    {
     "data": {
      "application/vnd.plotly.v1+json": {
       "config": {
        "plotlyServerURL": "https://plot.ly"
       },
       "data": [
        {
         "alignmentgroup": "True",
         "hovertemplate": "variable=value_0<br>hour=%{x}<br>value=%{y}<extra></extra>",
         "legendgroup": "value_0",
         "marker": {
          "color": "#636efa",
          "pattern": {
           "shape": ""
          }
         },
         "name": "value_0",
         "offsetgroup": "value_0",
         "orientation": "v",
         "showlegend": true,
         "textposition": "auto",
         "texttemplate": "%{y}",
         "type": "bar",
         "x": [
          0,
          1,
          2,
          3,
          4,
          5,
          6,
          7,
          8,
          9,
          10,
          11,
          12,
          13,
          14,
          15,
          16,
          17,
          18,
          19,
          20,
          21,
          22,
          23
         ],
         "xaxis": "x",
         "y": [
          10,
          8,
          7,
          5,
          1,
          0,
          4,
          12,
          16,
          13,
          14,
          13,
          9,
          11,
          10,
          13,
          21,
          25,
          47,
          29,
          23,
          17,
          15,
          11
         ],
         "yaxis": "y"
        },
        {
         "alignmentgroup": "True",
         "hovertemplate": "variable=value_1<br>hour=%{x}<br>value=%{y}<extra></extra>",
         "legendgroup": "value_1",
         "marker": {
          "color": "#EF553B",
          "pattern": {
           "shape": ""
          }
         },
         "name": "value_1",
         "offsetgroup": "value_1",
         "orientation": "v",
         "showlegend": true,
         "textposition": "auto",
         "texttemplate": "%{y}",
         "type": "bar",
         "x": [
          0,
          1,
          2,
          3,
          4,
          5,
          6,
          7,
          8,
          9,
          10,
          11,
          12,
          13,
          14,
          15,
          16,
          17,
          18,
          19,
          20,
          21,
          22,
          23
         ],
         "xaxis": "x",
         "y": [
          7,
          5,
          2,
          0,
          0,
          8,
          18,
          37,
          41,
          33,
          19,
          13,
          9,
          11,
          12,
          13,
          15,
          15,
          15,
          16,
          12,
          10,
          11,
          8
         ],
         "yaxis": "y"
        }
       ],
       "layout": {
        "barmode": "group",
        "legend": {
         "title": {
          "text": "variable"
         },
         "tracegroupgap": 0
        },
        "template": {
         "data": {
          "bar": [
           {
            "error_x": {
             "color": "#2a3f5f"
            },
            "error_y": {
             "color": "#2a3f5f"
            },
            "marker": {
             "line": {
              "color": "#E5ECF6",
              "width": 0.5
             },
             "pattern": {
              "fillmode": "overlay",
              "size": 10,
              "solidity": 0.2
             }
            },
            "type": "bar"
           }
          ],
          "barpolar": [
           {
            "marker": {
             "line": {
              "color": "#E5ECF6",
              "width": 0.5
             },
             "pattern": {
              "fillmode": "overlay",
              "size": 10,
              "solidity": 0.2
             }
            },
            "type": "barpolar"
           }
          ],
          "carpet": [
           {
            "aaxis": {
             "endlinecolor": "#2a3f5f",
             "gridcolor": "white",
             "linecolor": "white",
             "minorgridcolor": "white",
             "startlinecolor": "#2a3f5f"
            },
            "baxis": {
             "endlinecolor": "#2a3f5f",
             "gridcolor": "white",
             "linecolor": "white",
             "minorgridcolor": "white",
             "startlinecolor": "#2a3f5f"
            },
            "type": "carpet"
           }
          ],
          "choropleth": [
           {
            "colorbar": {
             "outlinewidth": 0,
             "ticks": ""
            },
            "type": "choropleth"
           }
          ],
          "contour": [
           {
            "colorbar": {
             "outlinewidth": 0,
             "ticks": ""
            },
            "colorscale": [
             [
              0,
              "#0d0887"
             ],
             [
              0.1111111111111111,
              "#46039f"
             ],
             [
              0.2222222222222222,
              "#7201a8"
             ],
             [
              0.3333333333333333,
              "#9c179e"
             ],
             [
              0.4444444444444444,
              "#bd3786"
             ],
             [
              0.5555555555555556,
              "#d8576b"
             ],
             [
              0.6666666666666666,
              "#ed7953"
             ],
             [
              0.7777777777777778,
              "#fb9f3a"
             ],
             [
              0.8888888888888888,
              "#fdca26"
             ],
             [
              1,
              "#f0f921"
             ]
            ],
            "type": "contour"
           }
          ],
          "contourcarpet": [
           {
            "colorbar": {
             "outlinewidth": 0,
             "ticks": ""
            },
            "type": "contourcarpet"
           }
          ],
          "heatmap": [
           {
            "colorbar": {
             "outlinewidth": 0,
             "ticks": ""
            },
            "colorscale": [
             [
              0,
              "#0d0887"
             ],
             [
              0.1111111111111111,
              "#46039f"
             ],
             [
              0.2222222222222222,
              "#7201a8"
             ],
             [
              0.3333333333333333,
              "#9c179e"
             ],
             [
              0.4444444444444444,
              "#bd3786"
             ],
             [
              0.5555555555555556,
              "#d8576b"
             ],
             [
              0.6666666666666666,
              "#ed7953"
             ],
             [
              0.7777777777777778,
              "#fb9f3a"
             ],
             [
              0.8888888888888888,
              "#fdca26"
             ],
             [
              1,
              "#f0f921"
             ]
            ],
            "type": "heatmap"
           }
          ],
          "heatmapgl": [
           {
            "colorbar": {
             "outlinewidth": 0,
             "ticks": ""
            },
            "colorscale": [
             [
              0,
              "#0d0887"
             ],
             [
              0.1111111111111111,
              "#46039f"
             ],
             [
              0.2222222222222222,
              "#7201a8"
             ],
             [
              0.3333333333333333,
              "#9c179e"
             ],
             [
              0.4444444444444444,
              "#bd3786"
             ],
             [
              0.5555555555555556,
              "#d8576b"
             ],
             [
              0.6666666666666666,
              "#ed7953"
             ],
             [
              0.7777777777777778,
              "#fb9f3a"
             ],
             [
              0.8888888888888888,
              "#fdca26"
             ],
             [
              1,
              "#f0f921"
             ]
            ],
            "type": "heatmapgl"
           }
          ],
          "histogram": [
           {
            "marker": {
             "pattern": {
              "fillmode": "overlay",
              "size": 10,
              "solidity": 0.2
             }
            },
            "type": "histogram"
           }
          ],
          "histogram2d": [
           {
            "colorbar": {
             "outlinewidth": 0,
             "ticks": ""
            },
            "colorscale": [
             [
              0,
              "#0d0887"
             ],
             [
              0.1111111111111111,
              "#46039f"
             ],
             [
              0.2222222222222222,
              "#7201a8"
             ],
             [
              0.3333333333333333,
              "#9c179e"
             ],
             [
              0.4444444444444444,
              "#bd3786"
             ],
             [
              0.5555555555555556,
              "#d8576b"
             ],
             [
              0.6666666666666666,
              "#ed7953"
             ],
             [
              0.7777777777777778,
              "#fb9f3a"
             ],
             [
              0.8888888888888888,
              "#fdca26"
             ],
             [
              1,
              "#f0f921"
             ]
            ],
            "type": "histogram2d"
           }
          ],
          "histogram2dcontour": [
           {
            "colorbar": {
             "outlinewidth": 0,
             "ticks": ""
            },
            "colorscale": [
             [
              0,
              "#0d0887"
             ],
             [
              0.1111111111111111,
              "#46039f"
             ],
             [
              0.2222222222222222,
              "#7201a8"
             ],
             [
              0.3333333333333333,
              "#9c179e"
             ],
             [
              0.4444444444444444,
              "#bd3786"
             ],
             [
              0.5555555555555556,
              "#d8576b"
             ],
             [
              0.6666666666666666,
              "#ed7953"
             ],
             [
              0.7777777777777778,
              "#fb9f3a"
             ],
             [
              0.8888888888888888,
              "#fdca26"
             ],
             [
              1,
              "#f0f921"
             ]
            ],
            "type": "histogram2dcontour"
           }
          ],
          "mesh3d": [
           {
            "colorbar": {
             "outlinewidth": 0,
             "ticks": ""
            },
            "type": "mesh3d"
           }
          ],
          "parcoords": [
           {
            "line": {
             "colorbar": {
              "outlinewidth": 0,
              "ticks": ""
             }
            },
            "type": "parcoords"
           }
          ],
          "pie": [
           {
            "automargin": true,
            "type": "pie"
           }
          ],
          "scatter": [
           {
            "fillpattern": {
             "fillmode": "overlay",
             "size": 10,
             "solidity": 0.2
            },
            "type": "scatter"
           }
          ],
          "scatter3d": [
           {
            "line": {
             "colorbar": {
              "outlinewidth": 0,
              "ticks": ""
             }
            },
            "marker": {
             "colorbar": {
              "outlinewidth": 0,
              "ticks": ""
             }
            },
            "type": "scatter3d"
           }
          ],
          "scattercarpet": [
           {
            "marker": {
             "colorbar": {
              "outlinewidth": 0,
              "ticks": ""
             }
            },
            "type": "scattercarpet"
           }
          ],
          "scattergeo": [
           {
            "marker": {
             "colorbar": {
              "outlinewidth": 0,
              "ticks": ""
             }
            },
            "type": "scattergeo"
           }
          ],
          "scattergl": [
           {
            "marker": {
             "colorbar": {
              "outlinewidth": 0,
              "ticks": ""
             }
            },
            "type": "scattergl"
           }
          ],
          "scattermapbox": [
           {
            "marker": {
             "colorbar": {
              "outlinewidth": 0,
              "ticks": ""
             }
            },
            "type": "scattermapbox"
           }
          ],
          "scatterpolar": [
           {
            "marker": {
             "colorbar": {
              "outlinewidth": 0,
              "ticks": ""
             }
            },
            "type": "scatterpolar"
           }
          ],
          "scatterpolargl": [
           {
            "marker": {
             "colorbar": {
              "outlinewidth": 0,
              "ticks": ""
             }
            },
            "type": "scatterpolargl"
           }
          ],
          "scatterternary": [
           {
            "marker": {
             "colorbar": {
              "outlinewidth": 0,
              "ticks": ""
             }
            },
            "type": "scatterternary"
           }
          ],
          "surface": [
           {
            "colorbar": {
             "outlinewidth": 0,
             "ticks": ""
            },
            "colorscale": [
             [
              0,
              "#0d0887"
             ],
             [
              0.1111111111111111,
              "#46039f"
             ],
             [
              0.2222222222222222,
              "#7201a8"
             ],
             [
              0.3333333333333333,
              "#9c179e"
             ],
             [
              0.4444444444444444,
              "#bd3786"
             ],
             [
              0.5555555555555556,
              "#d8576b"
             ],
             [
              0.6666666666666666,
              "#ed7953"
             ],
             [
              0.7777777777777778,
              "#fb9f3a"
             ],
             [
              0.8888888888888888,
              "#fdca26"
             ],
             [
              1,
              "#f0f921"
             ]
            ],
            "type": "surface"
           }
          ],
          "table": [
           {
            "cells": {
             "fill": {
              "color": "#EBF0F8"
             },
             "line": {
              "color": "white"
             }
            },
            "header": {
             "fill": {
              "color": "#C8D4E3"
             },
             "line": {
              "color": "white"
             }
            },
            "type": "table"
           }
          ]
         },
         "layout": {
          "annotationdefaults": {
           "arrowcolor": "#2a3f5f",
           "arrowhead": 0,
           "arrowwidth": 1
          },
          "autotypenumbers": "strict",
          "coloraxis": {
           "colorbar": {
            "outlinewidth": 0,
            "ticks": ""
           }
          },
          "colorscale": {
           "diverging": [
            [
             0,
             "#8e0152"
            ],
            [
             0.1,
             "#c51b7d"
            ],
            [
             0.2,
             "#de77ae"
            ],
            [
             0.3,
             "#f1b6da"
            ],
            [
             0.4,
             "#fde0ef"
            ],
            [
             0.5,
             "#f7f7f7"
            ],
            [
             0.6,
             "#e6f5d0"
            ],
            [
             0.7,
             "#b8e186"
            ],
            [
             0.8,
             "#7fbc41"
            ],
            [
             0.9,
             "#4d9221"
            ],
            [
             1,
             "#276419"
            ]
           ],
           "sequential": [
            [
             0,
             "#0d0887"
            ],
            [
             0.1111111111111111,
             "#46039f"
            ],
            [
             0.2222222222222222,
             "#7201a8"
            ],
            [
             0.3333333333333333,
             "#9c179e"
            ],
            [
             0.4444444444444444,
             "#bd3786"
            ],
            [
             0.5555555555555556,
             "#d8576b"
            ],
            [
             0.6666666666666666,
             "#ed7953"
            ],
            [
             0.7777777777777778,
             "#fb9f3a"
            ],
            [
             0.8888888888888888,
             "#fdca26"
            ],
            [
             1,
             "#f0f921"
            ]
           ],
           "sequentialminus": [
            [
             0,
             "#0d0887"
            ],
            [
             0.1111111111111111,
             "#46039f"
            ],
            [
             0.2222222222222222,
             "#7201a8"
            ],
            [
             0.3333333333333333,
             "#9c179e"
            ],
            [
             0.4444444444444444,
             "#bd3786"
            ],
            [
             0.5555555555555556,
             "#d8576b"
            ],
            [
             0.6666666666666666,
             "#ed7953"
            ],
            [
             0.7777777777777778,
             "#fb9f3a"
            ],
            [
             0.8888888888888888,
             "#fdca26"
            ],
            [
             1,
             "#f0f921"
            ]
           ]
          },
          "colorway": [
           "#636efa",
           "#EF553B",
           "#00cc96",
           "#ab63fa",
           "#FFA15A",
           "#19d3f3",
           "#FF6692",
           "#B6E880",
           "#FF97FF",
           "#FECB52"
          ],
          "font": {
           "color": "#2a3f5f"
          },
          "geo": {
           "bgcolor": "white",
           "lakecolor": "white",
           "landcolor": "#E5ECF6",
           "showlakes": true,
           "showland": true,
           "subunitcolor": "white"
          },
          "hoverlabel": {
           "align": "left"
          },
          "hovermode": "closest",
          "mapbox": {
           "style": "light"
          },
          "paper_bgcolor": "white",
          "plot_bgcolor": "#E5ECF6",
          "polar": {
           "angularaxis": {
            "gridcolor": "white",
            "linecolor": "white",
            "ticks": ""
           },
           "bgcolor": "#E5ECF6",
           "radialaxis": {
            "gridcolor": "white",
            "linecolor": "white",
            "ticks": ""
           }
          },
          "scene": {
           "xaxis": {
            "backgroundcolor": "#E5ECF6",
            "gridcolor": "white",
            "gridwidth": 2,
            "linecolor": "white",
            "showbackground": true,
            "ticks": "",
            "zerolinecolor": "white"
           },
           "yaxis": {
            "backgroundcolor": "#E5ECF6",
            "gridcolor": "white",
            "gridwidth": 2,
            "linecolor": "white",
            "showbackground": true,
            "ticks": "",
            "zerolinecolor": "white"
           },
           "zaxis": {
            "backgroundcolor": "#E5ECF6",
            "gridcolor": "white",
            "gridwidth": 2,
            "linecolor": "white",
            "showbackground": true,
            "ticks": "",
            "zerolinecolor": "white"
           }
          },
          "shapedefaults": {
           "line": {
            "color": "#2a3f5f"
           }
          },
          "ternary": {
           "aaxis": {
            "gridcolor": "white",
            "linecolor": "white",
            "ticks": ""
           },
           "baxis": {
            "gridcolor": "white",
            "linecolor": "white",
            "ticks": ""
           },
           "bgcolor": "#E5ECF6",
           "caxis": {
            "gridcolor": "white",
            "linecolor": "white",
            "ticks": ""
           }
          },
          "title": {
           "x": 0.05
          },
          "xaxis": {
           "automargin": true,
           "gridcolor": "white",
           "linecolor": "white",
           "ticks": "",
           "title": {
            "standoff": 15
           },
           "zerolinecolor": "white",
           "zerolinewidth": 2
          },
          "yaxis": {
           "automargin": true,
           "gridcolor": "white",
           "linecolor": "white",
           "ticks": "",
           "title": {
            "standoff": 15
           },
           "zerolinecolor": "white",
           "zerolinewidth": 2
          }
         }
        },
        "title": {
         "text": "Bar Graph of Hourly Values"
        },
        "xaxis": {
         "anchor": "y",
         "domain": [
          0,
          1
         ],
         "title": {
          "text": "hour"
         }
        },
        "yaxis": {
         "anchor": "x",
         "domain": [
          0,
          1
         ],
         "title": {
          "text": "value"
         }
        }
       }
      }
     },
     "metadata": {},
     "output_type": "display_data"
    }
   ],
   "source": [
    "\n",
    "#  hourly_times[f'{timeA.hour}_{train[\"direction_id\"]}']\n",
    "hourly_times_df = pd.DataFrame(list(hourly_times_arriving.items()), columns=[\"hour\", \"value\"])\n",
    "\n",
    "\n",
    "# Split the lists in the 'value' column into separate columns\n",
    "df_split = hourly_times_df[\"value\"].apply(pd.Series)\n",
    "\n",
    "# Rename the new columns\n",
    "df_split.columns = [\"value_0\", \"value_1\"]\n",
    "\n",
    "# Concatenate the new columns back with the 'hour' column\n",
    "hourly_times_df = pd.concat([hourly_times_df[\"hour\"], df_split], axis=1)\n",
    "\n",
    "\n",
    "hourly_times_df[\"hour\"] = hourly_times_df[\"hour\"].astype(int)\n",
    "hourly_times_df.sort_values(by='hour')\n",
    "hourly_times_df = hourly_times_df.set_index(\"hour\").reindex(range(24), fill_value=0).reset_index()\n",
    "fig = px.bar(hourly_times_df, \n",
    "             x=\"hour\", \n",
    "             y=[\"value_0\", \"value_1\"],\n",
    "              title=\"Bar Graph of Hourly Values\",\n",
    "              text_auto=True,\n",
    "              barmode=\"group\")\n",
    "\n",
    "# # Show the figure\n",
    "fig.show()\n"
   ]
  },
  {
   "cell_type": "code",
   "execution_count": 16,
   "metadata": {},
   "outputs": [
    {
     "data": {
      "application/vnd.plotly.v1+json": {
       "config": {
        "plotlyServerURL": "https://plot.ly"
       },
       "data": [
        {
         "hovertemplate": "<b>%{hovertext}</b><br><br>distance=%{x}<br>travel_time=%{y}<br>number_of_stops=%{marker.color}<extra></extra>",
         "hovertext": [
          "304 Harlem (North White Plains)",
          "306 Harlem (North White Plains)",
          "307 Harlem (North White Plains)",
          "308 Harlem (Crestwood)",
          "309 Harlem (North White Plains)",
          "310 Harlem (Crestwood)",
          "312 Harlem (North White Plains)",
          "314 Harlem (Crestwood)",
          "316 Harlem (North White Plains)",
          "324 Harlem (Mt Vernon West)",
          "326 Harlem (Crestwood)",
          "328 Harlem (North White Plains)",
          "330 Harlem (Crestwood)",
          "332 Harlem (Crestwood)",
          "334 Harlem (Crestwood)",
          "343 Harlem (North White Plains)",
          "345 Harlem (North White Plains)",
          "349 Harlem (North White Plains)",
          "353 Harlem (North White Plains)",
          "355 Harlem (Crestwood)",
          "357 Harlem (Crestwood)",
          "359 Harlem (North White Plains)",
          "361 Harlem (Crestwood)",
          "363 Harlem (North White Plains)",
          "365 Harlem (Crestwood)",
          "366 Harlem (North White Plains)",
          "367 Harlem (Mt Vernon West)",
          "368 Harlem (North White Plains)",
          "370 Harlem (North White Plains)",
          "373 Harlem (North White Plains)",
          "416 Hudson (Greystone)",
          "426 Hudson (Irvington)",
          "434 Hudson (Irvington)",
          "436 Hudson (Greystone)",
          "440 Hudson (Greystone)",
          "443 Hudson (Greystone)",
          "461 Hudson (Greystone)",
          "465 Hudson (Greystone)",
          "469 Hudson (Greystone)",
          "477 Hudson (Greystone)",
          "483 Hudson (Greystone)",
          "500 Harlem (North White Plains)",
          "501 Harlem (North White Plains)",
          "502 Harlem (North White Plains)",
          "503 Harlem (North White Plains)",
          "504 Harlem (North White Plains)",
          "505 Harlem (North White Plains)",
          "506 Harlem (North White Plains)",
          "507 Harlem (North White Plains)",
          "508 Harlem (North White Plains)",
          "511 Harlem (North White Plains)",
          "512 Harlem (North White Plains)",
          "513 Harlem (North White Plains)",
          "514 Harlem (North White Plains)",
          "515 Harlem (North White Plains)",
          "517 Harlem (North White Plains)",
          "518 Harlem (Crestwood)",
          "519 Harlem (North White Plains)",
          "521 Harlem (North White Plains)",
          "523 Harlem (North White Plains)",
          "525 Harlem (North White Plains)",
          "528 Harlem (North White Plains)",
          "529 Harlem (North White Plains)",
          "533 Harlem (North White Plains)",
          "537 Harlem (North White Plains)",
          "538 Harlem (North White Plains)",
          "540 Harlem (North White Plains)",
          "541 Harlem (North White Plains)",
          "543 Harlem (North White Plains)",
          "544 Harlem (North White Plains)",
          "545 Harlem (North White Plains)",
          "547 Harlem (North White Plains)",
          "548 Harlem (North White Plains)",
          "552 Harlem (North White Plains)",
          "554 Harlem (North White Plains)",
          "556 Harlem (North White Plains)",
          "557 Harlem (North White Plains)",
          "558 Harlem (North White Plains)",
          "559 Harlem (North White Plains)",
          "560 Harlem (North White Plains)",
          "562 Harlem (North White Plains)",
          "563 Harlem (North White Plains)",
          "564 Harlem (North White Plains)",
          "565 Harlem (North White Plains)",
          "567 Harlem (North White Plains)",
          "568 Harlem (North White Plains)",
          "570 Harlem (North White Plains)",
          "572 Harlem (North White Plains)",
          "574 Harlem (North White Plains)",
          "576 Harlem (North White Plains)",
          "578 Harlem (North White Plains)",
          "579 Harlem (North White Plains)",
          "580 Harlem (North White Plains)",
          "581 Harlem (North White Plains)",
          "583 Harlem (North White Plains)",
          "584 Harlem (North White Plains)",
          "585 Harlem (North White Plains)",
          "587 Harlem (North White Plains)",
          "588 Harlem (North White Plains)",
          "591 Harlem (North White Plains)",
          "592 Harlem (North White Plains)",
          "595 Harlem (North White Plains)",
          "596 Harlem (North White Plains)",
          "597 Harlem (North White Plains)",
          "599 Harlem (North White Plains)",
          "600 Harlem (Southeast)",
          "601 Harlem (Southeast)",
          "602 Harlem (Southeast)",
          "603 Harlem (Southeast)",
          "604 Harlem (Southeast)",
          "605 Harlem (Southeast)",
          "606 Harlem (Southeast)",
          "607 Harlem (Southeast)",
          "608 Harlem (Southeast)",
          "609 Harlem (Southeast)",
          "610 Harlem (Southeast)",
          "611 Harlem (Southeast)",
          "613 Harlem (Southeast)",
          "614 Harlem (Southeast)",
          "615 Harlem (Southeast)",
          "616 Harlem (Southeast)",
          "617 Harlem (Southeast)",
          "618 Harlem (Mt Kisco)",
          "620 Harlem (Southeast)",
          "621 Harlem (Southeast)",
          "622 Harlem (Mt Kisco)",
          "624 Harlem (Southeast)",
          "625 Harlem (Southeast)",
          "628 Harlem (Mt Kisco)",
          "629 Harlem (Southeast)",
          "630 Harlem (Southeast)",
          "632 Harlem (Mt Kisco)",
          "633 Harlem (Southeast)",
          "634 Harlem (Southeast)",
          "635 Harlem (Southeast)",
          "637 Harlem (Southeast)",
          "638 Harlem (Southeast)",
          "639 Harlem (Mt Kisco)",
          "640 Harlem (Southeast)",
          "641 Harlem (Southeast)",
          "643 Harlem (Southeast)",
          "644 Harlem (Southeast)",
          "645 Harlem (Southeast)",
          "647 Harlem (Mt Kisco)",
          "648 Harlem (Southeast)",
          "649 Harlem (Southeast)",
          "651 Harlem (Southeast)",
          "652 Harlem (Southeast)",
          "653 Harlem (Mt Kisco)",
          "656 Harlem (Southeast)",
          "657 Harlem (Brewster)",
          "659 Harlem (Southeast)",
          "660 Harlem (Southeast)",
          "661 Harlem (Mt Kisco)",
          "662 Harlem (Southeast)",
          "663 Harlem (Brewster)",
          "664 Harlem (Southeast)",
          "665 Harlem (Mt Kisco)",
          "667 Harlem (Southeast)",
          "668 Harlem (Southeast)",
          "669 Harlem (Mt Kisco)",
          "670 Harlem (Southeast)",
          "671 Harlem (Southeast)",
          "672 Harlem (Southeast)",
          "673 Harlem (Mt Kisco)",
          "674 Harlem (Southeast)",
          "676 Harlem (Southeast)",
          "677 Harlem (Southeast)",
          "678 Harlem (Southeast)",
          "679 Harlem (Southeast)",
          "680 Harlem (Southeast)",
          "681 Harlem (Southeast)",
          "683 Harlem (Southeast)",
          "684 Harlem (Southeast)",
          "685 Harlem (Southeast)",
          "687 Harlem (Southeast)",
          "688 Harlem (Southeast)",
          "691 Harlem (Southeast)",
          "692 Harlem (Southeast)",
          "695 Harlem (Southeast)",
          "696 Harlem (Southeast)",
          "697 Harlem (Southeast)",
          "698 Harlem (Southeast)",
          "699 Harlem (Southeast)",
          "700 Hudson (Croton-Harmon)",
          "701 Hudson (Croton-Harmon)",
          "702 Hudson (Croton-Harmon)",
          "703 Hudson (Croton-Harmon)",
          "704 Hudson (Croton-Harmon)",
          "705 Hudson (Croton-Harmon)",
          "707 Hudson (Croton-Harmon)",
          "708 Hudson (Croton-Harmon)",
          "709 Hudson (Croton-Harmon)",
          "710 Hudson (Croton-Harmon)",
          "711 Hudson (Croton-Harmon)",
          "712 Hudson (Croton-Harmon)",
          "713 Hudson (Croton-Harmon)",
          "714 Hudson (Croton-Harmon)",
          "715 Hudson (Croton-Harmon)",
          "716 Hudson (Croton-Harmon)",
          "717 Hudson (Croton-Harmon)",
          "719 Hudson (Croton-Harmon)",
          "721 Hudson (Croton-Harmon)",
          "724 Hudson (Croton-Harmon)",
          "725 Hudson (Croton-Harmon)",
          "728 Hudson (Croton-Harmon)",
          "729 Hudson (Croton-Harmon)",
          "732 Hudson (Croton-Harmon)",
          "733 Hudson (Croton-Harmon)",
          "734 Hudson (Croton-Harmon)",
          "736 Hudson (Croton-Harmon)",
          "737 Hudson (Croton-Harmon)",
          "738 Hudson (Croton-Harmon)",
          "739 Hudson (Croton-Harmon)",
          "740 Hudson (Croton-Harmon)",
          "741 Hudson (Croton-Harmon)",
          "742 Hudson (Croton-Harmon)",
          "744 Hudson (Croton-Harmon)",
          "745 Hudson (Croton-Harmon)",
          "746 Hudson (Croton-Harmon)",
          "747 Hudson (Croton-Harmon)",
          "749 Hudson (Croton-Harmon)",
          "750 Hudson (Croton-Harmon)",
          "753 Hudson (Croton-Harmon)",
          "754 Hudson (Croton-Harmon)",
          "755 Hudson (Croton-Harmon)",
          "757 Hudson (Croton-Harmon)",
          "758 Hudson (Croton-Harmon)",
          "760 Hudson (Croton-Harmon)",
          "762 Hudson (Croton-Harmon)",
          "764 Hudson (Croton-Harmon)",
          "765 Hudson (Croton-Harmon)",
          "766 Hudson (Croton-Harmon)",
          "767 Hudson (Croton-Harmon)",
          "768 Hudson (Croton-Harmon)",
          "769 Hudson (Croton-Harmon)",
          "770 Hudson (Croton-Harmon)",
          "771 Hudson (Croton-Harmon)",
          "772 Hudson (Croton-Harmon)",
          "774 Hudson (Croton-Harmon)",
          "775 Hudson (Croton-Harmon)",
          "776 Hudson (Croton-Harmon)",
          "777 Hudson (Croton-Harmon)",
          "778 Hudson (Croton-Harmon)",
          "780 Hudson (Croton-Harmon)",
          "781 Hudson (Croton-Harmon)",
          "782 Hudson (Croton-Harmon)",
          "783 Hudson (Croton-Harmon)",
          "785 Hudson (Croton-Harmon)",
          "786 Hudson (Croton-Harmon)",
          "787 Hudson (Croton-Harmon)",
          "789 Hudson (Croton-Harmon)",
          "790 Hudson (Croton-Harmon)",
          "791 Hudson (Croton-Harmon)",
          "792 Hudson (Croton-Harmon)",
          "793 Hudson (Croton-Harmon)",
          "794 Hudson (Croton-Harmon)",
          "795 Hudson (Croton-Harmon)",
          "796 Hudson (Croton-Harmon)",
          "797 Hudson (Croton-Harmon)",
          "798 Hudson (Croton-Harmon)",
          "799 Hudson (Croton-Harmon)",
          "801 Hudson (Poughkeepsie)",
          "802 Hudson (Poughkeepsie)",
          "803 Hudson (Poughkeepsie)",
          "805 Hudson (Poughkeepsie)",
          "806 Hudson (Poughkeepsie)",
          "807 Hudson (Poughkeepsie)",
          "809 Hudson (Poughkeepsie)",
          "810 Hudson (Poughkeepsie)",
          "813 Hudson (Poughkeepsie)",
          "814 Hudson (Poughkeepsie)",
          "816 Hudson (Poughkeepsie)",
          "817 Hudson (Poughkeepsie)",
          "818 Hudson (Poughkeepsie)",
          "821 Hudson (Poughkeepsie)",
          "825 Hudson (Poughkeepsie)",
          "829 Hudson (Poughkeepsie)",
          "830 Hudson (Poughkeepsie)",
          "832 Hudson (Poughkeepsie)",
          "833 Hudson (Poughkeepsie)",
          "834 Hudson (Poughkeepsie)",
          "837 Hudson (Poughkeepsie)",
          "838 Hudson (Poughkeepsie)",
          "839 Hudson (Poughkeepsie)",
          "840 Hudson (Poughkeepsie)",
          "841 Hudson (Poughkeepsie)",
          "842 Hudson (Poughkeepsie)",
          "843 Hudson (Poughkeepsie)",
          "844 Hudson (Poughkeepsie)",
          "846 Hudson (Poughkeepsie)",
          "847 Hudson (Poughkeepsie)",
          "849 Hudson (Poughkeepsie)",
          "850 Hudson (Poughkeepsie)",
          "851 Hudson (Beacon)",
          "853 Hudson (Poughkeepsie)",
          "854 Hudson (Poughkeepsie)",
          "855 Hudson (Poughkeepsie)",
          "857 Hudson (Poughkeepsie)",
          "858 Hudson (Poughkeepsie)",
          "862 Hudson (Poughkeepsie)",
          "865 Hudson (Poughkeepsie)",
          "866 Hudson (Poughkeepsie)",
          "869 Hudson (Poughkeepsie)",
          "870 Hudson (Poughkeepsie)",
          "874 Hudson (Poughkeepsie)",
          "875 Hudson (Poughkeepsie)",
          "876 Hudson (Poughkeepsie)",
          "877 Hudson (Poughkeepsie)",
          "878 Hudson (Poughkeepsie)",
          "880 Hudson (Poughkeepsie)",
          "881 Hudson (Poughkeepsie)",
          "882 Hudson (Poughkeepsie)",
          "883 Hudson (Poughkeepsie)",
          "886 Hudson (Poughkeepsie)",
          "887 Hudson (Poughkeepsie)",
          "890 Hudson (Poughkeepsie)",
          "891 Hudson (Poughkeepsie)",
          "892 Hudson (Poughkeepsie)",
          "894 Hudson (Poughkeepsie)",
          "895 Hudson (Poughkeepsie)",
          "896 Hudson (Poughkeepsie)",
          "897 Hudson (Poughkeepsie)",
          "898 Hudson (Poughkeepsie)",
          "901 Harlem (Wassaic)",
          "909 Harlem (Wassaic)",
          "916 Harlem (Wassaic)",
          "917 Harlem (Wassaic)",
          "920 Harlem (Wassaic)",
          "925 Harlem (Wassaic)",
          "933 Harlem (Wassaic)",
          "934 Harlem (Wassaic)",
          "940 Harlem (Wassaic)",
          "943 Harlem (Wassaic)",
          "948 Harlem (Wassaic)",
          "953 Harlem (Wassaic)",
          "956 Harlem (Wassaic)",
          "964 Harlem (Wassaic)",
          "971 Harlem (Wassaic)",
          "972 Harlem (Wassaic)",
          "979 Harlem (Wassaic)",
          "980 Harlem (Wassaic)",
          "983 Harlem (Wassaic)",
          "987 Harlem (Wassaic)",
          "988 Harlem (Wassaic)",
          "992 Harlem (Wassaic)",
          "995 Harlem (Dover Plains)",
          "998 Harlem (Wassaic)",
          "1213 New Haven (Harrison)",
          "1221 New Haven (Harrison)",
          "1225 New Haven (New Rochelle)",
          "1229 New Haven (New Rochelle)",
          "1231 New Haven (Harrison)",
          "1233 New Haven (Harrison)",
          "1237 New Haven (Harrison)",
          "1239 New Haven (Harrison)",
          "1241 New Haven (Harrison)",
          "1244 New Haven (Harrison)",
          "1248 New Haven (Harrison)",
          "1254 New Haven (Harrison)",
          "1256 New Haven (New Rochelle)",
          "1260 New Haven (Harrison)",
          "1264 New Haven (Harrison)",
          "1268 New Haven (New Rochelle)",
          "1270 New Haven (Harrison)",
          "1274 New Haven (Harrison)",
          "1275 New Haven (Harrison)",
          "1279 New Haven (Harrison)",
          "1299 New Haven (Stamford)",
          "1300 New Haven (Stamford)",
          "1301 New Haven (Stamford)",
          "1302 New Haven (Stamford)",
          "1303 New Haven (Stamford)",
          "1304 New Haven (Stamford)",
          "1305 New Haven (Stamford)",
          "1306 New Haven (Greenwich)",
          "1307 New Haven (Stamford)",
          "1308 New Haven (Greenwich)",
          "1309 New Haven (Stamford)",
          "1310 New Haven (Greenwich)",
          "1311 New Haven (Stamford)",
          "1312 New Haven (Stamford)",
          "1314 New Haven (Stamford)",
          "1315 New Haven (Stamford)",
          "1316 New Haven (Stamford)",
          "1317 New Haven (New Rochelle)",
          "1318 New Haven (Stamford)",
          "1320 New Haven (Stamford)",
          "1321 New Haven (Stamford)",
          "1322 New Haven (Stamford)",
          "1324 New Haven (Stamford)",
          "1325 New Haven (Greenwich)",
          "1326 New Haven (Stamford)",
          "1327 New Haven (Harrison)",
          "1328 New Haven (Stamford)",
          "1330 New Haven (Stamford)",
          "1331 New Haven (Stamford)",
          "1332 New Haven (Stamford)",
          "1333 New Haven (Stamford)",
          "1334 New Haven (Stamford)",
          "1335 New Haven (Stamford)",
          "1336 New Haven (Stamford)",
          "1338 New Haven (Stamford)",
          "1339 New Haven (Stamford)",
          "1340 New Haven (Stamford)",
          "1341 New Haven (Stamford)",
          "1342 New Haven (Stamford)",
          "1346 New Haven (Stamford)",
          "1347 New Haven (Stamford)",
          "1349 New Haven (Stamford)",
          "1351 New Haven (Stamford)",
          "1352 New Haven (Stamford)",
          "1353 New Haven (Stamford)",
          "1355 New Haven (Stamford)",
          "1357 New Haven (Stamford)",
          "1358 New Haven (Stamford)",
          "1359 New Haven (Stamford)",
          "1360 New Haven (Stamford)",
          "1361 New Haven (Stamford)",
          "1362 New Haven (Old Greenwich)",
          "1363 New Haven (Stamford)",
          "1365 New Haven (Stamford)",
          "1367 New Haven (Stamford)",
          "1368 New Haven (Stamford)",
          "1369 New Haven (Stamford)",
          "1370 New Haven (Stamford)",
          "1371 New Haven (Stamford)",
          "1373 New Haven (Stamford)",
          "1374 New Haven (Stamford)",
          "1375 New Haven (Stamford)",
          "1376 New Haven (Stamford)",
          "1379 New Haven (Stamford)",
          "1381 New Haven (Stamford)",
          "1382 New Haven (Stamford)",
          "1383 New Haven (Stamford)",
          "1384 New Haven (Stamford)",
          "1385 New Haven (Stamford)",
          "1386 New Haven (Stamford)",
          "1387 New Haven (Stamford)",
          "1388 New Haven (Stamford)",
          "1389 New Haven (Stamford)",
          "1390 New Haven (Stamford)",
          "1391 New Haven (Stamford)",
          "1392 New Haven (Stamford)",
          "1393 New Haven (Stamford)",
          "1394 New Haven (Stamford)",
          "1395 New Haven (Stamford)",
          "1397 New Haven (Stamford)",
          "1398 New Haven (Stamford)",
          "1399 New Haven (Stamford)",
          "1402 New Haven (New Haven)",
          "1404 New Haven (Stamford)",
          "1406 New Haven (Stamford)",
          "1407 New Haven (Stamford)",
          "1408 New Haven (Stamford)",
          "1409 New Haven (Bridgeport)",
          "1410 New Haven (Stamford)",
          "1416 New Haven (New Haven)",
          "1429 New Haven (South Norwalk)",
          "1431 New Haven (South Norwalk)",
          "1433 New Haven (Fairfield-Black Rock)",
          "1442 New Haven (South Norwalk)",
          "1445 New Haven (Bridgeport)",
          "1456 New Haven (Bridgeport)",
          "1458 New Haven (South Norwalk)",
          "1471 New Haven (Stamford)",
          "1473 New Haven (Stamford)",
          "1497 New Haven (New Haven)",
          "1500 New Haven (New Haven)",
          "1502 New Haven (New Haven)",
          "1503 New Haven (New Haven)",
          "1504 New Haven (New Haven-State St)",
          "1506 New Haven (New Haven-State St)",
          "1507 New Haven (New Haven)",
          "1508 New Haven (New Haven)",
          "1509 New Haven (New Haven)",
          "1510 New Haven (New Haven-State St)",
          "1511 New Haven (New Haven)",
          "1512 New Haven (New Haven)",
          "1513 New Haven (New Haven)",
          "1514 New Haven (New Haven-State St)",
          "1516 New Haven (New Haven)",
          "1517 New Haven (New Haven)",
          "1518 New Haven (New Haven-State St)",
          "1520 New Haven (New Haven)",
          "1522 New Haven (New Haven)",
          "1524 New Haven (New Haven)",
          "1525 New Haven (New Haven)",
          "1526 New Haven (New Haven)",
          "1528 New Haven (New Haven)",
          "1529 New Haven (New Haven)",
          "1530 New Haven (New Haven)",
          "1531 New Haven (New Haven)",
          "1532 New Haven (New Haven)",
          "1533 New Haven (New Haven)",
          "1534 New Haven (New Haven)",
          "1535 New Haven (New Haven)",
          "1536 New Haven (New Haven)",
          "1538 New Haven (New Haven)",
          "1540 New Haven (New Haven)",
          "1541 New Haven (New Haven)",
          "1542 New Haven (New Haven)",
          "1544 New Haven (New Haven)",
          "1545 New Haven (New Haven)",
          "1546 New Haven (New Haven)",
          "1548 New Haven (New Haven)",
          "1549 New Haven (New Haven)",
          "1551 New Haven (New Haven)",
          "1552 New Haven (New Haven)",
          "1553 New Haven (New Haven)",
          "1554 New Haven (New Haven)",
          "1555 New Haven (New Haven)",
          "1556 New Haven (New Haven)",
          "1557 New Haven (New Haven-State St)",
          "1559 New Haven (New Haven)",
          "1561 New Haven (New Haven)",
          "1562 New Haven (New Haven)",
          "1563 New Haven (New Haven)",
          "1565 New Haven (New Haven)",
          "1567 New Haven (New Haven)",
          "1569 New Haven (New Haven)",
          "1570 New Haven (New Haven)",
          "1571 New Haven (New Haven)",
          "1573 New Haven (New Haven-State St)",
          "1574 New Haven (New Haven)",
          "1575 New Haven (New Haven-State St)",
          "1576 New Haven (New Haven)",
          "1577 New Haven (New Haven)",
          "1578 New Haven (New Haven)",
          "1579 New Haven (New Haven-State St)",
          "1581 New Haven (New Haven-State St)",
          "1582 New Haven (New Haven)",
          "1583 New Haven (New Haven-State St)",
          "1584 New Haven (New Haven)",
          "1586 New Haven (New Haven)",
          "1587 New Haven (New Haven)",
          "1588 New Haven (New Haven)",
          "1590 New Haven (New Haven)",
          "1591 New Haven (New Haven)",
          "1592 New Haven (New Haven)",
          "1594 New Haven (New Haven)",
          "1595 New Haven (New Haven)",
          "1597 New Haven (New Haven)",
          "1598 New Haven (New Haven)",
          "1599 New Haven (New Haven)",
          "1633 New Haven (New Haven-State St)",
          "1638 New Haven (New Haven-State St)",
          "1707 New Canaan (New Canaan)",
          "1710 New Canaan (New Canaan)",
          "1711 New Canaan (New Canaan)",
          "1712 New Canaan (New Canaan)",
          "1716 New Canaan (New Canaan)",
          "1718 New Canaan (New Canaan)",
          "1723 New Canaan (New Canaan)",
          "1726 New Canaan (New Canaan)",
          "1730 New Canaan (New Canaan)",
          "1731 New Canaan (New Canaan)",
          "1734 New Canaan (New Canaan)",
          "1735 New Canaan (New Canaan)",
          "1738 New Canaan (New Canaan)",
          "1740 New Canaan (New Canaan)",
          "1741 New Canaan (New Canaan)",
          "1745 New Canaan (New Canaan)",
          "1750 New Canaan (New Canaan)",
          "1751 New Canaan (New Canaan)",
          "1752 New Canaan (New Canaan)",
          "1755 New Canaan (New Canaan)",
          "1758 New Canaan (New Canaan)",
          "1763 New Canaan (New Canaan)",
          "1767 New Canaan (New Canaan)",
          "1770 New Canaan (New Canaan)",
          "1771 New Canaan (New Canaan)",
          "1774 New Canaan (New Canaan)",
          "1775 New Canaan (New Canaan)",
          "1777 New Canaan (New Canaan)",
          "1778 New Canaan (New Canaan)",
          "1782 New Canaan (New Canaan)",
          "1786 New Canaan (New Canaan)",
          "1787 New Canaan (New Canaan)",
          "1790 New Canaan (New Canaan)",
          "1791 New Canaan (New Canaan)",
          "1794 New Canaan (New Canaan)",
          "1795 New Canaan (New Canaan)",
          "1797 New Canaan (New Canaan)",
          "1798 New Canaan (New Canaan)",
          "1799 New Canaan (New Canaan)",
          "1806 Danbury (Danbury)",
          "1811 Danbury (Danbury)",
          "1812 Danbury (Danbury)",
          "1816 Danbury (Danbury)",
          "1819 Danbury (Danbury)",
          "1822 Danbury (Danbury)",
          "1830 Danbury (Danbury)",
          "1831 Danbury (Danbury)",
          "1837 Danbury (Danbury)",
          "1838 Danbury (Danbury)",
          "1841 Danbury (Danbury)",
          "1844 Danbury (Danbury)",
          "1848 Danbury (Danbury)",
          "1849 Danbury (Danbury)",
          "1855 Danbury (Danbury)",
          "1860 Danbury (Danbury)",
          "1861 Danbury (Danbury)",
          "1867 Danbury (Danbury)",
          "1868 Danbury (Danbury)",
          "1874 Danbury (Danbury)",
          "1875 Danbury (Danbury)",
          "1881 Danbury (Danbury)",
          "1882 Danbury (Danbury)",
          "1889 Danbury (Danbury)",
          "1894 Danbury (Danbury)",
          "1897 Danbury (Danbury)",
          "1902 Waterbury (Waterbury)",
          "1908 Waterbury (Waterbury)",
          "1911 Waterbury (Waterbury)",
          "1916 Waterbury (Waterbury)",
          "1922 Waterbury (Waterbury)",
          "1925 Waterbury (Waterbury)",
          "1928 Waterbury (Waterbury)",
          "1935 Waterbury (Waterbury)",
          "1936 Waterbury (Waterbury)",
          "1942 Waterbury (Waterbury)",
          "1949 Waterbury (Waterbury)",
          "1956 Waterbury (Waterbury)",
          "1957 Waterbury (Waterbury)",
          "1965 Waterbury (Waterbury)",
          "1973 Waterbury (Waterbury)",
          "1974 Waterbury (Waterbury)",
          "1979 Waterbury (Waterbury)",
          "1985 Waterbury (Waterbury)",
          "1990 Waterbury (Waterbury)",
          "1991 Waterbury (Waterbury)",
          "1995 Waterbury (Waterbury)",
          "1997 Waterbury (Waterbury)",
          "3419 New Haven (Bridgeport)",
          "3507 New Haven (New Haven)",
          "3511 New Haven (New Haven)",
          "3537 New Haven (New Haven)",
          "3538 New Haven (New Haven)",
          "3539 New Haven (New Haven)",
          "3541 New Haven (New Haven)",
          "3542 New Haven (New Haven)",
          "3546 New Haven (New Haven)",
          "3568 New Haven (New Haven)",
          "3570 New Haven (New Haven)",
          "3581 New Haven (New Haven)",
          "4522 Harlem (North White Plains)",
          "4551 Harlem (North White Plains)",
          "4608 Harlem (Southeast)",
          "4635 Harlem (Southeast)",
          "4636 Harlem (Southeast)",
          "4644 Harlem (Southeast)",
          "4649 Harlem (Southeast)",
          "4661 Harlem (Southeast)",
          "4720 Hudson (Croton-Harmon)",
          "4744 Hudson (Croton-Harmon)",
          "4761 Hudson (Croton-Harmon)",
          "4835 Hudson (Poughkeepsie)",
          "4844 Hudson (Poughkeepsie)",
          "4908 Harlem (Wassaic)",
          "4949 Harlem (Wassaic)",
          "4961 Harlem (Wassaic)",
          "B1456 Waterbury (Waterbury)",
          "B1538 Waterbury (Waterbury)"
         ],
         "legendgroup": "",
         "marker": {
          "color": [
           18,
           18,
           18,
           10,
           18,
           7,
           18,
           7,
           18,
           10,
           7,
           18,
           6,
           14,
           14,
           18,
           18,
           18,
           18,
           9,
           6,
           18,
           7,
           18,
           7,
           16,
           10,
           18,
           18,
           11,
           12,
           7,
           7,
           12,
           12,
           13,
           12,
           13,
           12,
           12,
           13,
           18,
           18,
           18,
           18,
           7,
           18,
           6,
           4,
           6,
           18,
           7,
           18,
           6,
           18,
           18,
           7,
           18,
           18,
           18,
           18,
           6,
           18,
           18,
           18,
           18,
           18,
           18,
           11,
           18,
           11,
           11,
           18,
           18,
           18,
           18,
           5,
           18,
           6,
           18,
           18,
           6,
           18,
           5,
           11,
           6,
           7,
           18,
           16,
           18,
           18,
           18,
           18,
           12,
           18,
           18,
           12,
           18,
           18,
           18,
           18,
           18,
           18,
           18,
           18,
           15,
           17,
           16,
           17,
           16,
           19,
           15,
           20,
           16,
           20,
           16,
           20,
           17,
           16,
           14,
           9,
           17,
           10,
           12,
           16,
           9,
           12,
           16,
           11,
           16,
           12,
           9,
           16,
           13,
           12,
           12,
           16,
           11,
           16,
           16,
           16,
           16,
           11,
           9,
           16,
           16,
           10,
           17,
           11,
           16,
           15,
           10,
           17,
           8,
           14,
           8,
           17,
           9,
           12,
           17,
           9,
           17,
           12,
           17,
           9,
           15,
           17,
           16,
           14,
           16,
           16,
           18,
           16,
           16,
           16,
           16,
           16,
           16,
           16,
           16,
           16,
           16,
           24,
           30,
           19,
           21,
           13,
           21,
           22,
           22,
           22,
           21,
           22,
           12,
           22,
           22,
           22,
           13,
           12,
           7,
           22,
           13,
           22,
           21,
           22,
           6,
           22,
           22,
           22,
           7,
           13,
           22,
           11,
           22,
           21,
           22,
           13,
           22,
           13,
           22,
           22,
           12,
           22,
           22,
           22,
           7,
           14,
           22,
           13,
           22,
           13,
           12,
           22,
           6,
           15,
           11,
           21,
           21,
           22,
           21,
           21,
           21,
           13,
           21,
           12,
           21,
           21,
           14,
           10,
           21,
           21,
           12,
           22,
           22,
           22,
           13,
           22,
           22,
           21,
           22,
           18,
           21,
           8,
           10,
           14,
           14,
           10,
           14,
           14,
           10,
           12,
           10,
           10,
           12,
           5,
           12,
           12,
           12,
           10,
           5,
           13,
           9,
           12,
           10,
           10,
           11,
           10,
           10,
           10,
           10,
           12,
           10,
           5,
           12,
           8,
           4,
           12,
           10,
           10,
           12,
           12,
           11,
           12,
           10,
           12,
           12,
           10,
           9,
           10,
           12,
           9,
           10,
           12,
           10,
           13,
           10,
           13,
           10,
           13,
           8,
           19,
           8,
           20,
           8,
           7,
           7,
           14,
           7,
           14,
           7,
           7,
           7,
           7,
           16,
           7,
           12,
           7,
           7,
           7,
           7,
           7,
           7,
           7,
           7,
           7,
           7,
           5,
           7,
           8,
           4,
           5,
           5,
           5,
           7,
           9,
           9,
           9,
           8,
           9,
           6,
           5,
           5,
           4,
           4,
           8,
           5,
           9,
           9,
           16,
           16,
           16,
           16,
           16,
           15,
           16,
           12,
           16,
           12,
           16,
           12,
           9,
           16,
           16,
           9,
           16,
           4,
           16,
           16,
           16,
           16,
           16,
           5,
           16,
           4,
           16,
           16,
           8,
           16,
           8,
           16,
           16,
           16,
           16,
           10,
           16,
           11,
           13,
           16,
           16,
           16,
           16,
           10,
           16,
           16,
           16,
           8,
           16,
           16,
           16,
           9,
           16,
           16,
           16,
           9,
           16,
           9,
           16,
           16,
           16,
           16,
           16,
           16,
           16,
           16,
           16,
           16,
           16,
           16,
           16,
           16,
           16,
           16,
           16,
           16,
           16,
           16,
           16,
           16,
           16,
           16,
           16,
           16,
           12,
           9,
           9,
           14,
           12,
           13,
           6,
           6,
           10,
           7,
           15,
           11,
           6,
           9,
           9,
           18,
           18,
           18,
           14,
           19,
           21,
           18,
           20,
           14,
           16,
           11,
           20,
           15,
           15,
           18,
           10,
           19,
           13,
           18,
           13,
           19,
           18,
           13,
           8,
           18,
           19,
           13,
           8,
           18,
           21,
           13,
           18,
           15,
           15,
           16,
           22,
           11,
           19,
           7,
           14,
           18,
           9,
           13,
           17,
           18,
           8,
           14,
           18,
           13,
           18,
           18,
           13,
           18,
           14,
           13,
           18,
           15,
           18,
           20,
           18,
           19,
           18,
           22,
           15,
           14,
           21,
           18,
           18,
           19,
           18,
           18,
           19,
           18,
           18,
           18,
           18,
           18,
           18,
           7,
           7,
           13,
           20,
           7,
           14,
           5,
           5,
           7,
           5,
           5,
           5,
           5,
           8,
           5,
           13,
           5,
           5,
           14,
           5,
           6,
           5,
           5,
           5,
           5,
           7,
           6,
           7,
           13,
           20,
           12,
           5,
           5,
           5,
           5,
           5,
           5,
           5,
           5,
           5,
           5,
           8,
           13,
           8,
           8,
           11,
           8,
           8,
           11,
           8,
           8,
           14,
           9,
           13,
           9,
           8,
           10,
           8,
           8,
           12,
           8,
           8,
           8,
           15,
           9,
           8,
           8,
           8,
           8,
           8,
           8,
           8,
           8,
           8,
           8,
           8,
           8,
           8,
           8,
           8,
           8,
           8,
           8,
           8,
           8,
           8,
           8,
           8,
           8,
           15,
           4,
           4,
           4,
           11,
           19,
           4,
           4,
           4,
           4,
           15,
           6,
           9,
           11,
           8,
           16,
           19,
           16,
           8,
           8,
           12,
           22,
           11,
           10,
           7,
           7,
           7,
           7,
           7,
           7
          ],
          "coloraxis": "coloraxis",
          "symbol": "circle"
         },
         "mode": "markers",
         "name": "",
         "orientation": "v",
         "showlegend": false,
         "type": "scatter",
         "x": [
          23.629569865141274,
          23.629569865141274,
          23.629569865141274,
          16.69467934301708,
          23.629569865141274,
          16.69467934301708,
          23.629569865141274,
          16.69467934301708,
          23.629569865141274,
          13.019234982523443,
          16.69467934301708,
          23.629569865141274,
          16.69467934301708,
          16.69467934301708,
          16.69467934301708,
          23.629569865141274,
          23.629569865141274,
          23.629569865141274,
          23.629569865141274,
          16.694679343017096,
          16.694679343017096,
          23.629569865141274,
          16.694679343017096,
          23.629569865141274,
          16.694679343017096,
          23.629569865141274,
          13.019234982523471,
          23.629569865141274,
          23.629569865141274,
          23.629569865141274,
          17.146816878938168,
          21.883007668184998,
          21.883007668184998,
          17.146816878938168,
          17.146816878938168,
          17.146816878938182,
          17.146816878938182,
          17.146816878938182,
          17.146816878938182,
          17.146816878938182,
          17.146816878938182,
          23.629569865141274,
          23.629569865141274,
          23.629569865141274,
          23.629569865141274,
          23.629569865141274,
          23.629569865141274,
          23.629569865141274,
          23.629569865141274,
          23.629569865141274,
          23.629569865141274,
          23.629569865141274,
          23.629569865141274,
          23.629569865141274,
          23.629569865141274,
          23.629569865141274,
          16.69467934301708,
          23.629569865141274,
          23.629569865141274,
          23.629569865141274,
          23.629569865141274,
          23.629569865141274,
          23.629569865141274,
          23.629569865141274,
          23.629569865141274,
          23.629569865141274,
          23.629569865141274,
          23.629569865141274,
          23.629569865141274,
          23.629569865141274,
          23.629569865141274,
          23.629569865141274,
          23.629569865141274,
          23.629569865141274,
          23.629569865141274,
          23.629569865141274,
          23.629569865141274,
          23.629569865141274,
          23.629569865141274,
          23.629569865141274,
          23.629569865141274,
          23.629569865141274,
          23.629569865141274,
          23.629569865141274,
          23.629569865141274,
          23.629569865141274,
          23.629569865141274,
          23.629569865141274,
          23.629569865141274,
          23.629569865141274,
          23.629569865141274,
          23.629569865141274,
          23.629569865141274,
          23.629569865141274,
          23.629569865141274,
          23.629569865141274,
          23.629569865141274,
          23.629569865141274,
          23.629569865141274,
          23.629569865141274,
          23.629569865141274,
          23.629569865141274,
          23.629569865141274,
          23.629569865141274,
          23.629569865141274,
          53.128510743338694,
          53.12851074333865,
          53.128510743338694,
          53.12851074333865,
          53.128510743338694,
          53.12851074333865,
          53.128510743338694,
          53.12851074333865,
          53.128510743338694,
          53.12851074333865,
          53.128510743338694,
          53.12851074333865,
          53.12851074333865,
          53.128510743338694,
          53.12851074333865,
          53.128510743338694,
          53.12851074333865,
          36.51326597181611,
          53.128510743338694,
          53.12851074333865,
          36.51326597181611,
          53.128510743338694,
          53.12851074333865,
          36.51326597181611,
          53.12851074333865,
          53.128510743338694,
          36.51326597181611,
          53.12851074333865,
          53.128510743338694,
          53.12851074333865,
          53.12851074333865,
          53.128510743338694,
          36.51326597181618,
          53.128510743338694,
          53.12851074333865,
          53.12851074333865,
          53.128510743338694,
          53.12851074333865,
          36.51326597181618,
          53.128510743338694,
          53.12851074333865,
          53.12851074333865,
          53.128510743338694,
          36.51326597181618,
          53.128510743338694,
          51.82117626323161,
          53.12851074333865,
          53.128510743338694,
          36.51326597181618,
          53.128510743338694,
          51.82117626323161,
          53.128510743338694,
          36.51326597181618,
          53.12851074333865,
          53.128510743338694,
          36.51326597181618,
          53.128510743338694,
          53.12851074333865,
          53.128510743338694,
          36.51326597181618,
          53.128510743338694,
          53.128510743338694,
          53.12851074333865,
          53.128510743338694,
          53.12851074333865,
          53.128510743338694,
          53.12851074333865,
          53.12851074333865,
          53.128510743338694,
          53.12851074333865,
          53.12851074333865,
          53.128510743338694,
          53.12851074333865,
          53.128510743338694,
          53.12851074333865,
          53.128510743338694,
          53.12851074333865,
          53.128510743338694,
          53.12851074333865,
          32.47429580416642,
          32.474295804166424,
          32.47429580416642,
          32.474295804166424,
          32.47429580416642,
          32.474295804166424,
          32.474295804166424,
          32.47429580416642,
          32.474295804166424,
          32.47429580416642,
          32.474295804166424,
          32.47429580416642,
          32.474295804166424,
          32.47429580416642,
          32.474295804166424,
          32.47429580416642,
          32.474295804166424,
          32.474295804166424,
          32.474295804166424,
          32.47429580416642,
          32.474295804166424,
          32.47429580416642,
          32.474295804166424,
          32.47429580416642,
          32.474295804166424,
          32.47429580416642,
          32.47429580416642,
          32.474295804166424,
          32.47429580416642,
          32.474295804166424,
          32.47429580416642,
          32.474295804166424,
          32.47429580416642,
          32.47429580416642,
          32.474295804166424,
          32.47429580416642,
          32.474295804166424,
          32.474295804166424,
          32.47429580416642,
          32.474295804166424,
          32.47429580416642,
          32.474295804166424,
          32.474295804166424,
          32.47429580416642,
          32.47429580416642,
          32.47429580416642,
          32.47429580416642,
          32.474295804166424,
          32.47429580416642,
          32.474295804166424,
          32.47429580416642,
          32.474295804166424,
          32.47429580416642,
          32.474295804166424,
          32.47429580416642,
          32.47429580416642,
          32.474295804166424,
          32.47429580416642,
          32.474295804166424,
          32.47429580416642,
          32.47429580416642,
          32.474295804166424,
          32.47429580416642,
          32.474295804166424,
          32.474295804166424,
          32.47429580416642,
          32.474295804166424,
          32.474295804166424,
          32.47429580416642,
          32.474295804166424,
          32.47429580416642,
          32.474295804166424,
          32.47429580416642,
          32.474295804166424,
          32.47429580416642,
          32.474295804166424,
          32.47429580416642,
          32.474295804166424,
          40.221382123127135,
          72.69567792729357,
          72.69567792729349,
          72.69567792729349,
          72.69567792729357,
          72.69567792729349,
          72.69567792729349,
          72.69567792729357,
          72.69567792729349,
          72.69567792729357,
          72.69567792729357,
          72.69567792729349,
          72.69567792729357,
          72.69567792729349,
          72.69567792729349,
          72.69567792729349,
          72.69567792729357,
          72.69567792729357,
          72.69567792729349,
          72.69567792729357,
          72.69567792729349,
          72.69567792729357,
          72.69567792729349,
          72.69567792729357,
          72.69567792729349,
          72.69567792729357,
          72.69567792729349,
          72.69567792729357,
          72.69567792729357,
          72.69567792729349,
          72.69567792729349,
          72.69567792729357,
          58.107068485458235,
          72.69567792729349,
          72.69567792729357,
          72.69567792729349,
          72.69567792729349,
          72.69567792729357,
          72.69567792729357,
          72.69567792729349,
          72.69567792729357,
          72.69567792729349,
          72.69567792729357,
          72.69567792729357,
          72.69567792729349,
          72.69567792729357,
          72.69567792729349,
          72.69567792729357,
          72.69567792729357,
          72.69567792729349,
          72.69567792729357,
          72.69567792729349,
          72.69567792729357,
          72.69567792729349,
          72.69567792729357,
          72.69567792729349,
          72.69567792729357,
          40.22138212312711,
          72.69567792729349,
          40.22138212312711,
          72.69567792729349,
          40.22138212312711,
          28.8354141059202,
          28.8354141059202,
          81.96392484925882,
          28.8354141059202,
          81.96392484925882,
          28.8354141059202,
          28.8354141059202,
          28.835414105920158,
          28.835414105920158,
          81.96392484925882,
          28.835414105920158,
          81.96392484925882,
          28.835414105920158,
          28.835414105920158,
          28.8354141059202,
          28.835414105920158,
          28.8354141059202,
          28.835414105920158,
          28.8354141059202,
          28.8354141059202,
          28.835414105920158,
          28.835414105920158,
          23.32228249076026,
          28.835414105920158,
          22.113749617866542,
          22.113749617866542,
          16.58102769552844,
          16.58102769552844,
          22.113749617866542,
          22.113749617866542,
          22.113749617866542,
          22.113749617866542,
          22.113749617866542,
          22.11374961786648,
          22.11374961786648,
          22.11374961786648,
          16.581027695528448,
          22.11374961786648,
          22.11374961786648,
          16.581027695528448,
          22.11374961786648,
          22.11374961786648,
          22.113749617866542,
          22.113749617866542,
          32.96999309735178,
          32.969993097351754,
          32.96999309735178,
          32.969993097351754,
          32.96999309735178,
          32.969993097351754,
          32.96999309735178,
          28.17626937547807,
          32.96999309735178,
          28.17626937547807,
          32.96999309735178,
          28.17626937547807,
          32.96999309735178,
          32.969993097351754,
          32.969993097351754,
          32.96999309735178,
          32.969993097351754,
          16.58102769552844,
          32.969993097351754,
          32.969993097351754,
          32.96999309735178,
          32.969993097351754,
          32.969993097351754,
          28.17626937547813,
          32.969993097351754,
          22.113749617866542,
          32.969993097351754,
          32.969993097351754,
          32.96999309735178,
          32.969993097351754,
          32.96999309735178,
          32.969993097351754,
          32.96999309735178,
          32.969993097351754,
          32.969993097351754,
          32.96999309735178,
          32.969993097351754,
          32.96999309735178,
          32.969993097351754,
          32.969993097351754,
          32.96999309735178,
          32.96999309735178,
          32.96999309735178,
          32.969993097351754,
          32.96999309735178,
          32.96999309735178,
          32.96999309735178,
          32.969993097351754,
          32.96999309735178,
          32.969993097351754,
          32.96999309735178,
          31.4161655283285,
          32.96999309735178,
          32.96999309735178,
          32.96999309735178,
          32.969993097351754,
          32.96999309735178,
          32.969993097351754,
          32.96999309735178,
          32.96999309735178,
          32.969993097351754,
          32.96999309735178,
          32.969993097351754,
          32.96999309735178,
          32.96999309735178,
          32.969993097351754,
          32.96999309735178,
          32.969993097351754,
          32.96999309735178,
          32.969993097351754,
          32.96999309735178,
          32.969993097351754,
          32.96999309735178,
          32.969993097351754,
          32.96999309735178,
          32.969993097351754,
          32.96999309735178,
          32.969993097351754,
          32.96999309735178,
          32.96999309735178,
          32.969993097351754,
          32.96999309735178,
          39.0911991980924,
          32.969993097351754,
          32.969993097351754,
          32.96999309735178,
          32.969993097351754,
          55.570053841178805,
          32.969993097351754,
          72.06119229544409,
          41.09684149031475,
          41.09684149031475,
          52.330803236604176,
          41.09684149031468,
          55.570053841178805,
          55.570053841178705,
          41.09684149031468,
          32.96999309735178,
          32.96999309735178,
          72.06119229544433,
          72.06119229544409,
          72.06119229544409,
          72.06119229544433,
          72.76170063132372,
          72.76170063132372,
          72.06119229544433,
          72.06119229544409,
          72.06119229544433,
          72.76170063132372,
          72.06119229544433,
          72.06119229544409,
          72.06119229544433,
          72.76170063132372,
          72.06119229544409,
          72.06119229544433,
          72.76170063132372,
          72.06119229544409,
          72.06119229544409,
          72.06119229544409,
          72.06119229544433,
          72.06119229544409,
          72.06119229544409,
          72.06119229544433,
          72.06119229544409,
          72.06119229544433,
          72.06119229544409,
          72.06119229544433,
          72.06119229544409,
          72.06119229544433,
          72.06119229544409,
          72.06119229544409,
          72.06119229544409,
          72.06119229544433,
          72.06119229544409,
          72.06119229544409,
          72.06119229544433,
          72.06119229544409,
          72.06119229544409,
          72.06119229544433,
          72.06119229544433,
          72.06119229544409,
          72.06119229544433,
          72.06119229544409,
          72.06119229544433,
          72.06119229544409,
          72.76170063132398,
          72.06119229544433,
          72.06119229544433,
          72.06119229544409,
          72.06119229544433,
          72.06119229544433,
          72.06119229544433,
          72.06119229544433,
          72.06119229544409,
          72.06119229544433,
          72.76170063132398,
          72.06119229544409,
          72.76170063132398,
          72.06119229544409,
          72.06119229544433,
          72.06119229544409,
          72.76170063132398,
          72.76170063132398,
          72.06119229544409,
          72.76170063132398,
          72.06119229544409,
          72.06119229544409,
          72.06119229544433,
          72.06119229544409,
          72.06119229544409,
          72.06119229544433,
          72.06119229544409,
          72.06119229544409,
          72.06119229544433,
          72.06119229544433,
          72.06119229544409,
          72.06119229544433,
          39.791707533971994,
          39.79170753397204,
          40.288058700175206,
          40.30776578482832,
          40.288058700175206,
          40.30776578482832,
          7.337772687476601,
          7.337772687476601,
          40.288058700175206,
          7.337772687476601,
          7.337772687476601,
          40.288058700175206,
          7.337772687476601,
          40.288058700175206,
          7.337772687476601,
          40.30776578482832,
          7.905678611560655,
          7.905678611560655,
          40.30776578482832,
          7.905678611560655,
          40.30776578482832,
          7.905678611560655,
          40.30776578482832,
          7.905678611560655,
          7.905678611560655,
          40.30776578482832,
          7.905678611560655,
          40.30776578482832,
          40.288058700175206,
          40.288058700175206,
          40.30776578482832,
          7.337772687476601,
          7.337772687476601,
          7.905678611560655,
          7.337772687476601,
          7.905678611560655,
          7.337772687476601,
          7.905678611560655,
          7.905678611560655,
          7.337772687476601,
          7.905678611560655,
          23.493845483511627,
          64.59068697382662,
          23.493845483511627,
          23.493845483511627,
          64.59068697382662,
          23.493845483511627,
          23.493845483511627,
          64.59068697382662,
          23.493845483511638,
          23.493845483511627,
          64.59068697382662,
          31.620693876474643,
          64.59068697382641,
          31.620693876474647,
          23.493845483511638,
          64.59068697382641,
          23.493845483511638,
          23.493845483511638,
          64.59068697382641,
          23.493845483511627,
          23.493845483511638,
          23.493845483511638,
          64.59068697382641,
          31.620693876474647,
          23.493845483511627,
          23.493845483511638,
          31.809081400486825,
          31.809081400486825,
          31.809081400486814,
          31.809081400486825,
          31.809081400486825,
          31.809081400486814,
          31.809081400486825,
          31.809081400486814,
          31.809081400486825,
          31.809081400486825,
          31.809081400486814,
          31.809081400486825,
          31.809081400486814,
          31.809081400486814,
          31.809081400486814,
          31.809081400486825,
          31.809081400486814,
          31.809081400486814,
          31.809081400486825,
          31.809081400486814,
          31.809081400486814,
          31.809081400486814,
          55.570053841178805,
          72.06119229544433,
          72.06119229544433,
          72.06119229544433,
          72.06119229544409,
          72.06119229544433,
          72.06119229544433,
          72.06119229544409,
          72.06119229544409,
          72.06119229544409,
          72.06119229544409,
          72.06119229544433,
          23.629569865141274,
          23.629569865141274,
          53.128510743338694,
          53.12851074333865,
          53.128510743338694,
          53.128510743338694,
          53.12851074333865,
          53.12851074333865,
          32.47429580416642,
          32.47429580416642,
          32.474295804166424,
          72.69567792729349,
          72.69567792729357,
          28.835414105920158,
          28.8354141059202,
          28.8354141059202,
          28.3035135681445,
          28.3035135681445
         ],
         "xaxis": "x",
         "y": [
          55,
          56,
          58,
          37,
          60,
          36,
          59,
          38,
          61,
          36,
          36,
          57,
          35,
          43,
          42,
          59,
          60,
          64,
          62,
          39,
          35,
          61,
          35,
          66,
          35,
          56,
          35,
          57,
          56,
          51,
          50,
          49,
          46,
          45,
          43,
          42,
          41,
          41,
          41,
          41,
          41,
          57,
          60,
          55,
          57,
          44,
          58,
          41,
          41,
          43,
          59,
          47,
          59,
          46,
          58,
          60,
          40,
          60,
          60,
          60,
          60,
          43,
          60,
          60,
          60,
          56,
          59,
          57,
          49,
          59,
          47,
          50,
          59,
          59,
          59,
          59,
          43,
          59,
          43,
          59,
          57,
          43,
          57,
          43,
          50,
          47,
          46,
          57,
          53,
          56,
          56,
          58,
          57,
          51,
          58,
          57,
          54,
          58,
          57,
          60,
          58,
          65,
          61,
          63,
          66,
          90,
          94,
          88,
          94,
          88,
          99,
          87,
          101,
          88,
          97,
          89,
          97,
          98,
          93,
          93,
          86,
          101,
          68,
          90,
          101,
          65,
          90,
          101,
          68,
          101,
          86,
          64,
          101,
          85,
          99,
          87,
          91,
          73,
          92,
          91,
          94,
          100,
          86,
          63,
          98,
          92,
          85,
          97,
          65,
          97,
          84,
          83,
          98,
          61,
          93,
          82,
          96,
          62,
          87,
          96,
          63,
          95,
          87,
          92,
          62,
          88,
          90,
          91,
          87,
          90,
          89,
          101,
          94,
          89,
          103,
          97,
          90,
          101,
          92,
          96,
          97,
          94,
          102,
          112,
          65,
          73,
          60,
          70,
          70,
          71,
          70,
          68,
          71,
          60,
          71,
          71,
          73,
          59,
          63,
          52,
          72,
          63,
          71,
          73,
          72,
          55,
          72,
          73,
          72,
          55,
          62,
          72,
          62,
          71,
          71,
          71,
          60,
          72,
          63,
          72,
          72,
          62,
          73,
          75,
          73,
          57,
          64,
          73,
          61,
          73,
          62,
          61,
          74,
          54,
          64,
          60,
          70,
          73,
          72,
          71,
          72,
          72,
          62,
          70,
          60,
          72,
          70,
          64,
          59,
          70,
          71,
          64,
          73,
          71,
          73,
          64,
          73,
          71,
          72,
          73,
          68,
          73,
          60,
          102,
          113,
          112,
          102,
          114,
          119,
          102,
          112,
          104,
          106,
          115,
          95,
          115,
          115,
          116,
          108,
          96,
          117,
          106,
          116,
          105,
          111,
          107,
          114,
          105,
          109,
          107,
          113,
          110,
          97,
          113,
          88,
          96,
          113,
          106,
          107,
          113,
          114,
          111,
          113,
          108,
          112,
          111,
          107,
          104,
          107,
          114,
          103,
          113,
          109,
          114,
          109,
          110,
          111,
          110,
          114,
          59,
          129,
          59,
          131,
          59,
          40,
          42,
          130,
          41,
          130,
          41,
          41,
          46,
          40,
          131,
          40,
          129,
          40,
          40,
          43,
          40,
          43,
          53,
          42,
          55,
          42,
          42,
          33,
          39,
          47,
          44,
          36,
          33,
          41,
          44,
          47,
          49,
          48,
          44,
          44,
          42,
          35,
          41,
          41,
          34,
          45,
          40,
          52,
          49,
          77,
          70,
          70,
          78,
          68,
          69,
          68,
          58,
          67,
          58,
          67,
          57,
          61,
          74,
          74,
          66,
          75,
          37,
          74,
          75,
          69,
          75,
          77,
          52,
          75,
          45,
          77,
          75,
          61,
          77,
          58,
          75,
          70,
          75,
          75,
          63,
          72,
          63,
          70,
          71,
          73,
          79,
          77,
          62,
          79,
          77,
          79,
          62,
          77,
          74,
          79,
          57,
          77,
          78,
          70,
          64,
          70,
          60,
          72,
          71,
          72,
          74,
          69,
          73,
          70,
          73,
          72,
          73,
          67,
          74,
          71,
          74,
          72,
          71,
          72,
          76,
          72,
          74,
          81,
          77,
          77,
          71,
          75,
          70,
          69,
          59,
          65,
          94,
          68,
          125,
          72,
          71,
          83,
          68,
          98,
          90,
          68,
          67,
          64,
          128,
          130,
          129,
          121,
          130,
          137,
          122,
          133,
          115,
          129,
          113,
          131,
          116,
          130,
          128,
          116,
          136,
          120,
          129,
          122,
          129,
          131,
          122,
          110,
          130,
          126,
          122,
          110,
          131,
          128,
          120,
          126,
          123,
          120,
          121,
          129,
          113,
          127,
          106,
          120,
          126,
          111,
          121,
          123,
          126,
          110,
          126,
          127,
          118,
          123,
          129,
          120,
          128,
          122,
          119,
          128,
          123,
          126,
          139,
          123,
          131,
          123,
          139,
          124,
          119,
          135,
          125,
          124,
          130,
          128,
          126,
          127,
          126,
          130,
          129,
          129,
          130,
          128,
          66,
          67,
          73,
          94,
          68,
          84,
          18,
          18,
          70,
          18,
          18,
          68,
          18,
          71,
          18,
          85,
          18,
          18,
          81,
          17,
          69,
          17,
          68,
          17,
          17,
          71,
          18,
          70,
          85,
          91,
          78,
          18,
          18,
          17,
          18,
          17,
          18,
          17,
          17,
          20,
          17,
          68,
          124,
          54,
          53,
          116,
          52,
          53,
          119,
          53,
          52,
          124,
          72,
          127,
          69,
          56,
          118,
          54,
          55,
          125,
          50,
          58,
          53,
          129,
          95,
          51,
          53,
          68,
          74,
          58,
          70,
          61,
          58,
          65,
          58,
          61,
          63,
          58,
          61,
          58,
          61,
          64,
          65,
          62,
          62,
          68,
          63,
          59,
          56,
          107,
          90,
          100,
          101,
          112,
          122,
          101,
          100,
          100,
          98,
          128,
          106,
          52,
          54,
          86,
          97,
          91,
          100,
          86,
          84,
          68,
          71,
          59,
          111,
          99,
          40,
          45,
          45,
          77,
          77
         ],
         "yaxis": "y"
        }
       ],
       "layout": {
        "coloraxis": {
         "colorbar": {
          "title": {
           "text": "number_of_stops"
          }
         },
         "colorscale": [
          [
           0,
           "#0d0887"
          ],
          [
           0.1111111111111111,
           "#46039f"
          ],
          [
           0.2222222222222222,
           "#7201a8"
          ],
          [
           0.3333333333333333,
           "#9c179e"
          ],
          [
           0.4444444444444444,
           "#bd3786"
          ],
          [
           0.5555555555555556,
           "#d8576b"
          ],
          [
           0.6666666666666666,
           "#ed7953"
          ],
          [
           0.7777777777777778,
           "#fb9f3a"
          ],
          [
           0.8888888888888888,
           "#fdca26"
          ],
          [
           1,
           "#f0f921"
          ]
         ]
        },
        "height": 700,
        "legend": {
         "tracegroupgap": 0
        },
        "margin": {
         "t": 60
        },
        "template": {
         "data": {
          "bar": [
           {
            "error_x": {
             "color": "#2a3f5f"
            },
            "error_y": {
             "color": "#2a3f5f"
            },
            "marker": {
             "line": {
              "color": "#E5ECF6",
              "width": 0.5
             },
             "pattern": {
              "fillmode": "overlay",
              "size": 10,
              "solidity": 0.2
             }
            },
            "type": "bar"
           }
          ],
          "barpolar": [
           {
            "marker": {
             "line": {
              "color": "#E5ECF6",
              "width": 0.5
             },
             "pattern": {
              "fillmode": "overlay",
              "size": 10,
              "solidity": 0.2
             }
            },
            "type": "barpolar"
           }
          ],
          "carpet": [
           {
            "aaxis": {
             "endlinecolor": "#2a3f5f",
             "gridcolor": "white",
             "linecolor": "white",
             "minorgridcolor": "white",
             "startlinecolor": "#2a3f5f"
            },
            "baxis": {
             "endlinecolor": "#2a3f5f",
             "gridcolor": "white",
             "linecolor": "white",
             "minorgridcolor": "white",
             "startlinecolor": "#2a3f5f"
            },
            "type": "carpet"
           }
          ],
          "choropleth": [
           {
            "colorbar": {
             "outlinewidth": 0,
             "ticks": ""
            },
            "type": "choropleth"
           }
          ],
          "contour": [
           {
            "colorbar": {
             "outlinewidth": 0,
             "ticks": ""
            },
            "colorscale": [
             [
              0,
              "#0d0887"
             ],
             [
              0.1111111111111111,
              "#46039f"
             ],
             [
              0.2222222222222222,
              "#7201a8"
             ],
             [
              0.3333333333333333,
              "#9c179e"
             ],
             [
              0.4444444444444444,
              "#bd3786"
             ],
             [
              0.5555555555555556,
              "#d8576b"
             ],
             [
              0.6666666666666666,
              "#ed7953"
             ],
             [
              0.7777777777777778,
              "#fb9f3a"
             ],
             [
              0.8888888888888888,
              "#fdca26"
             ],
             [
              1,
              "#f0f921"
             ]
            ],
            "type": "contour"
           }
          ],
          "contourcarpet": [
           {
            "colorbar": {
             "outlinewidth": 0,
             "ticks": ""
            },
            "type": "contourcarpet"
           }
          ],
          "heatmap": [
           {
            "colorbar": {
             "outlinewidth": 0,
             "ticks": ""
            },
            "colorscale": [
             [
              0,
              "#0d0887"
             ],
             [
              0.1111111111111111,
              "#46039f"
             ],
             [
              0.2222222222222222,
              "#7201a8"
             ],
             [
              0.3333333333333333,
              "#9c179e"
             ],
             [
              0.4444444444444444,
              "#bd3786"
             ],
             [
              0.5555555555555556,
              "#d8576b"
             ],
             [
              0.6666666666666666,
              "#ed7953"
             ],
             [
              0.7777777777777778,
              "#fb9f3a"
             ],
             [
              0.8888888888888888,
              "#fdca26"
             ],
             [
              1,
              "#f0f921"
             ]
            ],
            "type": "heatmap"
           }
          ],
          "heatmapgl": [
           {
            "colorbar": {
             "outlinewidth": 0,
             "ticks": ""
            },
            "colorscale": [
             [
              0,
              "#0d0887"
             ],
             [
              0.1111111111111111,
              "#46039f"
             ],
             [
              0.2222222222222222,
              "#7201a8"
             ],
             [
              0.3333333333333333,
              "#9c179e"
             ],
             [
              0.4444444444444444,
              "#bd3786"
             ],
             [
              0.5555555555555556,
              "#d8576b"
             ],
             [
              0.6666666666666666,
              "#ed7953"
             ],
             [
              0.7777777777777778,
              "#fb9f3a"
             ],
             [
              0.8888888888888888,
              "#fdca26"
             ],
             [
              1,
              "#f0f921"
             ]
            ],
            "type": "heatmapgl"
           }
          ],
          "histogram": [
           {
            "marker": {
             "pattern": {
              "fillmode": "overlay",
              "size": 10,
              "solidity": 0.2
             }
            },
            "type": "histogram"
           }
          ],
          "histogram2d": [
           {
            "colorbar": {
             "outlinewidth": 0,
             "ticks": ""
            },
            "colorscale": [
             [
              0,
              "#0d0887"
             ],
             [
              0.1111111111111111,
              "#46039f"
             ],
             [
              0.2222222222222222,
              "#7201a8"
             ],
             [
              0.3333333333333333,
              "#9c179e"
             ],
             [
              0.4444444444444444,
              "#bd3786"
             ],
             [
              0.5555555555555556,
              "#d8576b"
             ],
             [
              0.6666666666666666,
              "#ed7953"
             ],
             [
              0.7777777777777778,
              "#fb9f3a"
             ],
             [
              0.8888888888888888,
              "#fdca26"
             ],
             [
              1,
              "#f0f921"
             ]
            ],
            "type": "histogram2d"
           }
          ],
          "histogram2dcontour": [
           {
            "colorbar": {
             "outlinewidth": 0,
             "ticks": ""
            },
            "colorscale": [
             [
              0,
              "#0d0887"
             ],
             [
              0.1111111111111111,
              "#46039f"
             ],
             [
              0.2222222222222222,
              "#7201a8"
             ],
             [
              0.3333333333333333,
              "#9c179e"
             ],
             [
              0.4444444444444444,
              "#bd3786"
             ],
             [
              0.5555555555555556,
              "#d8576b"
             ],
             [
              0.6666666666666666,
              "#ed7953"
             ],
             [
              0.7777777777777778,
              "#fb9f3a"
             ],
             [
              0.8888888888888888,
              "#fdca26"
             ],
             [
              1,
              "#f0f921"
             ]
            ],
            "type": "histogram2dcontour"
           }
          ],
          "mesh3d": [
           {
            "colorbar": {
             "outlinewidth": 0,
             "ticks": ""
            },
            "type": "mesh3d"
           }
          ],
          "parcoords": [
           {
            "line": {
             "colorbar": {
              "outlinewidth": 0,
              "ticks": ""
             }
            },
            "type": "parcoords"
           }
          ],
          "pie": [
           {
            "automargin": true,
            "type": "pie"
           }
          ],
          "scatter": [
           {
            "fillpattern": {
             "fillmode": "overlay",
             "size": 10,
             "solidity": 0.2
            },
            "type": "scatter"
           }
          ],
          "scatter3d": [
           {
            "line": {
             "colorbar": {
              "outlinewidth": 0,
              "ticks": ""
             }
            },
            "marker": {
             "colorbar": {
              "outlinewidth": 0,
              "ticks": ""
             }
            },
            "type": "scatter3d"
           }
          ],
          "scattercarpet": [
           {
            "marker": {
             "colorbar": {
              "outlinewidth": 0,
              "ticks": ""
             }
            },
            "type": "scattercarpet"
           }
          ],
          "scattergeo": [
           {
            "marker": {
             "colorbar": {
              "outlinewidth": 0,
              "ticks": ""
             }
            },
            "type": "scattergeo"
           }
          ],
          "scattergl": [
           {
            "marker": {
             "colorbar": {
              "outlinewidth": 0,
              "ticks": ""
             }
            },
            "type": "scattergl"
           }
          ],
          "scattermapbox": [
           {
            "marker": {
             "colorbar": {
              "outlinewidth": 0,
              "ticks": ""
             }
            },
            "type": "scattermapbox"
           }
          ],
          "scatterpolar": [
           {
            "marker": {
             "colorbar": {
              "outlinewidth": 0,
              "ticks": ""
             }
            },
            "type": "scatterpolar"
           }
          ],
          "scatterpolargl": [
           {
            "marker": {
             "colorbar": {
              "outlinewidth": 0,
              "ticks": ""
             }
            },
            "type": "scatterpolargl"
           }
          ],
          "scatterternary": [
           {
            "marker": {
             "colorbar": {
              "outlinewidth": 0,
              "ticks": ""
             }
            },
            "type": "scatterternary"
           }
          ],
          "surface": [
           {
            "colorbar": {
             "outlinewidth": 0,
             "ticks": ""
            },
            "colorscale": [
             [
              0,
              "#0d0887"
             ],
             [
              0.1111111111111111,
              "#46039f"
             ],
             [
              0.2222222222222222,
              "#7201a8"
             ],
             [
              0.3333333333333333,
              "#9c179e"
             ],
             [
              0.4444444444444444,
              "#bd3786"
             ],
             [
              0.5555555555555556,
              "#d8576b"
             ],
             [
              0.6666666666666666,
              "#ed7953"
             ],
             [
              0.7777777777777778,
              "#fb9f3a"
             ],
             [
              0.8888888888888888,
              "#fdca26"
             ],
             [
              1,
              "#f0f921"
             ]
            ],
            "type": "surface"
           }
          ],
          "table": [
           {
            "cells": {
             "fill": {
              "color": "#EBF0F8"
             },
             "line": {
              "color": "white"
             }
            },
            "header": {
             "fill": {
              "color": "#C8D4E3"
             },
             "line": {
              "color": "white"
             }
            },
            "type": "table"
           }
          ]
         },
         "layout": {
          "annotationdefaults": {
           "arrowcolor": "#2a3f5f",
           "arrowhead": 0,
           "arrowwidth": 1
          },
          "autotypenumbers": "strict",
          "coloraxis": {
           "colorbar": {
            "outlinewidth": 0,
            "ticks": ""
           }
          },
          "colorscale": {
           "diverging": [
            [
             0,
             "#8e0152"
            ],
            [
             0.1,
             "#c51b7d"
            ],
            [
             0.2,
             "#de77ae"
            ],
            [
             0.3,
             "#f1b6da"
            ],
            [
             0.4,
             "#fde0ef"
            ],
            [
             0.5,
             "#f7f7f7"
            ],
            [
             0.6,
             "#e6f5d0"
            ],
            [
             0.7,
             "#b8e186"
            ],
            [
             0.8,
             "#7fbc41"
            ],
            [
             0.9,
             "#4d9221"
            ],
            [
             1,
             "#276419"
            ]
           ],
           "sequential": [
            [
             0,
             "#0d0887"
            ],
            [
             0.1111111111111111,
             "#46039f"
            ],
            [
             0.2222222222222222,
             "#7201a8"
            ],
            [
             0.3333333333333333,
             "#9c179e"
            ],
            [
             0.4444444444444444,
             "#bd3786"
            ],
            [
             0.5555555555555556,
             "#d8576b"
            ],
            [
             0.6666666666666666,
             "#ed7953"
            ],
            [
             0.7777777777777778,
             "#fb9f3a"
            ],
            [
             0.8888888888888888,
             "#fdca26"
            ],
            [
             1,
             "#f0f921"
            ]
           ],
           "sequentialminus": [
            [
             0,
             "#0d0887"
            ],
            [
             0.1111111111111111,
             "#46039f"
            ],
            [
             0.2222222222222222,
             "#7201a8"
            ],
            [
             0.3333333333333333,
             "#9c179e"
            ],
            [
             0.4444444444444444,
             "#bd3786"
            ],
            [
             0.5555555555555556,
             "#d8576b"
            ],
            [
             0.6666666666666666,
             "#ed7953"
            ],
            [
             0.7777777777777778,
             "#fb9f3a"
            ],
            [
             0.8888888888888888,
             "#fdca26"
            ],
            [
             1,
             "#f0f921"
            ]
           ]
          },
          "colorway": [
           "#636efa",
           "#EF553B",
           "#00cc96",
           "#ab63fa",
           "#FFA15A",
           "#19d3f3",
           "#FF6692",
           "#B6E880",
           "#FF97FF",
           "#FECB52"
          ],
          "font": {
           "color": "#2a3f5f"
          },
          "geo": {
           "bgcolor": "white",
           "lakecolor": "white",
           "landcolor": "#E5ECF6",
           "showlakes": true,
           "showland": true,
           "subunitcolor": "white"
          },
          "hoverlabel": {
           "align": "left"
          },
          "hovermode": "closest",
          "mapbox": {
           "style": "light"
          },
          "paper_bgcolor": "white",
          "plot_bgcolor": "#E5ECF6",
          "polar": {
           "angularaxis": {
            "gridcolor": "white",
            "linecolor": "white",
            "ticks": ""
           },
           "bgcolor": "#E5ECF6",
           "radialaxis": {
            "gridcolor": "white",
            "linecolor": "white",
            "ticks": ""
           }
          },
          "scene": {
           "xaxis": {
            "backgroundcolor": "#E5ECF6",
            "gridcolor": "white",
            "gridwidth": 2,
            "linecolor": "white",
            "showbackground": true,
            "ticks": "",
            "zerolinecolor": "white"
           },
           "yaxis": {
            "backgroundcolor": "#E5ECF6",
            "gridcolor": "white",
            "gridwidth": 2,
            "linecolor": "white",
            "showbackground": true,
            "ticks": "",
            "zerolinecolor": "white"
           },
           "zaxis": {
            "backgroundcolor": "#E5ECF6",
            "gridcolor": "white",
            "gridwidth": 2,
            "linecolor": "white",
            "showbackground": true,
            "ticks": "",
            "zerolinecolor": "white"
           }
          },
          "shapedefaults": {
           "line": {
            "color": "#2a3f5f"
           }
          },
          "ternary": {
           "aaxis": {
            "gridcolor": "white",
            "linecolor": "white",
            "ticks": ""
           },
           "baxis": {
            "gridcolor": "white",
            "linecolor": "white",
            "ticks": ""
           },
           "bgcolor": "#E5ECF6",
           "caxis": {
            "gridcolor": "white",
            "linecolor": "white",
            "ticks": ""
           }
          },
          "title": {
           "x": 0.05
          },
          "xaxis": {
           "automargin": true,
           "gridcolor": "white",
           "linecolor": "white",
           "ticks": "",
           "title": {
            "standoff": 15
           },
           "zerolinecolor": "white",
           "zerolinewidth": 2
          },
          "yaxis": {
           "automargin": true,
           "gridcolor": "white",
           "linecolor": "white",
           "ticks": "",
           "title": {
            "standoff": 15
           },
           "zerolinecolor": "white",
           "zerolinewidth": 2
          }
         }
        },
        "width": 1400,
        "xaxis": {
         "anchor": "y",
         "domain": [
          0,
          1
         ],
         "title": {
          "text": "distance"
         }
        },
        "yaxis": {
         "anchor": "x",
         "domain": [
          0,
          1
         ],
         "title": {
          "text": "travel_time"
         }
        }
       }
      }
     },
     "metadata": {},
     "output_type": "display_data"
    }
   ],
   "source": [
    "df = pd.DataFrame(num_stops)\n",
    "df['travel_time'] = df['travel_time'] / 60\n",
    "# df = df.groupby(by='train_line')\n",
    "# print(df)\n",
    "fig = px.scatter(df, x=\"distance\", y=\"travel_time\", color='number_of_stops', hover_name=\"train_label\")\n",
    "fig.update_layout(\n",
    "    width = 1400,\n",
    "    height = 700\n",
    ")\n",
    "fig.show()"
   ]
  },
  {
   "cell_type": "code",
   "execution_count": 17,
   "metadata": {},
   "outputs": [
    {
     "data": {
      "application/vnd.plotly.v1+json": {
       "config": {
        "plotlyServerURL": "https://plot.ly"
       },
       "data": [
        {
         "hovertext": [
          "304 Harlem (North White Plains)",
          "306 Harlem (North White Plains)",
          "307 Harlem (North White Plains)",
          "308 Harlem (Crestwood)",
          "309 Harlem (North White Plains)",
          "310 Harlem (Crestwood)",
          "312 Harlem (North White Plains)",
          "314 Harlem (Crestwood)",
          "316 Harlem (North White Plains)",
          "324 Harlem (Mt Vernon West)",
          "326 Harlem (Crestwood)",
          "328 Harlem (North White Plains)",
          "330 Harlem (Crestwood)",
          "332 Harlem (Crestwood)",
          "334 Harlem (Crestwood)",
          "343 Harlem (North White Plains)",
          "345 Harlem (North White Plains)",
          "349 Harlem (North White Plains)",
          "353 Harlem (North White Plains)",
          "355 Harlem (Crestwood)",
          "357 Harlem (Crestwood)",
          "359 Harlem (North White Plains)",
          "361 Harlem (Crestwood)",
          "363 Harlem (North White Plains)",
          "365 Harlem (Crestwood)",
          "366 Harlem (North White Plains)",
          "367 Harlem (Mt Vernon West)",
          "368 Harlem (North White Plains)",
          "370 Harlem (North White Plains)",
          "373 Harlem (North White Plains)",
          "500 Harlem (North White Plains)",
          "501 Harlem (North White Plains)",
          "502 Harlem (North White Plains)",
          "503 Harlem (North White Plains)",
          "504 Harlem (North White Plains)",
          "505 Harlem (North White Plains)",
          "506 Harlem (North White Plains)",
          "507 Harlem (North White Plains)",
          "508 Harlem (North White Plains)",
          "511 Harlem (North White Plains)",
          "512 Harlem (North White Plains)",
          "513 Harlem (North White Plains)",
          "514 Harlem (North White Plains)",
          "515 Harlem (North White Plains)",
          "517 Harlem (North White Plains)",
          "518 Harlem (Crestwood)",
          "519 Harlem (North White Plains)",
          "521 Harlem (North White Plains)",
          "523 Harlem (North White Plains)",
          "525 Harlem (North White Plains)",
          "528 Harlem (North White Plains)",
          "529 Harlem (North White Plains)",
          "533 Harlem (North White Plains)",
          "537 Harlem (North White Plains)",
          "538 Harlem (North White Plains)",
          "540 Harlem (North White Plains)",
          "541 Harlem (North White Plains)",
          "543 Harlem (North White Plains)",
          "544 Harlem (North White Plains)",
          "545 Harlem (North White Plains)",
          "547 Harlem (North White Plains)",
          "548 Harlem (North White Plains)",
          "552 Harlem (North White Plains)",
          "554 Harlem (North White Plains)",
          "556 Harlem (North White Plains)",
          "557 Harlem (North White Plains)",
          "558 Harlem (North White Plains)",
          "559 Harlem (North White Plains)",
          "560 Harlem (North White Plains)",
          "562 Harlem (North White Plains)",
          "563 Harlem (North White Plains)",
          "564 Harlem (North White Plains)",
          "565 Harlem (North White Plains)",
          "567 Harlem (North White Plains)",
          "568 Harlem (North White Plains)",
          "570 Harlem (North White Plains)",
          "572 Harlem (North White Plains)",
          "574 Harlem (North White Plains)",
          "576 Harlem (North White Plains)",
          "578 Harlem (North White Plains)",
          "579 Harlem (North White Plains)",
          "580 Harlem (North White Plains)",
          "581 Harlem (North White Plains)",
          "583 Harlem (North White Plains)",
          "584 Harlem (North White Plains)",
          "585 Harlem (North White Plains)",
          "587 Harlem (North White Plains)",
          "588 Harlem (North White Plains)",
          "591 Harlem (North White Plains)",
          "592 Harlem (North White Plains)",
          "595 Harlem (North White Plains)",
          "596 Harlem (North White Plains)",
          "597 Harlem (North White Plains)",
          "599 Harlem (North White Plains)",
          "600 Harlem (Southeast)",
          "601 Harlem (Southeast)",
          "602 Harlem (Southeast)",
          "603 Harlem (Southeast)",
          "604 Harlem (Southeast)",
          "605 Harlem (Southeast)",
          "606 Harlem (Southeast)",
          "607 Harlem (Southeast)",
          "608 Harlem (Southeast)",
          "609 Harlem (Southeast)",
          "610 Harlem (Southeast)",
          "611 Harlem (Southeast)",
          "613 Harlem (Southeast)",
          "614 Harlem (Southeast)",
          "615 Harlem (Southeast)",
          "616 Harlem (Southeast)",
          "617 Harlem (Southeast)",
          "618 Harlem (Mt Kisco)",
          "620 Harlem (Southeast)",
          "621 Harlem (Southeast)",
          "622 Harlem (Mt Kisco)",
          "624 Harlem (Southeast)",
          "625 Harlem (Southeast)",
          "628 Harlem (Mt Kisco)",
          "629 Harlem (Southeast)",
          "630 Harlem (Southeast)",
          "632 Harlem (Mt Kisco)",
          "633 Harlem (Southeast)",
          "634 Harlem (Southeast)",
          "635 Harlem (Southeast)",
          "637 Harlem (Southeast)",
          "638 Harlem (Southeast)",
          "639 Harlem (Mt Kisco)",
          "640 Harlem (Southeast)",
          "641 Harlem (Southeast)",
          "643 Harlem (Southeast)",
          "644 Harlem (Southeast)",
          "645 Harlem (Southeast)",
          "647 Harlem (Mt Kisco)",
          "648 Harlem (Southeast)",
          "649 Harlem (Southeast)",
          "651 Harlem (Southeast)",
          "652 Harlem (Southeast)",
          "653 Harlem (Mt Kisco)",
          "656 Harlem (Southeast)",
          "657 Harlem (Brewster)",
          "659 Harlem (Southeast)",
          "660 Harlem (Southeast)",
          "661 Harlem (Mt Kisco)",
          "662 Harlem (Southeast)",
          "663 Harlem (Brewster)",
          "664 Harlem (Southeast)",
          "665 Harlem (Mt Kisco)",
          "667 Harlem (Southeast)",
          "668 Harlem (Southeast)",
          "669 Harlem (Mt Kisco)",
          "670 Harlem (Southeast)",
          "671 Harlem (Southeast)",
          "672 Harlem (Southeast)",
          "673 Harlem (Mt Kisco)",
          "674 Harlem (Southeast)",
          "676 Harlem (Southeast)",
          "677 Harlem (Southeast)",
          "678 Harlem (Southeast)",
          "679 Harlem (Southeast)",
          "680 Harlem (Southeast)",
          "681 Harlem (Southeast)",
          "683 Harlem (Southeast)",
          "684 Harlem (Southeast)",
          "685 Harlem (Southeast)",
          "687 Harlem (Southeast)",
          "688 Harlem (Southeast)",
          "691 Harlem (Southeast)",
          "692 Harlem (Southeast)",
          "695 Harlem (Southeast)",
          "696 Harlem (Southeast)",
          "697 Harlem (Southeast)",
          "698 Harlem (Southeast)",
          "699 Harlem (Southeast)",
          "901 Harlem (Wassaic)",
          "909 Harlem (Wassaic)",
          "916 Harlem (Wassaic)",
          "917 Harlem (Wassaic)",
          "920 Harlem (Wassaic)",
          "925 Harlem (Wassaic)",
          "933 Harlem (Wassaic)",
          "934 Harlem (Wassaic)",
          "940 Harlem (Wassaic)",
          "943 Harlem (Wassaic)",
          "948 Harlem (Wassaic)",
          "953 Harlem (Wassaic)",
          "956 Harlem (Wassaic)",
          "964 Harlem (Wassaic)",
          "971 Harlem (Wassaic)",
          "972 Harlem (Wassaic)",
          "979 Harlem (Wassaic)",
          "980 Harlem (Wassaic)",
          "983 Harlem (Wassaic)",
          "987 Harlem (Wassaic)",
          "988 Harlem (Wassaic)",
          "992 Harlem (Wassaic)",
          "995 Harlem (Dover Plains)",
          "998 Harlem (Wassaic)",
          "4522 Harlem (North White Plains)",
          "4551 Harlem (North White Plains)",
          "4608 Harlem (Southeast)",
          "4635 Harlem (Southeast)",
          "4636 Harlem (Southeast)",
          "4644 Harlem (Southeast)",
          "4649 Harlem (Southeast)",
          "4661 Harlem (Southeast)",
          "4908 Harlem (Wassaic)",
          "4949 Harlem (Wassaic)",
          "4961 Harlem (Wassaic)"
         ],
         "marker": {
          "cmax": 30,
          "cmin": 4,
          "color": [
           18,
           18,
           18,
           10,
           18,
           7,
           18,
           7,
           18,
           10,
           7,
           18,
           6,
           14,
           14,
           18,
           18,
           18,
           18,
           9,
           6,
           18,
           7,
           18,
           7,
           16,
           10,
           18,
           18,
           11,
           18,
           18,
           18,
           18,
           7,
           18,
           6,
           4,
           6,
           18,
           7,
           18,
           6,
           18,
           18,
           7,
           18,
           18,
           18,
           18,
           6,
           18,
           18,
           18,
           18,
           18,
           18,
           11,
           18,
           11,
           11,
           18,
           18,
           18,
           18,
           5,
           18,
           6,
           18,
           18,
           6,
           18,
           5,
           11,
           6,
           7,
           18,
           16,
           18,
           18,
           18,
           18,
           12,
           18,
           18,
           12,
           18,
           18,
           18,
           18,
           18,
           18,
           18,
           18,
           15,
           17,
           16,
           17,
           16,
           19,
           15,
           20,
           16,
           20,
           16,
           20,
           17,
           16,
           14,
           9,
           17,
           10,
           12,
           16,
           9,
           12,
           16,
           11,
           16,
           12,
           9,
           16,
           13,
           12,
           12,
           16,
           11,
           16,
           16,
           16,
           16,
           11,
           9,
           16,
           16,
           10,
           17,
           11,
           16,
           15,
           10,
           17,
           8,
           14,
           8,
           17,
           9,
           12,
           17,
           9,
           17,
           12,
           17,
           9,
           15,
           17,
           16,
           14,
           16,
           16,
           18,
           16,
           16,
           16,
           16,
           16,
           16,
           16,
           16,
           16,
           16,
           24,
           30,
           7,
           7,
           14,
           7,
           14,
           7,
           7,
           7,
           7,
           16,
           7,
           12,
           7,
           7,
           7,
           7,
           7,
           7,
           7,
           7,
           7,
           7,
           5,
           7,
           9,
           11,
           8,
           16,
           19,
           16,
           8,
           8,
           7,
           7,
           7
          ],
          "colorbar": {
           "title": {
            "text": "Number of Stops"
           }
          },
          "colorscale": [
           [
            0,
            "#0d0887"
           ],
           [
            0.1111111111111111,
            "#46039f"
           ],
           [
            0.2222222222222222,
            "#7201a8"
           ],
           [
            0.3333333333333333,
            "#9c179e"
           ],
           [
            0.4444444444444444,
            "#bd3786"
           ],
           [
            0.5555555555555556,
            "#d8576b"
           ],
           [
            0.6666666666666666,
            "#ed7953"
           ],
           [
            0.7777777777777778,
            "#fb9f3a"
           ],
           [
            0.8888888888888888,
            "#fdca26"
           ],
           [
            1,
            "#f0f921"
           ]
          ]
         },
         "mode": "markers",
         "name": "Harlem",
         "type": "scatter",
         "visible": true,
         "x": [
          23.629569865141274,
          23.629569865141274,
          23.629569865141274,
          16.69467934301708,
          23.629569865141274,
          16.69467934301708,
          23.629569865141274,
          16.69467934301708,
          23.629569865141274,
          13.019234982523443,
          16.69467934301708,
          23.629569865141274,
          16.69467934301708,
          16.69467934301708,
          16.69467934301708,
          23.629569865141274,
          23.629569865141274,
          23.629569865141274,
          23.629569865141274,
          16.694679343017096,
          16.694679343017096,
          23.629569865141274,
          16.694679343017096,
          23.629569865141274,
          16.694679343017096,
          23.629569865141274,
          13.019234982523471,
          23.629569865141274,
          23.629569865141274,
          23.629569865141274,
          23.629569865141274,
          23.629569865141274,
          23.629569865141274,
          23.629569865141274,
          23.629569865141274,
          23.629569865141274,
          23.629569865141274,
          23.629569865141274,
          23.629569865141274,
          23.629569865141274,
          23.629569865141274,
          23.629569865141274,
          23.629569865141274,
          23.629569865141274,
          23.629569865141274,
          16.69467934301708,
          23.629569865141274,
          23.629569865141274,
          23.629569865141274,
          23.629569865141274,
          23.629569865141274,
          23.629569865141274,
          23.629569865141274,
          23.629569865141274,
          23.629569865141274,
          23.629569865141274,
          23.629569865141274,
          23.629569865141274,
          23.629569865141274,
          23.629569865141274,
          23.629569865141274,
          23.629569865141274,
          23.629569865141274,
          23.629569865141274,
          23.629569865141274,
          23.629569865141274,
          23.629569865141274,
          23.629569865141274,
          23.629569865141274,
          23.629569865141274,
          23.629569865141274,
          23.629569865141274,
          23.629569865141274,
          23.629569865141274,
          23.629569865141274,
          23.629569865141274,
          23.629569865141274,
          23.629569865141274,
          23.629569865141274,
          23.629569865141274,
          23.629569865141274,
          23.629569865141274,
          23.629569865141274,
          23.629569865141274,
          23.629569865141274,
          23.629569865141274,
          23.629569865141274,
          23.629569865141274,
          23.629569865141274,
          23.629569865141274,
          23.629569865141274,
          23.629569865141274,
          23.629569865141274,
          23.629569865141274,
          53.128510743338694,
          53.12851074333865,
          53.128510743338694,
          53.12851074333865,
          53.128510743338694,
          53.12851074333865,
          53.128510743338694,
          53.12851074333865,
          53.128510743338694,
          53.12851074333865,
          53.128510743338694,
          53.12851074333865,
          53.12851074333865,
          53.128510743338694,
          53.12851074333865,
          53.128510743338694,
          53.12851074333865,
          36.51326597181611,
          53.128510743338694,
          53.12851074333865,
          36.51326597181611,
          53.128510743338694,
          53.12851074333865,
          36.51326597181611,
          53.12851074333865,
          53.128510743338694,
          36.51326597181611,
          53.12851074333865,
          53.128510743338694,
          53.12851074333865,
          53.12851074333865,
          53.128510743338694,
          36.51326597181618,
          53.128510743338694,
          53.12851074333865,
          53.12851074333865,
          53.128510743338694,
          53.12851074333865,
          36.51326597181618,
          53.128510743338694,
          53.12851074333865,
          53.12851074333865,
          53.128510743338694,
          36.51326597181618,
          53.128510743338694,
          51.82117626323161,
          53.12851074333865,
          53.128510743338694,
          36.51326597181618,
          53.128510743338694,
          51.82117626323161,
          53.128510743338694,
          36.51326597181618,
          53.12851074333865,
          53.128510743338694,
          36.51326597181618,
          53.128510743338694,
          53.12851074333865,
          53.128510743338694,
          36.51326597181618,
          53.128510743338694,
          53.128510743338694,
          53.12851074333865,
          53.128510743338694,
          53.12851074333865,
          53.128510743338694,
          53.12851074333865,
          53.12851074333865,
          53.128510743338694,
          53.12851074333865,
          53.12851074333865,
          53.128510743338694,
          53.12851074333865,
          53.128510743338694,
          53.12851074333865,
          53.128510743338694,
          53.12851074333865,
          53.128510743338694,
          53.12851074333865,
          28.8354141059202,
          28.8354141059202,
          81.96392484925882,
          28.8354141059202,
          81.96392484925882,
          28.8354141059202,
          28.8354141059202,
          28.835414105920158,
          28.835414105920158,
          81.96392484925882,
          28.835414105920158,
          81.96392484925882,
          28.835414105920158,
          28.835414105920158,
          28.8354141059202,
          28.835414105920158,
          28.8354141059202,
          28.835414105920158,
          28.8354141059202,
          28.8354141059202,
          28.835414105920158,
          28.835414105920158,
          23.32228249076026,
          28.835414105920158,
          23.629569865141274,
          23.629569865141274,
          53.128510743338694,
          53.12851074333865,
          53.128510743338694,
          53.128510743338694,
          53.12851074333865,
          53.12851074333865,
          28.835414105920158,
          28.8354141059202,
          28.8354141059202
         ],
         "y": [
          55,
          56,
          58,
          37,
          60,
          36,
          59,
          38,
          61,
          36,
          36,
          57,
          35,
          43,
          42,
          59,
          60,
          64,
          62,
          39,
          35,
          61,
          35,
          66,
          35,
          56,
          35,
          57,
          56,
          51,
          57,
          60,
          55,
          57,
          44,
          58,
          41,
          41,
          43,
          59,
          47,
          59,
          46,
          58,
          60,
          40,
          60,
          60,
          60,
          60,
          43,
          60,
          60,
          60,
          56,
          59,
          57,
          49,
          59,
          47,
          50,
          59,
          59,
          59,
          59,
          43,
          59,
          43,
          59,
          57,
          43,
          57,
          43,
          50,
          47,
          46,
          57,
          53,
          56,
          56,
          58,
          57,
          51,
          58,
          57,
          54,
          58,
          57,
          60,
          58,
          65,
          61,
          63,
          66,
          90,
          94,
          88,
          94,
          88,
          99,
          87,
          101,
          88,
          97,
          89,
          97,
          98,
          93,
          93,
          86,
          101,
          68,
          90,
          101,
          65,
          90,
          101,
          68,
          101,
          86,
          64,
          101,
          85,
          99,
          87,
          91,
          73,
          92,
          91,
          94,
          100,
          86,
          63,
          98,
          92,
          85,
          97,
          65,
          97,
          84,
          83,
          98,
          61,
          93,
          82,
          96,
          62,
          87,
          96,
          63,
          95,
          87,
          92,
          62,
          88,
          90,
          91,
          87,
          90,
          89,
          101,
          94,
          89,
          103,
          97,
          90,
          101,
          92,
          96,
          97,
          94,
          102,
          112,
          40,
          42,
          130,
          41,
          130,
          41,
          41,
          46,
          40,
          131,
          40,
          129,
          40,
          40,
          43,
          40,
          43,
          53,
          42,
          55,
          42,
          42,
          33,
          39,
          52,
          54,
          86,
          97,
          91,
          100,
          86,
          84,
          40,
          45,
          45
         ]
        },
        {
         "hovertext": [
          "416 Hudson (Greystone)",
          "426 Hudson (Irvington)",
          "434 Hudson (Irvington)",
          "436 Hudson (Greystone)",
          "440 Hudson (Greystone)",
          "443 Hudson (Greystone)",
          "461 Hudson (Greystone)",
          "465 Hudson (Greystone)",
          "469 Hudson (Greystone)",
          "477 Hudson (Greystone)",
          "483 Hudson (Greystone)",
          "700 Hudson (Croton-Harmon)",
          "701 Hudson (Croton-Harmon)",
          "702 Hudson (Croton-Harmon)",
          "703 Hudson (Croton-Harmon)",
          "704 Hudson (Croton-Harmon)",
          "705 Hudson (Croton-Harmon)",
          "707 Hudson (Croton-Harmon)",
          "708 Hudson (Croton-Harmon)",
          "709 Hudson (Croton-Harmon)",
          "710 Hudson (Croton-Harmon)",
          "711 Hudson (Croton-Harmon)",
          "712 Hudson (Croton-Harmon)",
          "713 Hudson (Croton-Harmon)",
          "714 Hudson (Croton-Harmon)",
          "715 Hudson (Croton-Harmon)",
          "716 Hudson (Croton-Harmon)",
          "717 Hudson (Croton-Harmon)",
          "719 Hudson (Croton-Harmon)",
          "721 Hudson (Croton-Harmon)",
          "724 Hudson (Croton-Harmon)",
          "725 Hudson (Croton-Harmon)",
          "728 Hudson (Croton-Harmon)",
          "729 Hudson (Croton-Harmon)",
          "732 Hudson (Croton-Harmon)",
          "733 Hudson (Croton-Harmon)",
          "734 Hudson (Croton-Harmon)",
          "736 Hudson (Croton-Harmon)",
          "737 Hudson (Croton-Harmon)",
          "738 Hudson (Croton-Harmon)",
          "739 Hudson (Croton-Harmon)",
          "740 Hudson (Croton-Harmon)",
          "741 Hudson (Croton-Harmon)",
          "742 Hudson (Croton-Harmon)",
          "744 Hudson (Croton-Harmon)",
          "745 Hudson (Croton-Harmon)",
          "746 Hudson (Croton-Harmon)",
          "747 Hudson (Croton-Harmon)",
          "749 Hudson (Croton-Harmon)",
          "750 Hudson (Croton-Harmon)",
          "753 Hudson (Croton-Harmon)",
          "754 Hudson (Croton-Harmon)",
          "755 Hudson (Croton-Harmon)",
          "757 Hudson (Croton-Harmon)",
          "758 Hudson (Croton-Harmon)",
          "760 Hudson (Croton-Harmon)",
          "762 Hudson (Croton-Harmon)",
          "764 Hudson (Croton-Harmon)",
          "765 Hudson (Croton-Harmon)",
          "766 Hudson (Croton-Harmon)",
          "767 Hudson (Croton-Harmon)",
          "768 Hudson (Croton-Harmon)",
          "769 Hudson (Croton-Harmon)",
          "770 Hudson (Croton-Harmon)",
          "771 Hudson (Croton-Harmon)",
          "772 Hudson (Croton-Harmon)",
          "774 Hudson (Croton-Harmon)",
          "775 Hudson (Croton-Harmon)",
          "776 Hudson (Croton-Harmon)",
          "777 Hudson (Croton-Harmon)",
          "778 Hudson (Croton-Harmon)",
          "780 Hudson (Croton-Harmon)",
          "781 Hudson (Croton-Harmon)",
          "782 Hudson (Croton-Harmon)",
          "783 Hudson (Croton-Harmon)",
          "785 Hudson (Croton-Harmon)",
          "786 Hudson (Croton-Harmon)",
          "787 Hudson (Croton-Harmon)",
          "789 Hudson (Croton-Harmon)",
          "790 Hudson (Croton-Harmon)",
          "791 Hudson (Croton-Harmon)",
          "792 Hudson (Croton-Harmon)",
          "793 Hudson (Croton-Harmon)",
          "794 Hudson (Croton-Harmon)",
          "795 Hudson (Croton-Harmon)",
          "796 Hudson (Croton-Harmon)",
          "797 Hudson (Croton-Harmon)",
          "798 Hudson (Croton-Harmon)",
          "799 Hudson (Croton-Harmon)",
          "801 Hudson (Poughkeepsie)",
          "802 Hudson (Poughkeepsie)",
          "803 Hudson (Poughkeepsie)",
          "805 Hudson (Poughkeepsie)",
          "806 Hudson (Poughkeepsie)",
          "807 Hudson (Poughkeepsie)",
          "809 Hudson (Poughkeepsie)",
          "810 Hudson (Poughkeepsie)",
          "813 Hudson (Poughkeepsie)",
          "814 Hudson (Poughkeepsie)",
          "816 Hudson (Poughkeepsie)",
          "817 Hudson (Poughkeepsie)",
          "818 Hudson (Poughkeepsie)",
          "821 Hudson (Poughkeepsie)",
          "825 Hudson (Poughkeepsie)",
          "829 Hudson (Poughkeepsie)",
          "830 Hudson (Poughkeepsie)",
          "832 Hudson (Poughkeepsie)",
          "833 Hudson (Poughkeepsie)",
          "834 Hudson (Poughkeepsie)",
          "837 Hudson (Poughkeepsie)",
          "838 Hudson (Poughkeepsie)",
          "839 Hudson (Poughkeepsie)",
          "840 Hudson (Poughkeepsie)",
          "841 Hudson (Poughkeepsie)",
          "842 Hudson (Poughkeepsie)",
          "843 Hudson (Poughkeepsie)",
          "844 Hudson (Poughkeepsie)",
          "846 Hudson (Poughkeepsie)",
          "847 Hudson (Poughkeepsie)",
          "849 Hudson (Poughkeepsie)",
          "850 Hudson (Poughkeepsie)",
          "851 Hudson (Beacon)",
          "853 Hudson (Poughkeepsie)",
          "854 Hudson (Poughkeepsie)",
          "855 Hudson (Poughkeepsie)",
          "857 Hudson (Poughkeepsie)",
          "858 Hudson (Poughkeepsie)",
          "862 Hudson (Poughkeepsie)",
          "865 Hudson (Poughkeepsie)",
          "866 Hudson (Poughkeepsie)",
          "869 Hudson (Poughkeepsie)",
          "870 Hudson (Poughkeepsie)",
          "874 Hudson (Poughkeepsie)",
          "875 Hudson (Poughkeepsie)",
          "876 Hudson (Poughkeepsie)",
          "877 Hudson (Poughkeepsie)",
          "878 Hudson (Poughkeepsie)",
          "880 Hudson (Poughkeepsie)",
          "881 Hudson (Poughkeepsie)",
          "882 Hudson (Poughkeepsie)",
          "883 Hudson (Poughkeepsie)",
          "886 Hudson (Poughkeepsie)",
          "887 Hudson (Poughkeepsie)",
          "890 Hudson (Poughkeepsie)",
          "891 Hudson (Poughkeepsie)",
          "892 Hudson (Poughkeepsie)",
          "894 Hudson (Poughkeepsie)",
          "895 Hudson (Poughkeepsie)",
          "896 Hudson (Poughkeepsie)",
          "897 Hudson (Poughkeepsie)",
          "898 Hudson (Poughkeepsie)",
          "4720 Hudson (Croton-Harmon)",
          "4744 Hudson (Croton-Harmon)",
          "4761 Hudson (Croton-Harmon)",
          "4835 Hudson (Poughkeepsie)",
          "4844 Hudson (Poughkeepsie)"
         ],
         "marker": {
          "cmax": 30,
          "cmin": 4,
          "color": [
           12,
           7,
           7,
           12,
           12,
           13,
           12,
           13,
           12,
           12,
           13,
           19,
           21,
           13,
           21,
           22,
           22,
           22,
           21,
           22,
           12,
           22,
           22,
           22,
           13,
           12,
           7,
           22,
           13,
           22,
           21,
           22,
           6,
           22,
           22,
           22,
           7,
           13,
           22,
           11,
           22,
           21,
           22,
           13,
           22,
           13,
           22,
           22,
           12,
           22,
           22,
           22,
           7,
           14,
           22,
           13,
           22,
           13,
           12,
           22,
           6,
           15,
           11,
           21,
           21,
           22,
           21,
           21,
           21,
           13,
           21,
           12,
           21,
           21,
           14,
           10,
           21,
           21,
           12,
           22,
           22,
           22,
           13,
           22,
           22,
           21,
           22,
           18,
           21,
           8,
           10,
           14,
           14,
           10,
           14,
           14,
           10,
           12,
           10,
           10,
           12,
           5,
           12,
           12,
           12,
           10,
           5,
           13,
           9,
           12,
           10,
           10,
           11,
           10,
           10,
           10,
           10,
           12,
           10,
           5,
           12,
           8,
           4,
           12,
           10,
           10,
           12,
           12,
           11,
           12,
           10,
           12,
           12,
           10,
           9,
           10,
           12,
           9,
           10,
           12,
           10,
           13,
           10,
           13,
           10,
           13,
           8,
           19,
           8,
           20,
           8,
           12,
           22,
           11,
           10,
           7
          ],
          "colorscale": [
           [
            0,
            "#0d0887"
           ],
           [
            0.1111111111111111,
            "#46039f"
           ],
           [
            0.2222222222222222,
            "#7201a8"
           ],
           [
            0.3333333333333333,
            "#9c179e"
           ],
           [
            0.4444444444444444,
            "#bd3786"
           ],
           [
            0.5555555555555556,
            "#d8576b"
           ],
           [
            0.6666666666666666,
            "#ed7953"
           ],
           [
            0.7777777777777778,
            "#fb9f3a"
           ],
           [
            0.8888888888888888,
            "#fdca26"
           ],
           [
            1,
            "#f0f921"
           ]
          ]
         },
         "mode": "markers",
         "name": "Hudson",
         "type": "scatter",
         "visible": true,
         "x": [
          17.146816878938168,
          21.883007668184998,
          21.883007668184998,
          17.146816878938168,
          17.146816878938168,
          17.146816878938182,
          17.146816878938182,
          17.146816878938182,
          17.146816878938182,
          17.146816878938182,
          17.146816878938182,
          32.47429580416642,
          32.474295804166424,
          32.47429580416642,
          32.474295804166424,
          32.47429580416642,
          32.474295804166424,
          32.474295804166424,
          32.47429580416642,
          32.474295804166424,
          32.47429580416642,
          32.474295804166424,
          32.47429580416642,
          32.474295804166424,
          32.47429580416642,
          32.474295804166424,
          32.47429580416642,
          32.474295804166424,
          32.474295804166424,
          32.474295804166424,
          32.47429580416642,
          32.474295804166424,
          32.47429580416642,
          32.474295804166424,
          32.47429580416642,
          32.474295804166424,
          32.47429580416642,
          32.47429580416642,
          32.474295804166424,
          32.47429580416642,
          32.474295804166424,
          32.47429580416642,
          32.474295804166424,
          32.47429580416642,
          32.47429580416642,
          32.474295804166424,
          32.47429580416642,
          32.474295804166424,
          32.474295804166424,
          32.47429580416642,
          32.474295804166424,
          32.47429580416642,
          32.474295804166424,
          32.474295804166424,
          32.47429580416642,
          32.47429580416642,
          32.47429580416642,
          32.47429580416642,
          32.474295804166424,
          32.47429580416642,
          32.474295804166424,
          32.47429580416642,
          32.474295804166424,
          32.47429580416642,
          32.474295804166424,
          32.47429580416642,
          32.47429580416642,
          32.474295804166424,
          32.47429580416642,
          32.474295804166424,
          32.47429580416642,
          32.47429580416642,
          32.474295804166424,
          32.47429580416642,
          32.474295804166424,
          32.474295804166424,
          32.47429580416642,
          32.474295804166424,
          32.474295804166424,
          32.47429580416642,
          32.474295804166424,
          32.47429580416642,
          32.474295804166424,
          32.47429580416642,
          32.474295804166424,
          32.47429580416642,
          32.474295804166424,
          32.47429580416642,
          32.474295804166424,
          40.221382123127135,
          72.69567792729357,
          72.69567792729349,
          72.69567792729349,
          72.69567792729357,
          72.69567792729349,
          72.69567792729349,
          72.69567792729357,
          72.69567792729349,
          72.69567792729357,
          72.69567792729357,
          72.69567792729349,
          72.69567792729357,
          72.69567792729349,
          72.69567792729349,
          72.69567792729349,
          72.69567792729357,
          72.69567792729357,
          72.69567792729349,
          72.69567792729357,
          72.69567792729349,
          72.69567792729357,
          72.69567792729349,
          72.69567792729357,
          72.69567792729349,
          72.69567792729357,
          72.69567792729349,
          72.69567792729357,
          72.69567792729357,
          72.69567792729349,
          72.69567792729349,
          72.69567792729357,
          58.107068485458235,
          72.69567792729349,
          72.69567792729357,
          72.69567792729349,
          72.69567792729349,
          72.69567792729357,
          72.69567792729357,
          72.69567792729349,
          72.69567792729357,
          72.69567792729349,
          72.69567792729357,
          72.69567792729357,
          72.69567792729349,
          72.69567792729357,
          72.69567792729349,
          72.69567792729357,
          72.69567792729357,
          72.69567792729349,
          72.69567792729357,
          72.69567792729349,
          72.69567792729357,
          72.69567792729349,
          72.69567792729357,
          72.69567792729349,
          72.69567792729357,
          40.22138212312711,
          72.69567792729349,
          40.22138212312711,
          72.69567792729349,
          40.22138212312711,
          32.47429580416642,
          32.47429580416642,
          32.474295804166424,
          72.69567792729349,
          72.69567792729357
         ],
         "y": [
          50,
          49,
          46,
          45,
          43,
          42,
          41,
          41,
          41,
          41,
          41,
          65,
          73,
          60,
          70,
          70,
          71,
          70,
          68,
          71,
          60,
          71,
          71,
          73,
          59,
          63,
          52,
          72,
          63,
          71,
          73,
          72,
          55,
          72,
          73,
          72,
          55,
          62,
          72,
          62,
          71,
          71,
          71,
          60,
          72,
          63,
          72,
          72,
          62,
          73,
          75,
          73,
          57,
          64,
          73,
          61,
          73,
          62,
          61,
          74,
          54,
          64,
          60,
          70,
          73,
          72,
          71,
          72,
          72,
          62,
          70,
          60,
          72,
          70,
          64,
          59,
          70,
          71,
          64,
          73,
          71,
          73,
          64,
          73,
          71,
          72,
          73,
          68,
          73,
          60,
          102,
          113,
          112,
          102,
          114,
          119,
          102,
          112,
          104,
          106,
          115,
          95,
          115,
          115,
          116,
          108,
          96,
          117,
          106,
          116,
          105,
          111,
          107,
          114,
          105,
          109,
          107,
          113,
          110,
          97,
          113,
          88,
          96,
          113,
          106,
          107,
          113,
          114,
          111,
          113,
          108,
          112,
          111,
          107,
          104,
          107,
          114,
          103,
          113,
          109,
          114,
          109,
          110,
          111,
          110,
          114,
          59,
          129,
          59,
          131,
          59,
          68,
          71,
          59,
          111,
          99
         ]
        },
        {
         "hovertext": [
          "1213 New Haven (Harrison)",
          "1221 New Haven (Harrison)",
          "1225 New Haven (New Rochelle)",
          "1229 New Haven (New Rochelle)",
          "1231 New Haven (Harrison)",
          "1233 New Haven (Harrison)",
          "1237 New Haven (Harrison)",
          "1239 New Haven (Harrison)",
          "1241 New Haven (Harrison)",
          "1244 New Haven (Harrison)",
          "1248 New Haven (Harrison)",
          "1254 New Haven (Harrison)",
          "1256 New Haven (New Rochelle)",
          "1260 New Haven (Harrison)",
          "1264 New Haven (Harrison)",
          "1268 New Haven (New Rochelle)",
          "1270 New Haven (Harrison)",
          "1274 New Haven (Harrison)",
          "1275 New Haven (Harrison)",
          "1279 New Haven (Harrison)",
          "1299 New Haven (Stamford)",
          "1300 New Haven (Stamford)",
          "1301 New Haven (Stamford)",
          "1302 New Haven (Stamford)",
          "1303 New Haven (Stamford)",
          "1304 New Haven (Stamford)",
          "1305 New Haven (Stamford)",
          "1306 New Haven (Greenwich)",
          "1307 New Haven (Stamford)",
          "1308 New Haven (Greenwich)",
          "1309 New Haven (Stamford)",
          "1310 New Haven (Greenwich)",
          "1311 New Haven (Stamford)",
          "1312 New Haven (Stamford)",
          "1314 New Haven (Stamford)",
          "1315 New Haven (Stamford)",
          "1316 New Haven (Stamford)",
          "1317 New Haven (New Rochelle)",
          "1318 New Haven (Stamford)",
          "1320 New Haven (Stamford)",
          "1321 New Haven (Stamford)",
          "1322 New Haven (Stamford)",
          "1324 New Haven (Stamford)",
          "1325 New Haven (Greenwich)",
          "1326 New Haven (Stamford)",
          "1327 New Haven (Harrison)",
          "1328 New Haven (Stamford)",
          "1330 New Haven (Stamford)",
          "1331 New Haven (Stamford)",
          "1332 New Haven (Stamford)",
          "1333 New Haven (Stamford)",
          "1334 New Haven (Stamford)",
          "1335 New Haven (Stamford)",
          "1336 New Haven (Stamford)",
          "1338 New Haven (Stamford)",
          "1339 New Haven (Stamford)",
          "1340 New Haven (Stamford)",
          "1341 New Haven (Stamford)",
          "1342 New Haven (Stamford)",
          "1346 New Haven (Stamford)",
          "1347 New Haven (Stamford)",
          "1349 New Haven (Stamford)",
          "1351 New Haven (Stamford)",
          "1352 New Haven (Stamford)",
          "1353 New Haven (Stamford)",
          "1355 New Haven (Stamford)",
          "1357 New Haven (Stamford)",
          "1358 New Haven (Stamford)",
          "1359 New Haven (Stamford)",
          "1360 New Haven (Stamford)",
          "1361 New Haven (Stamford)",
          "1362 New Haven (Old Greenwich)",
          "1363 New Haven (Stamford)",
          "1365 New Haven (Stamford)",
          "1367 New Haven (Stamford)",
          "1368 New Haven (Stamford)",
          "1369 New Haven (Stamford)",
          "1370 New Haven (Stamford)",
          "1371 New Haven (Stamford)",
          "1373 New Haven (Stamford)",
          "1374 New Haven (Stamford)",
          "1375 New Haven (Stamford)",
          "1376 New Haven (Stamford)",
          "1379 New Haven (Stamford)",
          "1381 New Haven (Stamford)",
          "1382 New Haven (Stamford)",
          "1383 New Haven (Stamford)",
          "1384 New Haven (Stamford)",
          "1385 New Haven (Stamford)",
          "1386 New Haven (Stamford)",
          "1387 New Haven (Stamford)",
          "1388 New Haven (Stamford)",
          "1389 New Haven (Stamford)",
          "1390 New Haven (Stamford)",
          "1391 New Haven (Stamford)",
          "1392 New Haven (Stamford)",
          "1393 New Haven (Stamford)",
          "1394 New Haven (Stamford)",
          "1395 New Haven (Stamford)",
          "1397 New Haven (Stamford)",
          "1398 New Haven (Stamford)",
          "1399 New Haven (Stamford)",
          "1402 New Haven (New Haven)",
          "1404 New Haven (Stamford)",
          "1406 New Haven (Stamford)",
          "1407 New Haven (Stamford)",
          "1408 New Haven (Stamford)",
          "1409 New Haven (Bridgeport)",
          "1410 New Haven (Stamford)",
          "1416 New Haven (New Haven)",
          "1429 New Haven (South Norwalk)",
          "1431 New Haven (South Norwalk)",
          "1433 New Haven (Fairfield-Black Rock)",
          "1442 New Haven (South Norwalk)",
          "1445 New Haven (Bridgeport)",
          "1456 New Haven (Bridgeport)",
          "1458 New Haven (South Norwalk)",
          "1471 New Haven (Stamford)",
          "1473 New Haven (Stamford)",
          "1497 New Haven (New Haven)",
          "1500 New Haven (New Haven)",
          "1502 New Haven (New Haven)",
          "1503 New Haven (New Haven)",
          "1504 New Haven (New Haven-State St)",
          "1506 New Haven (New Haven-State St)",
          "1507 New Haven (New Haven)",
          "1508 New Haven (New Haven)",
          "1509 New Haven (New Haven)",
          "1510 New Haven (New Haven-State St)",
          "1511 New Haven (New Haven)",
          "1512 New Haven (New Haven)",
          "1513 New Haven (New Haven)",
          "1514 New Haven (New Haven-State St)",
          "1516 New Haven (New Haven)",
          "1517 New Haven (New Haven)",
          "1518 New Haven (New Haven-State St)",
          "1520 New Haven (New Haven)",
          "1522 New Haven (New Haven)",
          "1524 New Haven (New Haven)",
          "1525 New Haven (New Haven)",
          "1526 New Haven (New Haven)",
          "1528 New Haven (New Haven)",
          "1529 New Haven (New Haven)",
          "1530 New Haven (New Haven)",
          "1531 New Haven (New Haven)",
          "1532 New Haven (New Haven)",
          "1533 New Haven (New Haven)",
          "1534 New Haven (New Haven)",
          "1535 New Haven (New Haven)",
          "1536 New Haven (New Haven)",
          "1538 New Haven (New Haven)",
          "1540 New Haven (New Haven)",
          "1541 New Haven (New Haven)",
          "1542 New Haven (New Haven)",
          "1544 New Haven (New Haven)",
          "1545 New Haven (New Haven)",
          "1546 New Haven (New Haven)",
          "1548 New Haven (New Haven)",
          "1549 New Haven (New Haven)",
          "1551 New Haven (New Haven)",
          "1552 New Haven (New Haven)",
          "1553 New Haven (New Haven)",
          "1554 New Haven (New Haven)",
          "1555 New Haven (New Haven)",
          "1556 New Haven (New Haven)",
          "1557 New Haven (New Haven-State St)",
          "1559 New Haven (New Haven)",
          "1561 New Haven (New Haven)",
          "1562 New Haven (New Haven)",
          "1563 New Haven (New Haven)",
          "1565 New Haven (New Haven)",
          "1567 New Haven (New Haven)",
          "1569 New Haven (New Haven)",
          "1570 New Haven (New Haven)",
          "1571 New Haven (New Haven)",
          "1573 New Haven (New Haven-State St)",
          "1574 New Haven (New Haven)",
          "1575 New Haven (New Haven-State St)",
          "1576 New Haven (New Haven)",
          "1577 New Haven (New Haven)",
          "1578 New Haven (New Haven)",
          "1579 New Haven (New Haven-State St)",
          "1581 New Haven (New Haven-State St)",
          "1582 New Haven (New Haven)",
          "1583 New Haven (New Haven-State St)",
          "1584 New Haven (New Haven)",
          "1586 New Haven (New Haven)",
          "1587 New Haven (New Haven)",
          "1588 New Haven (New Haven)",
          "1590 New Haven (New Haven)",
          "1591 New Haven (New Haven)",
          "1592 New Haven (New Haven)",
          "1594 New Haven (New Haven)",
          "1595 New Haven (New Haven)",
          "1597 New Haven (New Haven)",
          "1598 New Haven (New Haven)",
          "1599 New Haven (New Haven)",
          "1633 New Haven (New Haven-State St)",
          "1638 New Haven (New Haven-State St)",
          "3419 New Haven (Bridgeport)",
          "3507 New Haven (New Haven)",
          "3511 New Haven (New Haven)",
          "3537 New Haven (New Haven)",
          "3538 New Haven (New Haven)",
          "3539 New Haven (New Haven)",
          "3541 New Haven (New Haven)",
          "3542 New Haven (New Haven)",
          "3546 New Haven (New Haven)",
          "3568 New Haven (New Haven)",
          "3570 New Haven (New Haven)",
          "3581 New Haven (New Haven)"
         ],
         "marker": {
          "cmax": 30,
          "cmin": 4,
          "color": [
           8,
           4,
           5,
           5,
           5,
           7,
           9,
           9,
           9,
           8,
           9,
           6,
           5,
           5,
           4,
           4,
           8,
           5,
           9,
           9,
           16,
           16,
           16,
           16,
           16,
           15,
           16,
           12,
           16,
           12,
           16,
           12,
           9,
           16,
           16,
           9,
           16,
           4,
           16,
           16,
           16,
           16,
           16,
           5,
           16,
           4,
           16,
           16,
           8,
           16,
           8,
           16,
           16,
           16,
           16,
           10,
           16,
           11,
           13,
           16,
           16,
           16,
           16,
           10,
           16,
           16,
           16,
           8,
           16,
           16,
           16,
           9,
           16,
           16,
           16,
           9,
           16,
           9,
           16,
           16,
           16,
           16,
           16,
           16,
           16,
           16,
           16,
           16,
           16,
           16,
           16,
           16,
           16,
           16,
           16,
           16,
           16,
           16,
           16,
           16,
           16,
           16,
           16,
           16,
           12,
           9,
           9,
           14,
           12,
           13,
           6,
           6,
           10,
           7,
           15,
           11,
           6,
           9,
           9,
           18,
           18,
           18,
           14,
           19,
           21,
           18,
           20,
           14,
           16,
           11,
           20,
           15,
           15,
           18,
           10,
           19,
           13,
           18,
           13,
           19,
           18,
           13,
           8,
           18,
           19,
           13,
           8,
           18,
           21,
           13,
           18,
           15,
           15,
           16,
           22,
           11,
           19,
           7,
           14,
           18,
           9,
           13,
           17,
           18,
           8,
           14,
           18,
           13,
           18,
           18,
           13,
           18,
           14,
           13,
           18,
           15,
           18,
           20,
           18,
           19,
           18,
           22,
           15,
           14,
           21,
           18,
           18,
           19,
           18,
           18,
           19,
           18,
           18,
           18,
           18,
           18,
           18,
           7,
           7,
           15,
           4,
           4,
           4,
           11,
           19,
           4,
           4,
           4,
           4,
           15,
           6
          ],
          "colorscale": [
           [
            0,
            "#0d0887"
           ],
           [
            0.1111111111111111,
            "#46039f"
           ],
           [
            0.2222222222222222,
            "#7201a8"
           ],
           [
            0.3333333333333333,
            "#9c179e"
           ],
           [
            0.4444444444444444,
            "#bd3786"
           ],
           [
            0.5555555555555556,
            "#d8576b"
           ],
           [
            0.6666666666666666,
            "#ed7953"
           ],
           [
            0.7777777777777778,
            "#fb9f3a"
           ],
           [
            0.8888888888888888,
            "#fdca26"
           ],
           [
            1,
            "#f0f921"
           ]
          ]
         },
         "mode": "markers",
         "name": "New Haven",
         "type": "scatter",
         "visible": true,
         "x": [
          22.113749617866542,
          22.113749617866542,
          16.58102769552844,
          16.58102769552844,
          22.113749617866542,
          22.113749617866542,
          22.113749617866542,
          22.113749617866542,
          22.113749617866542,
          22.11374961786648,
          22.11374961786648,
          22.11374961786648,
          16.581027695528448,
          22.11374961786648,
          22.11374961786648,
          16.581027695528448,
          22.11374961786648,
          22.11374961786648,
          22.113749617866542,
          22.113749617866542,
          32.96999309735178,
          32.969993097351754,
          32.96999309735178,
          32.969993097351754,
          32.96999309735178,
          32.969993097351754,
          32.96999309735178,
          28.17626937547807,
          32.96999309735178,
          28.17626937547807,
          32.96999309735178,
          28.17626937547807,
          32.96999309735178,
          32.969993097351754,
          32.969993097351754,
          32.96999309735178,
          32.969993097351754,
          16.58102769552844,
          32.969993097351754,
          32.969993097351754,
          32.96999309735178,
          32.969993097351754,
          32.969993097351754,
          28.17626937547813,
          32.969993097351754,
          22.113749617866542,
          32.969993097351754,
          32.969993097351754,
          32.96999309735178,
          32.969993097351754,
          32.96999309735178,
          32.969993097351754,
          32.96999309735178,
          32.969993097351754,
          32.969993097351754,
          32.96999309735178,
          32.969993097351754,
          32.96999309735178,
          32.969993097351754,
          32.969993097351754,
          32.96999309735178,
          32.96999309735178,
          32.96999309735178,
          32.969993097351754,
          32.96999309735178,
          32.96999309735178,
          32.96999309735178,
          32.969993097351754,
          32.96999309735178,
          32.969993097351754,
          32.96999309735178,
          31.4161655283285,
          32.96999309735178,
          32.96999309735178,
          32.96999309735178,
          32.969993097351754,
          32.96999309735178,
          32.969993097351754,
          32.96999309735178,
          32.96999309735178,
          32.969993097351754,
          32.96999309735178,
          32.969993097351754,
          32.96999309735178,
          32.96999309735178,
          32.969993097351754,
          32.96999309735178,
          32.969993097351754,
          32.96999309735178,
          32.969993097351754,
          32.96999309735178,
          32.969993097351754,
          32.96999309735178,
          32.969993097351754,
          32.96999309735178,
          32.969993097351754,
          32.96999309735178,
          32.969993097351754,
          32.96999309735178,
          32.96999309735178,
          32.969993097351754,
          32.96999309735178,
          39.0911991980924,
          32.969993097351754,
          32.969993097351754,
          32.96999309735178,
          32.969993097351754,
          55.570053841178805,
          32.969993097351754,
          72.06119229544409,
          41.09684149031475,
          41.09684149031475,
          52.330803236604176,
          41.09684149031468,
          55.570053841178805,
          55.570053841178705,
          41.09684149031468,
          32.96999309735178,
          32.96999309735178,
          72.06119229544433,
          72.06119229544409,
          72.06119229544409,
          72.06119229544433,
          72.76170063132372,
          72.76170063132372,
          72.06119229544433,
          72.06119229544409,
          72.06119229544433,
          72.76170063132372,
          72.06119229544433,
          72.06119229544409,
          72.06119229544433,
          72.76170063132372,
          72.06119229544409,
          72.06119229544433,
          72.76170063132372,
          72.06119229544409,
          72.06119229544409,
          72.06119229544409,
          72.06119229544433,
          72.06119229544409,
          72.06119229544409,
          72.06119229544433,
          72.06119229544409,
          72.06119229544433,
          72.06119229544409,
          72.06119229544433,
          72.06119229544409,
          72.06119229544433,
          72.06119229544409,
          72.06119229544409,
          72.06119229544409,
          72.06119229544433,
          72.06119229544409,
          72.06119229544409,
          72.06119229544433,
          72.06119229544409,
          72.06119229544409,
          72.06119229544433,
          72.06119229544433,
          72.06119229544409,
          72.06119229544433,
          72.06119229544409,
          72.06119229544433,
          72.06119229544409,
          72.76170063132398,
          72.06119229544433,
          72.06119229544433,
          72.06119229544409,
          72.06119229544433,
          72.06119229544433,
          72.06119229544433,
          72.06119229544433,
          72.06119229544409,
          72.06119229544433,
          72.76170063132398,
          72.06119229544409,
          72.76170063132398,
          72.06119229544409,
          72.06119229544433,
          72.06119229544409,
          72.76170063132398,
          72.76170063132398,
          72.06119229544409,
          72.76170063132398,
          72.06119229544409,
          72.06119229544409,
          72.06119229544433,
          72.06119229544409,
          72.06119229544409,
          72.06119229544433,
          72.06119229544409,
          72.06119229544409,
          72.06119229544433,
          72.06119229544433,
          72.06119229544409,
          72.06119229544433,
          39.791707533971994,
          39.79170753397204,
          55.570053841178805,
          72.06119229544433,
          72.06119229544433,
          72.06119229544433,
          72.06119229544409,
          72.06119229544433,
          72.06119229544433,
          72.06119229544409,
          72.06119229544409,
          72.06119229544409,
          72.06119229544409,
          72.06119229544433
         ],
         "y": [
          47,
          44,
          36,
          33,
          41,
          44,
          47,
          49,
          48,
          44,
          44,
          42,
          35,
          41,
          41,
          34,
          45,
          40,
          52,
          49,
          77,
          70,
          70,
          78,
          68,
          69,
          68,
          58,
          67,
          58,
          67,
          57,
          61,
          74,
          74,
          66,
          75,
          37,
          74,
          75,
          69,
          75,
          77,
          52,
          75,
          45,
          77,
          75,
          61,
          77,
          58,
          75,
          70,
          75,
          75,
          63,
          72,
          63,
          70,
          71,
          73,
          79,
          77,
          62,
          79,
          77,
          79,
          62,
          77,
          74,
          79,
          57,
          77,
          78,
          70,
          64,
          70,
          60,
          72,
          71,
          72,
          74,
          69,
          73,
          70,
          73,
          72,
          73,
          67,
          74,
          71,
          74,
          72,
          71,
          72,
          76,
          72,
          74,
          81,
          77,
          77,
          71,
          75,
          70,
          69,
          59,
          65,
          94,
          68,
          125,
          72,
          71,
          83,
          68,
          98,
          90,
          68,
          67,
          64,
          128,
          130,
          129,
          121,
          130,
          137,
          122,
          133,
          115,
          129,
          113,
          131,
          116,
          130,
          128,
          116,
          136,
          120,
          129,
          122,
          129,
          131,
          122,
          110,
          130,
          126,
          122,
          110,
          131,
          128,
          120,
          126,
          123,
          120,
          121,
          129,
          113,
          127,
          106,
          120,
          126,
          111,
          121,
          123,
          126,
          110,
          126,
          127,
          118,
          123,
          129,
          120,
          128,
          122,
          119,
          128,
          123,
          126,
          139,
          123,
          131,
          123,
          139,
          124,
          119,
          135,
          125,
          124,
          130,
          128,
          126,
          127,
          126,
          130,
          129,
          129,
          130,
          128,
          66,
          67,
          107,
          90,
          100,
          101,
          112,
          122,
          101,
          100,
          100,
          98,
          128,
          106
         ]
        },
        {
         "hovertext": [
          "1707 New Canaan (New Canaan)",
          "1710 New Canaan (New Canaan)",
          "1711 New Canaan (New Canaan)",
          "1712 New Canaan (New Canaan)",
          "1716 New Canaan (New Canaan)",
          "1718 New Canaan (New Canaan)",
          "1723 New Canaan (New Canaan)",
          "1726 New Canaan (New Canaan)",
          "1730 New Canaan (New Canaan)",
          "1731 New Canaan (New Canaan)",
          "1734 New Canaan (New Canaan)",
          "1735 New Canaan (New Canaan)",
          "1738 New Canaan (New Canaan)",
          "1740 New Canaan (New Canaan)",
          "1741 New Canaan (New Canaan)",
          "1745 New Canaan (New Canaan)",
          "1750 New Canaan (New Canaan)",
          "1751 New Canaan (New Canaan)",
          "1752 New Canaan (New Canaan)",
          "1755 New Canaan (New Canaan)",
          "1758 New Canaan (New Canaan)",
          "1763 New Canaan (New Canaan)",
          "1767 New Canaan (New Canaan)",
          "1770 New Canaan (New Canaan)",
          "1771 New Canaan (New Canaan)",
          "1774 New Canaan (New Canaan)",
          "1775 New Canaan (New Canaan)",
          "1777 New Canaan (New Canaan)",
          "1778 New Canaan (New Canaan)",
          "1782 New Canaan (New Canaan)",
          "1786 New Canaan (New Canaan)",
          "1787 New Canaan (New Canaan)",
          "1790 New Canaan (New Canaan)",
          "1791 New Canaan (New Canaan)",
          "1794 New Canaan (New Canaan)",
          "1795 New Canaan (New Canaan)",
          "1797 New Canaan (New Canaan)",
          "1798 New Canaan (New Canaan)",
          "1799 New Canaan (New Canaan)"
         ],
         "marker": {
          "cmax": 30,
          "cmin": 4,
          "color": [
           13,
           20,
           7,
           14,
           5,
           5,
           7,
           5,
           5,
           5,
           5,
           8,
           5,
           13,
           5,
           5,
           14,
           5,
           6,
           5,
           5,
           5,
           5,
           7,
           6,
           7,
           13,
           20,
           12,
           5,
           5,
           5,
           5,
           5,
           5,
           5,
           5,
           5,
           5
          ],
          "colorscale": [
           [
            0,
            "#0d0887"
           ],
           [
            0.1111111111111111,
            "#46039f"
           ],
           [
            0.2222222222222222,
            "#7201a8"
           ],
           [
            0.3333333333333333,
            "#9c179e"
           ],
           [
            0.4444444444444444,
            "#bd3786"
           ],
           [
            0.5555555555555556,
            "#d8576b"
           ],
           [
            0.6666666666666666,
            "#ed7953"
           ],
           [
            0.7777777777777778,
            "#fb9f3a"
           ],
           [
            0.8888888888888888,
            "#fdca26"
           ],
           [
            1,
            "#f0f921"
           ]
          ]
         },
         "mode": "markers",
         "name": "New Canaan",
         "type": "scatter",
         "visible": true,
         "x": [
          40.288058700175206,
          40.30776578482832,
          40.288058700175206,
          40.30776578482832,
          7.337772687476601,
          7.337772687476601,
          40.288058700175206,
          7.337772687476601,
          7.337772687476601,
          40.288058700175206,
          7.337772687476601,
          40.288058700175206,
          7.337772687476601,
          40.30776578482832,
          7.905678611560655,
          7.905678611560655,
          40.30776578482832,
          7.905678611560655,
          40.30776578482832,
          7.905678611560655,
          40.30776578482832,
          7.905678611560655,
          7.905678611560655,
          40.30776578482832,
          7.905678611560655,
          40.30776578482832,
          40.288058700175206,
          40.288058700175206,
          40.30776578482832,
          7.337772687476601,
          7.337772687476601,
          7.905678611560655,
          7.337772687476601,
          7.905678611560655,
          7.337772687476601,
          7.905678611560655,
          7.905678611560655,
          7.337772687476601,
          7.905678611560655
         ],
         "y": [
          73,
          94,
          68,
          84,
          18,
          18,
          70,
          18,
          18,
          68,
          18,
          71,
          18,
          85,
          18,
          18,
          81,
          17,
          69,
          17,
          68,
          17,
          17,
          71,
          18,
          70,
          85,
          91,
          78,
          18,
          18,
          17,
          18,
          17,
          18,
          17,
          17,
          20,
          17
         ]
        },
        {
         "hovertext": [
          "1806 Danbury (Danbury)",
          "1811 Danbury (Danbury)",
          "1812 Danbury (Danbury)",
          "1816 Danbury (Danbury)",
          "1819 Danbury (Danbury)",
          "1822 Danbury (Danbury)",
          "1830 Danbury (Danbury)",
          "1831 Danbury (Danbury)",
          "1837 Danbury (Danbury)",
          "1838 Danbury (Danbury)",
          "1841 Danbury (Danbury)",
          "1844 Danbury (Danbury)",
          "1848 Danbury (Danbury)",
          "1849 Danbury (Danbury)",
          "1855 Danbury (Danbury)",
          "1860 Danbury (Danbury)",
          "1861 Danbury (Danbury)",
          "1867 Danbury (Danbury)",
          "1868 Danbury (Danbury)",
          "1874 Danbury (Danbury)",
          "1875 Danbury (Danbury)",
          "1881 Danbury (Danbury)",
          "1882 Danbury (Danbury)",
          "1889 Danbury (Danbury)",
          "1894 Danbury (Danbury)",
          "1897 Danbury (Danbury)"
         ],
         "marker": {
          "cmax": 30,
          "cmin": 4,
          "color": [
           8,
           13,
           8,
           8,
           11,
           8,
           8,
           11,
           8,
           8,
           14,
           9,
           13,
           9,
           8,
           10,
           8,
           8,
           12,
           8,
           8,
           8,
           15,
           9,
           8,
           8
          ],
          "colorscale": [
           [
            0,
            "#0d0887"
           ],
           [
            0.1111111111111111,
            "#46039f"
           ],
           [
            0.2222222222222222,
            "#7201a8"
           ],
           [
            0.3333333333333333,
            "#9c179e"
           ],
           [
            0.4444444444444444,
            "#bd3786"
           ],
           [
            0.5555555555555556,
            "#d8576b"
           ],
           [
            0.6666666666666666,
            "#ed7953"
           ],
           [
            0.7777777777777778,
            "#fb9f3a"
           ],
           [
            0.8888888888888888,
            "#fdca26"
           ],
           [
            1,
            "#f0f921"
           ]
          ]
         },
         "mode": "markers",
         "name": "Danbury",
         "type": "scatter",
         "visible": true,
         "x": [
          23.493845483511627,
          64.59068697382662,
          23.493845483511627,
          23.493845483511627,
          64.59068697382662,
          23.493845483511627,
          23.493845483511627,
          64.59068697382662,
          23.493845483511638,
          23.493845483511627,
          64.59068697382662,
          31.620693876474643,
          64.59068697382641,
          31.620693876474647,
          23.493845483511638,
          64.59068697382641,
          23.493845483511638,
          23.493845483511638,
          64.59068697382641,
          23.493845483511627,
          23.493845483511638,
          23.493845483511638,
          64.59068697382641,
          31.620693876474647,
          23.493845483511627,
          23.493845483511638
         ],
         "y": [
          68,
          124,
          54,
          53,
          116,
          52,
          53,
          119,
          53,
          52,
          124,
          72,
          127,
          69,
          56,
          118,
          54,
          55,
          125,
          50,
          58,
          53,
          129,
          95,
          51,
          53
         ]
        },
        {
         "hovertext": [
          "1902 Waterbury (Waterbury)",
          "1908 Waterbury (Waterbury)",
          "1911 Waterbury (Waterbury)",
          "1916 Waterbury (Waterbury)",
          "1922 Waterbury (Waterbury)",
          "1925 Waterbury (Waterbury)",
          "1928 Waterbury (Waterbury)",
          "1935 Waterbury (Waterbury)",
          "1936 Waterbury (Waterbury)",
          "1942 Waterbury (Waterbury)",
          "1949 Waterbury (Waterbury)",
          "1956 Waterbury (Waterbury)",
          "1957 Waterbury (Waterbury)",
          "1965 Waterbury (Waterbury)",
          "1973 Waterbury (Waterbury)",
          "1974 Waterbury (Waterbury)",
          "1979 Waterbury (Waterbury)",
          "1985 Waterbury (Waterbury)",
          "1990 Waterbury (Waterbury)",
          "1991 Waterbury (Waterbury)",
          "1995 Waterbury (Waterbury)",
          "1997 Waterbury (Waterbury)",
          "B1456 Waterbury (Waterbury)",
          "B1538 Waterbury (Waterbury)"
         ],
         "marker": {
          "cmax": 30,
          "cmin": 4,
          "color": [
           8,
           8,
           8,
           8,
           8,
           8,
           8,
           8,
           8,
           8,
           8,
           8,
           8,
           8,
           8,
           8,
           8,
           8,
           8,
           8,
           8,
           8,
           7,
           7
          ],
          "colorscale": [
           [
            0,
            "#0d0887"
           ],
           [
            0.1111111111111111,
            "#46039f"
           ],
           [
            0.2222222222222222,
            "#7201a8"
           ],
           [
            0.3333333333333333,
            "#9c179e"
           ],
           [
            0.4444444444444444,
            "#bd3786"
           ],
           [
            0.5555555555555556,
            "#d8576b"
           ],
           [
            0.6666666666666666,
            "#ed7953"
           ],
           [
            0.7777777777777778,
            "#fb9f3a"
           ],
           [
            0.8888888888888888,
            "#fdca26"
           ],
           [
            1,
            "#f0f921"
           ]
          ]
         },
         "mode": "markers",
         "name": "Waterbury",
         "type": "scatter",
         "visible": true,
         "x": [
          31.809081400486825,
          31.809081400486825,
          31.809081400486814,
          31.809081400486825,
          31.809081400486825,
          31.809081400486814,
          31.809081400486825,
          31.809081400486814,
          31.809081400486825,
          31.809081400486825,
          31.809081400486814,
          31.809081400486825,
          31.809081400486814,
          31.809081400486814,
          31.809081400486814,
          31.809081400486825,
          31.809081400486814,
          31.809081400486814,
          31.809081400486825,
          31.809081400486814,
          31.809081400486814,
          31.809081400486814,
          28.3035135681445,
          28.3035135681445
         ],
         "y": [
          68,
          74,
          58,
          70,
          61,
          58,
          65,
          58,
          61,
          63,
          58,
          61,
          58,
          61,
          64,
          65,
          62,
          62,
          68,
          63,
          59,
          56,
          77,
          77
         ]
        }
       ],
       "layout": {
        "height": 700,
        "showlegend": false,
        "template": {
         "data": {
          "bar": [
           {
            "error_x": {
             "color": "#2a3f5f"
            },
            "error_y": {
             "color": "#2a3f5f"
            },
            "marker": {
             "line": {
              "color": "#E5ECF6",
              "width": 0.5
             },
             "pattern": {
              "fillmode": "overlay",
              "size": 10,
              "solidity": 0.2
             }
            },
            "type": "bar"
           }
          ],
          "barpolar": [
           {
            "marker": {
             "line": {
              "color": "#E5ECF6",
              "width": 0.5
             },
             "pattern": {
              "fillmode": "overlay",
              "size": 10,
              "solidity": 0.2
             }
            },
            "type": "barpolar"
           }
          ],
          "carpet": [
           {
            "aaxis": {
             "endlinecolor": "#2a3f5f",
             "gridcolor": "white",
             "linecolor": "white",
             "minorgridcolor": "white",
             "startlinecolor": "#2a3f5f"
            },
            "baxis": {
             "endlinecolor": "#2a3f5f",
             "gridcolor": "white",
             "linecolor": "white",
             "minorgridcolor": "white",
             "startlinecolor": "#2a3f5f"
            },
            "type": "carpet"
           }
          ],
          "choropleth": [
           {
            "colorbar": {
             "outlinewidth": 0,
             "ticks": ""
            },
            "type": "choropleth"
           }
          ],
          "contour": [
           {
            "colorbar": {
             "outlinewidth": 0,
             "ticks": ""
            },
            "colorscale": [
             [
              0,
              "#0d0887"
             ],
             [
              0.1111111111111111,
              "#46039f"
             ],
             [
              0.2222222222222222,
              "#7201a8"
             ],
             [
              0.3333333333333333,
              "#9c179e"
             ],
             [
              0.4444444444444444,
              "#bd3786"
             ],
             [
              0.5555555555555556,
              "#d8576b"
             ],
             [
              0.6666666666666666,
              "#ed7953"
             ],
             [
              0.7777777777777778,
              "#fb9f3a"
             ],
             [
              0.8888888888888888,
              "#fdca26"
             ],
             [
              1,
              "#f0f921"
             ]
            ],
            "type": "contour"
           }
          ],
          "contourcarpet": [
           {
            "colorbar": {
             "outlinewidth": 0,
             "ticks": ""
            },
            "type": "contourcarpet"
           }
          ],
          "heatmap": [
           {
            "colorbar": {
             "outlinewidth": 0,
             "ticks": ""
            },
            "colorscale": [
             [
              0,
              "#0d0887"
             ],
             [
              0.1111111111111111,
              "#46039f"
             ],
             [
              0.2222222222222222,
              "#7201a8"
             ],
             [
              0.3333333333333333,
              "#9c179e"
             ],
             [
              0.4444444444444444,
              "#bd3786"
             ],
             [
              0.5555555555555556,
              "#d8576b"
             ],
             [
              0.6666666666666666,
              "#ed7953"
             ],
             [
              0.7777777777777778,
              "#fb9f3a"
             ],
             [
              0.8888888888888888,
              "#fdca26"
             ],
             [
              1,
              "#f0f921"
             ]
            ],
            "type": "heatmap"
           }
          ],
          "heatmapgl": [
           {
            "colorbar": {
             "outlinewidth": 0,
             "ticks": ""
            },
            "colorscale": [
             [
              0,
              "#0d0887"
             ],
             [
              0.1111111111111111,
              "#46039f"
             ],
             [
              0.2222222222222222,
              "#7201a8"
             ],
             [
              0.3333333333333333,
              "#9c179e"
             ],
             [
              0.4444444444444444,
              "#bd3786"
             ],
             [
              0.5555555555555556,
              "#d8576b"
             ],
             [
              0.6666666666666666,
              "#ed7953"
             ],
             [
              0.7777777777777778,
              "#fb9f3a"
             ],
             [
              0.8888888888888888,
              "#fdca26"
             ],
             [
              1,
              "#f0f921"
             ]
            ],
            "type": "heatmapgl"
           }
          ],
          "histogram": [
           {
            "marker": {
             "pattern": {
              "fillmode": "overlay",
              "size": 10,
              "solidity": 0.2
             }
            },
            "type": "histogram"
           }
          ],
          "histogram2d": [
           {
            "colorbar": {
             "outlinewidth": 0,
             "ticks": ""
            },
            "colorscale": [
             [
              0,
              "#0d0887"
             ],
             [
              0.1111111111111111,
              "#46039f"
             ],
             [
              0.2222222222222222,
              "#7201a8"
             ],
             [
              0.3333333333333333,
              "#9c179e"
             ],
             [
              0.4444444444444444,
              "#bd3786"
             ],
             [
              0.5555555555555556,
              "#d8576b"
             ],
             [
              0.6666666666666666,
              "#ed7953"
             ],
             [
              0.7777777777777778,
              "#fb9f3a"
             ],
             [
              0.8888888888888888,
              "#fdca26"
             ],
             [
              1,
              "#f0f921"
             ]
            ],
            "type": "histogram2d"
           }
          ],
          "histogram2dcontour": [
           {
            "colorbar": {
             "outlinewidth": 0,
             "ticks": ""
            },
            "colorscale": [
             [
              0,
              "#0d0887"
             ],
             [
              0.1111111111111111,
              "#46039f"
             ],
             [
              0.2222222222222222,
              "#7201a8"
             ],
             [
              0.3333333333333333,
              "#9c179e"
             ],
             [
              0.4444444444444444,
              "#bd3786"
             ],
             [
              0.5555555555555556,
              "#d8576b"
             ],
             [
              0.6666666666666666,
              "#ed7953"
             ],
             [
              0.7777777777777778,
              "#fb9f3a"
             ],
             [
              0.8888888888888888,
              "#fdca26"
             ],
             [
              1,
              "#f0f921"
             ]
            ],
            "type": "histogram2dcontour"
           }
          ],
          "mesh3d": [
           {
            "colorbar": {
             "outlinewidth": 0,
             "ticks": ""
            },
            "type": "mesh3d"
           }
          ],
          "parcoords": [
           {
            "line": {
             "colorbar": {
              "outlinewidth": 0,
              "ticks": ""
             }
            },
            "type": "parcoords"
           }
          ],
          "pie": [
           {
            "automargin": true,
            "type": "pie"
           }
          ],
          "scatter": [
           {
            "fillpattern": {
             "fillmode": "overlay",
             "size": 10,
             "solidity": 0.2
            },
            "type": "scatter"
           }
          ],
          "scatter3d": [
           {
            "line": {
             "colorbar": {
              "outlinewidth": 0,
              "ticks": ""
             }
            },
            "marker": {
             "colorbar": {
              "outlinewidth": 0,
              "ticks": ""
             }
            },
            "type": "scatter3d"
           }
          ],
          "scattercarpet": [
           {
            "marker": {
             "colorbar": {
              "outlinewidth": 0,
              "ticks": ""
             }
            },
            "type": "scattercarpet"
           }
          ],
          "scattergeo": [
           {
            "marker": {
             "colorbar": {
              "outlinewidth": 0,
              "ticks": ""
             }
            },
            "type": "scattergeo"
           }
          ],
          "scattergl": [
           {
            "marker": {
             "colorbar": {
              "outlinewidth": 0,
              "ticks": ""
             }
            },
            "type": "scattergl"
           }
          ],
          "scattermapbox": [
           {
            "marker": {
             "colorbar": {
              "outlinewidth": 0,
              "ticks": ""
             }
            },
            "type": "scattermapbox"
           }
          ],
          "scatterpolar": [
           {
            "marker": {
             "colorbar": {
              "outlinewidth": 0,
              "ticks": ""
             }
            },
            "type": "scatterpolar"
           }
          ],
          "scatterpolargl": [
           {
            "marker": {
             "colorbar": {
              "outlinewidth": 0,
              "ticks": ""
             }
            },
            "type": "scatterpolargl"
           }
          ],
          "scatterternary": [
           {
            "marker": {
             "colorbar": {
              "outlinewidth": 0,
              "ticks": ""
             }
            },
            "type": "scatterternary"
           }
          ],
          "surface": [
           {
            "colorbar": {
             "outlinewidth": 0,
             "ticks": ""
            },
            "colorscale": [
             [
              0,
              "#0d0887"
             ],
             [
              0.1111111111111111,
              "#46039f"
             ],
             [
              0.2222222222222222,
              "#7201a8"
             ],
             [
              0.3333333333333333,
              "#9c179e"
             ],
             [
              0.4444444444444444,
              "#bd3786"
             ],
             [
              0.5555555555555556,
              "#d8576b"
             ],
             [
              0.6666666666666666,
              "#ed7953"
             ],
             [
              0.7777777777777778,
              "#fb9f3a"
             ],
             [
              0.8888888888888888,
              "#fdca26"
             ],
             [
              1,
              "#f0f921"
             ]
            ],
            "type": "surface"
           }
          ],
          "table": [
           {
            "cells": {
             "fill": {
              "color": "#EBF0F8"
             },
             "line": {
              "color": "white"
             }
            },
            "header": {
             "fill": {
              "color": "#C8D4E3"
             },
             "line": {
              "color": "white"
             }
            },
            "type": "table"
           }
          ]
         },
         "layout": {
          "annotationdefaults": {
           "arrowcolor": "#2a3f5f",
           "arrowhead": 0,
           "arrowwidth": 1
          },
          "autotypenumbers": "strict",
          "coloraxis": {
           "colorbar": {
            "outlinewidth": 0,
            "ticks": ""
           }
          },
          "colorscale": {
           "diverging": [
            [
             0,
             "#8e0152"
            ],
            [
             0.1,
             "#c51b7d"
            ],
            [
             0.2,
             "#de77ae"
            ],
            [
             0.3,
             "#f1b6da"
            ],
            [
             0.4,
             "#fde0ef"
            ],
            [
             0.5,
             "#f7f7f7"
            ],
            [
             0.6,
             "#e6f5d0"
            ],
            [
             0.7,
             "#b8e186"
            ],
            [
             0.8,
             "#7fbc41"
            ],
            [
             0.9,
             "#4d9221"
            ],
            [
             1,
             "#276419"
            ]
           ],
           "sequential": [
            [
             0,
             "#0d0887"
            ],
            [
             0.1111111111111111,
             "#46039f"
            ],
            [
             0.2222222222222222,
             "#7201a8"
            ],
            [
             0.3333333333333333,
             "#9c179e"
            ],
            [
             0.4444444444444444,
             "#bd3786"
            ],
            [
             0.5555555555555556,
             "#d8576b"
            ],
            [
             0.6666666666666666,
             "#ed7953"
            ],
            [
             0.7777777777777778,
             "#fb9f3a"
            ],
            [
             0.8888888888888888,
             "#fdca26"
            ],
            [
             1,
             "#f0f921"
            ]
           ],
           "sequentialminus": [
            [
             0,
             "#0d0887"
            ],
            [
             0.1111111111111111,
             "#46039f"
            ],
            [
             0.2222222222222222,
             "#7201a8"
            ],
            [
             0.3333333333333333,
             "#9c179e"
            ],
            [
             0.4444444444444444,
             "#bd3786"
            ],
            [
             0.5555555555555556,
             "#d8576b"
            ],
            [
             0.6666666666666666,
             "#ed7953"
            ],
            [
             0.7777777777777778,
             "#fb9f3a"
            ],
            [
             0.8888888888888888,
             "#fdca26"
            ],
            [
             1,
             "#f0f921"
            ]
           ]
          },
          "colorway": [
           "#636efa",
           "#EF553B",
           "#00cc96",
           "#ab63fa",
           "#FFA15A",
           "#19d3f3",
           "#FF6692",
           "#B6E880",
           "#FF97FF",
           "#FECB52"
          ],
          "font": {
           "color": "#2a3f5f"
          },
          "geo": {
           "bgcolor": "white",
           "lakecolor": "white",
           "landcolor": "#E5ECF6",
           "showlakes": true,
           "showland": true,
           "subunitcolor": "white"
          },
          "hoverlabel": {
           "align": "left"
          },
          "hovermode": "closest",
          "mapbox": {
           "style": "light"
          },
          "paper_bgcolor": "white",
          "plot_bgcolor": "#E5ECF6",
          "polar": {
           "angularaxis": {
            "gridcolor": "white",
            "linecolor": "white",
            "ticks": ""
           },
           "bgcolor": "#E5ECF6",
           "radialaxis": {
            "gridcolor": "white",
            "linecolor": "white",
            "ticks": ""
           }
          },
          "scene": {
           "xaxis": {
            "backgroundcolor": "#E5ECF6",
            "gridcolor": "white",
            "gridwidth": 2,
            "linecolor": "white",
            "showbackground": true,
            "ticks": "",
            "zerolinecolor": "white"
           },
           "yaxis": {
            "backgroundcolor": "#E5ECF6",
            "gridcolor": "white",
            "gridwidth": 2,
            "linecolor": "white",
            "showbackground": true,
            "ticks": "",
            "zerolinecolor": "white"
           },
           "zaxis": {
            "backgroundcolor": "#E5ECF6",
            "gridcolor": "white",
            "gridwidth": 2,
            "linecolor": "white",
            "showbackground": true,
            "ticks": "",
            "zerolinecolor": "white"
           }
          },
          "shapedefaults": {
           "line": {
            "color": "#2a3f5f"
           }
          },
          "ternary": {
           "aaxis": {
            "gridcolor": "white",
            "linecolor": "white",
            "ticks": ""
           },
           "baxis": {
            "gridcolor": "white",
            "linecolor": "white",
            "ticks": ""
           },
           "bgcolor": "#E5ECF6",
           "caxis": {
            "gridcolor": "white",
            "linecolor": "white",
            "ticks": ""
           }
          },
          "title": {
           "x": 0.05
          },
          "xaxis": {
           "automargin": true,
           "gridcolor": "white",
           "linecolor": "white",
           "ticks": "",
           "title": {
            "standoff": 15
           },
           "zerolinecolor": "white",
           "zerolinewidth": 2
          },
          "yaxis": {
           "automargin": true,
           "gridcolor": "white",
           "linecolor": "white",
           "ticks": "",
           "title": {
            "standoff": 15
           },
           "zerolinecolor": "white",
           "zerolinewidth": 2
          }
         }
        },
        "title": {
         "text": "Train Line Filter with Color Gradient"
        },
        "updatemenus": [
         {
          "buttons": [
           {
            "args": [
             {
              "visible": [
               true,
               true,
               true,
               true,
               true,
               true
              ]
             },
             {
              "title": "All Train Lines"
             }
            ],
            "label": "All",
            "method": "update"
           },
           {
            "args": [
             {
              "visible": [
               true,
               false,
               false,
               false,
               false,
               false
              ]
             },
             {
              "title": "Train Line: Harlem"
             }
            ],
            "label": "Harlem",
            "method": "update"
           },
           {
            "args": [
             {
              "visible": [
               false,
               true,
               false,
               false,
               false,
               false
              ]
             },
             {
              "title": "Train Line: Hudson"
             }
            ],
            "label": "Hudson",
            "method": "update"
           },
           {
            "args": [
             {
              "visible": [
               false,
               false,
               true,
               false,
               false,
               false
              ]
             },
             {
              "title": "Train Line: New Haven"
             }
            ],
            "label": "New Haven",
            "method": "update"
           },
           {
            "args": [
             {
              "visible": [
               false,
               false,
               false,
               true,
               false,
               false
              ]
             },
             {
              "title": "Train Line: New Canaan"
             }
            ],
            "label": "New Canaan",
            "method": "update"
           },
           {
            "args": [
             {
              "visible": [
               false,
               false,
               false,
               false,
               true,
               false
              ]
             },
             {
              "title": "Train Line: Danbury"
             }
            ],
            "label": "Danbury",
            "method": "update"
           },
           {
            "args": [
             {
              "visible": [
               false,
               false,
               false,
               false,
               false,
               true
              ]
             },
             {
              "title": "Train Line: Waterbury"
             }
            ],
            "label": "Waterbury",
            "method": "update"
           }
          ],
          "direction": "down",
          "showactive": true
         }
        ],
        "xaxis": {
         "range": [
          0,
          86.96392484925882
         ],
         "title": {
          "text": "Distance (miles)"
         }
        },
        "yaxis": {
         "range": [
          0,
          144
         ],
         "title": {
          "text": "Travel Time (minutes)"
         }
        }
       }
      }
     },
     "metadata": {},
     "output_type": "display_data"
    }
   ],
   "source": [
    "df = pd.DataFrame(num_stops)\n",
    "df[\"travel_time\"] = df[\"travel_time\"] / 60  # Convert to hours\n",
    "\n",
    "global_min = df[\"number_of_stops\"].min()\n",
    "global_max = df[\"number_of_stops\"].max()\n",
    "xaxis_max = df['distance'].max() + 5\n",
    "yaxis_max = df['travel_time'].max() + 5\n",
    "# Get unique train lines\n",
    "train_lines = df[\"train_line\"].unique()\n",
    "\n",
    "# Create traces for each train line\n",
    "fig = go.Figure()\n",
    "\n",
    "# Define the colorscale for the gradient\n",
    "colorscale = px.colors.sequential.Plasma\n",
    "\n",
    "for line in train_lines:\n",
    "    filtered_df = df[df[\"train_line\"] == line]\n",
    "    fig.add_trace(\n",
    "        go.Scatter(\n",
    "            x=filtered_df[\"distance\"],\n",
    "            y=filtered_df[\"travel_time\"],\n",
    "            mode=\"markers\",\n",
    "            marker=dict(\n",
    "                color=filtered_df[\"number_of_stops\"], \n",
    "                colorscale=colorscale,\n",
    "                cmin=global_min,  \n",
    "                cmax=global_max,  \n",
    "                colorbar=dict(title=\"Number of Stops\") if line == train_lines[0] else None,\n",
    "            ),\n",
    "            name=line, \n",
    "            hovertext=filtered_df[\"train_label\"],\n",
    "            visible=True, \n",
    "        )\n",
    "    )\n",
    "\n",
    "# Add dropdown buttons\n",
    "buttons = [\n",
    "    dict(\n",
    "        label=line,\n",
    "        method=\"update\",\n",
    "        args=[\n",
    "            {\"visible\": [line == train for train in train_lines]}, \n",
    "            {\"title\": f\"Train Line: {line}\"},\n",
    "        ],\n",
    "    )\n",
    "    for line in train_lines\n",
    "]\n",
    "buttons.insert(\n",
    "    0,\n",
    "    dict(\n",
    "        label=\"All\",\n",
    "        method=\"update\",\n",
    "        args=[\n",
    "            {\"visible\": [True] * len(train_lines)},  \n",
    "            {\"title\": \"All Train Lines\"},\n",
    "        ],\n",
    "    )\n",
    ")\n",
    "\n",
    "# Update layout\n",
    "fig.update_layout(\n",
    "    updatemenus=[\n",
    "        dict(\n",
    "            buttons=buttons,\n",
    "            direction=\"down\",\n",
    "            showactive=True,\n",
    "        )\n",
    "    ],\n",
    "    title=\"Train Line Filter with Color Gradient\",\n",
    "    xaxis_range = [0,xaxis_max],\n",
    "    yaxis_range = [0,yaxis_max],\n",
    "    xaxis_title=\"Distance (miles)\",\n",
    "    yaxis_title=\"Travel Time (minutes)\",\n",
    "    height = 700,\n",
    "    showlegend=False\n",
    ")\n",
    "\n",
    "fig.show()\n"
   ]
  }
 ],
 "metadata": {
  "kernelspec": {
   "display_name": "Python 3",
   "language": "python",
   "name": "python3"
  },
  "language_info": {
   "codemirror_mode": {
    "name": "ipython",
    "version": 3
   },
   "file_extension": ".py",
   "mimetype": "text/x-python",
   "name": "python",
   "nbconvert_exporter": "python",
   "pygments_lexer": "ipython3",
   "version": "3.11.9"
  },
  "polyglot_notebook": {
   "kernelInfo": {
    "defaultKernelName": "csharp",
    "items": [
     {
      "aliases": [],
      "name": "csharp"
     }
    ]
   }
  }
 },
 "nbformat": 4,
 "nbformat_minor": 2
}
